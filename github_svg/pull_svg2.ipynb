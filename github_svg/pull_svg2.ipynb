{
 "cells": [
  {
   "cell_type": "code",
   "execution_count": 18,
   "id": "88850147-5593-43b1-a3b1-be6568c05854",
   "metadata": {},
   "outputs": [],
   "source": [
    "# install ipytree if its not already here...\n",
    "import sys\n",
    "import json\n",
    "import requests # performs the curl function in python\n",
    "from bs4 import BeautifulSoup\n",
    "import requests\n",
    "import pandas as pd"
   ]
  },
  {
   "cell_type": "code",
   "execution_count": 19,
   "id": "70e6f523-d171-4ea7-bc63-521dafccd53d",
   "metadata": {},
   "outputs": [
    {
     "name": "stderr",
     "output_type": "stream",
     "text": [
      "C:\\Users\\jdehart\\Anaconda3\\lib\\site-packages\\urllib3\\connectionpool.py:1045: InsecureRequestWarning: Unverified HTTPS request is being made to host 'github.com'. Adding certificate verification is strongly advised. See: https://urllib3.readthedocs.io/en/1.26.x/advanced-usage.html#ssl-warnings\n",
      "  warnings.warn(\n"
     ]
    }
   ],
   "source": [
    "# Lets get a list of users\n",
    "urlBase = 'https://github.com/avianinc/jupyter_demos/blob/main/API_Demo/sysmlv2_api/'\n",
    "urlModifier = 'dumb_model.ipynb'\n",
    "url = urlBase + urlModifier\n",
    "resp = requests.get(url, verify=False) # turn of verification here since our server is not super secure"
   ]
  },
  {
   "cell_type": "code",
   "execution_count": 20,
   "id": "16db1128-0999-46f8-858d-8cb563bfa1e8",
   "metadata": {},
   "outputs": [],
   "source": [
    "s = BeautifulSoup(resp.content, 'html.parser')"
   ]
  },
  {
   "cell_type": "code",
   "execution_count": 21,
   "id": "f1c10f01-c6fd-49d4-8a21-1fca8ad05f02",
   "metadata": {},
   "outputs": [],
   "source": [
    "nbData = []\n",
    "for text in s.find_all('iframe',{'class':'render-viewer'}):\n",
    "    b = text\n",
    "    nbData.append(b)"
   ]
  },
  {
   "cell_type": "code",
   "execution_count": 22,
   "id": "6e61119a-0181-4d02-9d7f-f300183f1aae",
   "metadata": {},
   "outputs": [],
   "source": [
    "response = nbData[0].attrs[\"src\"]"
   ]
  },
  {
   "cell_type": "code",
   "execution_count": 23,
   "id": "be40d642-f1fe-4fbb-a64c-1b436a8943d5",
   "metadata": {},
   "outputs": [
    {
     "data": {
      "text/plain": [
       "'https://notebooks.githubusercontent.com/view/ipynb?browser=unknown_browser&color_mode=auto&commit=743adb12c1cbbdf4bd4a6b904d471fcf999acde7&device=unknown_device&enc_url=68747470733a2f2f7261772e67697468756275736572636f6e74656e742e636f6d2f617669616e696e632f6a7570797465725f64656d6f732f373433616462313263316362626466346264346136623930346434373166636639393961636465372f4150495f44656d6f2f7379736d6c76325f6170692f64756d625f6d6f64656c2e6970796e62&logged_in=false&nwo=avianinc%2Fjupyter_demos&path=API_Demo%2Fsysmlv2_api%2Fdumb_model.ipynb&platform=unknown_platform&repository_id=429927356&repository_type=Repository&version=0#387a9f5d-9211-4a31-8e87-1b36ab567973'"
      ]
     },
     "execution_count": 23,
     "metadata": {},
     "output_type": "execute_result"
    }
   ],
   "source": [
    "response"
   ]
  },
  {
   "cell_type": "code",
   "execution_count": 25,
   "id": "5fd8a9f8-7346-434b-a141-920b453e3a62",
   "metadata": {},
   "outputs": [
    {
     "data": {
      "text/html": [
       "\n",
       "        <iframe\n",
       "            width=\"800\"\n",
       "            height=\"800\"\n",
       "            src=\"https://notebooks.githubusercontent.com/view/ipynb?browser=unknown_browser&color_mode=auto&commit=743adb12c1cbbdf4bd4a6b904d471fcf999acde7&device=unknown_device&enc_url=68747470733a2f2f7261772e67697468756275736572636f6e74656e742e636f6d2f617669616e696e632f6a7570797465725f64656d6f732f373433616462313263316362626466346264346136623930346434373166636639393961636465372f4150495f44656d6f2f7379736d6c76325f6170692f64756d625f6d6f64656c2e6970796e62&logged_in=false&nwo=avianinc%2Fjupyter_demos&path=API_Demo%2Fsysmlv2_api%2Fdumb_model.ipynb&platform=unknown_platform&repository_id=429927356&repository_type=Repository&version=0#387a9f5d-9211-4a31-8e87-1b36ab567973\"\n",
       "            frameborder=\"0\"\n",
       "            allowfullscreen\n",
       "            \n",
       "        ></iframe>\n",
       "        "
      ],
      "text/plain": [
       "<IPython.lib.display.IFrame at 0x2cae4cb8790>"
      ]
     },
     "execution_count": 25,
     "metadata": {},
     "output_type": "execute_result"
    }
   ],
   "source": [
    "from IPython.display import IFrame\n",
    "IFrame(src=response, width=800, height=800)"
   ]
  },
  {
   "cell_type": "code",
   "execution_count": null,
   "id": "e89e6666-31c5-4ae2-b2ce-6cd6e1f953cb",
   "metadata": {},
   "outputs": [],
   "source": []
  }
 ],
 "metadata": {
  "kernelspec": {
   "display_name": "Python 3 (ipykernel)",
   "language": "python",
   "name": "python3"
  },
  "language_info": {
   "codemirror_mode": {
    "name": "ipython",
    "version": 3
   },
   "file_extension": ".py",
   "mimetype": "text/x-python",
   "name": "python",
   "nbconvert_exporter": "python",
   "pygments_lexer": "ipython3",
   "version": "3.9.7"
  }
 },
 "nbformat": 4,
 "nbformat_minor": 5
}
