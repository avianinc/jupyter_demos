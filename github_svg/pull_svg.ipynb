{
 "cells": [
  {
   "cell_type": "code",
   "execution_count": 53,
   "id": "88850147-5593-43b1-a3b1-be6568c05854",
   "metadata": {},
   "outputs": [],
   "source": [
    "# install ipytree if its not already here...\n",
    "import sys\n",
    "import json\n",
    "import requests # performs the curl function in python\n",
    "from bs4 import BeautifulSoup\n",
    "import requests\n",
    "import pandas as pd"
   ]
  },
  {
   "cell_type": "code",
   "execution_count": 54,
   "id": "70e6f523-d171-4ea7-bc63-521dafccd53d",
   "metadata": {},
   "outputs": [
    {
     "name": "stderr",
     "output_type": "stream",
     "text": [
      "C:\\Users\\jdehart\\Anaconda3\\envs\\sysmlv2\\lib\\site-packages\\urllib3\\connectionpool.py:1045: InsecureRequestWarning: Unverified HTTPS request is being made to host 'github.com'. Adding certificate verification is strongly advised. See: https://urllib3.readthedocs.io/en/1.26.x/advanced-usage.html#ssl-warnings\n",
      "  warnings.warn(\n"
     ]
    }
   ],
   "source": [
    "# Lets get a list of users\n",
    "urlBase = 'https://github.com/avianinc/jupyter_demos/blob/main/API_Demo/sysmlv2_api/'\n",
    "urlModifier = 'dumb_model.ipynb'\n",
    "url = urlBase + urlModifier\n",
    "resp = requests.get(url, verify=False) # turn of verification here since our server is not super secure"
   ]
  },
  {
   "cell_type": "code",
   "execution_count": 55,
   "id": "16db1128-0999-46f8-858d-8cb563bfa1e8",
   "metadata": {},
   "outputs": [],
   "source": [
    "s = BeautifulSoup(resp.content, 'html.parser')"
   ]
  },
  {
   "cell_type": "code",
   "execution_count": 56,
   "id": "f1c10f01-c6fd-49d4-8a21-1fca8ad05f02",
   "metadata": {},
   "outputs": [],
   "source": [
    "nbData = []\n",
    "for text in s.find_all('iframe',{'class':'render-viewer'}):\n",
    "    b = text\n",
    "    nbData.append(b)"
   ]
  },
  {
   "cell_type": "code",
   "execution_count": 57,
   "id": "6e61119a-0181-4d02-9d7f-f300183f1aae",
   "metadata": {},
   "outputs": [],
   "source": [
    "response = nbData[0].attrs[\"src\"]"
   ]
  },
  {
   "cell_type": "code",
   "execution_count": 58,
   "id": "be40d642-f1fe-4fbb-a64c-1b436a8943d5",
   "metadata": {},
   "outputs": [
    {
     "data": {
      "text/plain": [
       "'https://notebooks.githubusercontent.com/view/ipynb?browser=unknown_browser&color_mode=auto&commit=745a1ab4bfe18205145ec46a4db4b2b0baa0ecf4&device=unknown_device&enc_url=68747470733a2f2f7261772e67697468756275736572636f6e74656e742e636f6d2f617669616e696e632f6a7570797465725f64656d6f732f373435613161623462666531383230353134356563343661346462346232623062616130656366342f4150495f44656d6f2f7379736d6c76325f6170692f64756d625f6d6f64656c2e6970796e62&logged_in=false&nwo=avianinc%2Fjupyter_demos&path=API_Demo%2Fsysmlv2_api%2Fdumb_model.ipynb&platform=unknown_platform&repository_id=429927356&repository_type=Repository&version=0#2d0e26e5-896c-4e0a-b074-6e666206d5fb'"
      ]
     },
     "execution_count": 58,
     "metadata": {},
     "output_type": "execute_result"
    }
   ],
   "source": [
    "response"
   ]
  },
  {
   "cell_type": "code",
   "execution_count": 59,
   "id": "5fd8a9f8-7346-434b-a141-920b453e3a62",
   "metadata": {},
   "outputs": [
    {
     "data": {
      "text/html": [
       "\n",
       "        <iframe\n",
       "            width=\"800\"\n",
       "            height=\"800\"\n",
       "            src=\"https://notebooks.githubusercontent.com/view/ipynb?browser=unknown_browser&color_mode=auto&commit=745a1ab4bfe18205145ec46a4db4b2b0baa0ecf4&device=unknown_device&enc_url=68747470733a2f2f7261772e67697468756275736572636f6e74656e742e636f6d2f617669616e696e632f6a7570797465725f64656d6f732f373435613161623462666531383230353134356563343661346462346232623062616130656366342f4150495f44656d6f2f7379736d6c76325f6170692f64756d625f6d6f64656c2e6970796e62&logged_in=false&nwo=avianinc%2Fjupyter_demos&path=API_Demo%2Fsysmlv2_api%2Fdumb_model.ipynb&platform=unknown_platform&repository_id=429927356&repository_type=Repository&version=0#2d0e26e5-896c-4e0a-b074-6e666206d5fb\"\n",
       "            frameborder=\"0\"\n",
       "            allowfullscreen\n",
       "            \n",
       "        ></iframe>\n",
       "        "
      ],
      "text/plain": [
       "<IPython.lib.display.IFrame at 0x21e7ea078e0>"
      ]
     },
     "execution_count": 59,
     "metadata": {},
     "output_type": "execute_result"
    }
   ],
   "source": [
    "from IPython.display import IFrame\n",
    "IFrame(src=response, width=800, height=800)"
   ]
  },
  {
   "cell_type": "code",
   "execution_count": 8,
   "id": "e89e6666-31c5-4ae2-b2ce-6cd6e1f953cb",
   "metadata": {},
   "outputs": [
    {
     "name": "stderr",
     "output_type": "stream",
     "text": [
      "C:\\Users\\jdehart\\Anaconda3\\envs\\sysmlv2\\lib\\site-packages\\urllib3\\connectionpool.py:1045: InsecureRequestWarning: Unverified HTTPS request is being made to host 'notebooks.githubusercontent.com'. Adding certificate verification is strongly advised. See: https://urllib3.readthedocs.io/en/1.26.x/advanced-usage.html#ssl-warnings\n",
      "  warnings.warn(\n"
     ]
    }
   ],
   "source": [
    "raw_resp = requests.get(response, verify=False) # turn of verification here since our server is not super secure"
   ]
  },
  {
   "cell_type": "code",
   "execution_count": 13,
   "id": "23cb7a06-3aeb-4a63-a7c5-8632fa3f9405",
   "metadata": {},
   "outputs": [],
   "source": [
    "s1 = BeautifulSoup(raw_resp.content, 'html.parser')"
   ]
  },
  {
   "cell_type": "code",
   "execution_count": 18,
   "id": "5b4c25a7-651d-4472-98a9-bca160f5116c",
   "metadata": {},
   "outputs": [],
   "source": [
    "nbData1 = []\n",
    "for text in s1.find_all('body',{'class':'jp-Notebook'}):\n",
    "    b = text\n",
    "    nbData1.append(b)"
   ]
  },
  {
   "cell_type": "code",
   "execution_count": 39,
   "id": "29d58252-17ca-4fb7-979b-3aa2410be79b",
   "metadata": {},
   "outputs": [],
   "source": [
    "s2 = nbData1[0]\n",
    "nbData2 = []\n",
    "for text in s2.find_all('script'):\n",
    "    b = text\n",
    "    nbData2.append(b)"
   ]
  },
  {
   "cell_type": "code",
   "execution_count": 52,
   "id": "4b0e3616-23c1-42ed-8c2b-43f07b650687",
   "metadata": {},
   "outputs": [
    {
     "data": {
      "text/plain": [
       "<script nonce=\"UdYrOYNsxNwqGCiw2uzVDg\">\n",
       "      window.NOTEBOOK_DATA = {\"html\": \"<html><body><div><div class=\\\"jp-Cell jp-CodeCell jp-Notebook-cell   \\\">\\n<div class=\\\"jp-Cell-inputWrapper\\\">\\n<div class=\\\"jp-Collapser jp-InputCollapser jp-Cell-inputCollapser\\\">\\n</div>\\n<div class=\\\"jp-InputArea jp-Cell-inputArea\\\">\\n<div class=\\\"jp-InputPrompt jp-InputArea-prompt\\\">In&#160;[1]:</div>\\n<div class=\\\"jp-CodeMirrorEditor jp-Editor jp-InputArea-editor\\\" data-type=\\\"inline\\\">\\n     <div class=\\\"CodeMirror cm-s-jupyter\\\">\\n<div class=\\\" highlight hl-java\\\"><pre><span></span><span class=\\\"kn\\\">package</span><span class=\\\"w\\\"> </span><span class=\\\"nn\\\">SimpleSystem</span><span class=\\\"w\\\"> </span><span class=\\\"p\\\">{</span>\\n\\n<span class=\\\"w\\\">    </span><span class=\\\"kn\\\">import</span><span class=\\\"w\\\"> </span><span class=\\\"nn\\\">ScalarValues</span><span class=\\\"p\\\">::</span><span class=\\\"o\\\">*</span><span class=\\\"p\\\">;</span>\\n<span class=\\\"w\\\">    </span>\\n<span class=\\\"w\\\">    </span><span class=\\\"n\\\">part</span><span class=\\\"w\\\"> </span><span class=\\\"n\\\">def</span><span class=\\\"w\\\"> </span><span class=\\\"n\\\">partWithMass</span><span class=\\\"w\\\"> </span><span class=\\\"p\\\">{</span>\\n<span class=\\\"w\\\">        </span><span class=\\\"n\\\">attribute</span><span class=\\\"w\\\"> </span><span class=\\\"n\\\">mass</span><span class=\\\"p\\\">:</span><span class=\\\"n\\\">Real</span><span class=\\\"p\\\">;</span>\\n<span class=\\\"w\\\">    </span><span class=\\\"p\\\">}</span>\\n\\n<span class=\\\"w\\\">    </span><span class=\\\"n\\\">part</span><span class=\\\"w\\\"> </span><span class=\\\"n\\\">partA</span><span class=\\\"p\\\">:</span><span class=\\\"n\\\">partWithMass</span><span class=\\\"w\\\"> </span><span class=\\\"p\\\">{</span>\\n<span class=\\\"w\\\">        </span><span class=\\\"n\\\">part</span><span class=\\\"w\\\"> </span><span class=\\\"n\\\">partB</span><span class=\\\"p\\\">:</span><span class=\\\"n\\\">partWithMass</span><span class=\\\"o\\\">[</span><span class=\\\"mf\\\">1.</span><span class=\\\"p\\\">.</span><span class=\\\"o\\\">*]</span><span class=\\\"p\\\">;</span>\\n<span class=\\\"w\\\">        </span><span class=\\\"n\\\">part</span><span class=\\\"w\\\"> </span><span class=\\\"n\\\">partC</span><span class=\\\"p\\\">:</span><span class=\\\"n\\\">partWithMass</span><span class=\\\"o\\\">[</span><span class=\\\"mf\\\">1..2</span><span class=\\\"o\\\">]</span><span class=\\\"p\\\">{</span>\\n<span class=\\\"w\\\">            </span><span class=\\\"n\\\">part</span><span class=\\\"w\\\"> </span><span class=\\\"n\\\">partC</span><span class=\\\"p\\\">:</span><span class=\\\"n\\\">partWithMass</span><span class=\\\"o\\\">[</span><span class=\\\"mf\\\">1..2</span><span class=\\\"o\\\">]</span><span class=\\\"p\\\">;</span>\\n<span class=\\\"w\\\">            </span><span class=\\\"n\\\">part</span><span class=\\\"w\\\"> </span><span class=\\\"n\\\">partD</span><span class=\\\"p\\\">:</span><span class=\\\"n\\\">partWithMass</span><span class=\\\"o\\\">[</span><span class=\\\"mf\\\">1..2</span><span class=\\\"o\\\">]</span><span class=\\\"p\\\">;</span>\\n<span class=\\\"w\\\">        </span><span class=\\\"p\\\">}</span>\\n<span class=\\\"w\\\">    </span><span class=\\\"p\\\">}</span>\\n<span class=\\\"p\\\">}</span>\\n</pre></div>\\n\\n     </div>\\n</div>\\n</div>\\n</div>\\n\\n<div class=\\\"jp-Cell-outputWrapper\\\">\\n<div class=\\\"jp-Collapser jp-OutputCollapser jp-Cell-outputCollapser\\\">\\n</div>\\n\\n\\n<div class=\\\"jp-OutputArea jp-Cell-outputArea\\\">\\n<div class=\\\"jp-OutputArea-child jp-OutputArea-executeResult\\\">\\n    \\n    <div class=\\\"jp-OutputPrompt jp-OutputArea-prompt\\\">Out[1]:</div>\\n\\n\\n\\n\\n<div class=\\\"jp-RenderedText jp-OutputArea-output jp-OutputArea-executeResult\\\" data-mime-type=\\\"text/plain\\\">\\n<pre>Package SimpleSystem (bb0a546c-663a-4e60-b7c5-8132895b4c33)\\n</pre>\\n</div>\\n\\n</div>\\n\\n</div>\\n\\n</div>\\n\\n</div><div class=\\\"jp-Cell jp-CodeCell jp-Notebook-cell   \\\">\\n<div class=\\\"jp-Cell-inputWrapper\\\">\\n<div class=\\\"jp-Collapser jp-InputCollapser jp-Cell-inputCollapser\\\">\\n</div>\\n<div class=\\\"jp-InputArea jp-Cell-inputArea\\\">\\n<div class=\\\"jp-InputPrompt jp-InputArea-prompt\\\">In&#160;[2]:</div>\\n<div class=\\\"jp-CodeMirrorEditor jp-Editor jp-InputArea-editor\\\" data-type=\\\"inline\\\">\\n     <div class=\\\"CodeMirror cm-s-jupyter\\\">\\n<div class=\\\" highlight hl-java\\\"><pre><span></span><span class=\\\"o\\\">%</span><span class=\\\"n\\\">viz</span><span class=\\\"w\\\"> </span><span class=\\\"n\\\">SimpleSystem</span>\\n</pre></div>\\n\\n     </div>\\n</div>\\n</div>\\n</div>\\n\\n<div class=\\\"jp-Cell-outputWrapper\\\">\\n<div class=\\\"jp-Collapser jp-OutputCollapser jp-Cell-outputCollapser\\\">\\n</div>\\n\\n\\n<div class=\\\"jp-OutputArea jp-Cell-outputArea\\\">\\n<div class=\\\"jp-OutputArea-child jp-OutputArea-executeResult\\\">\\n    \\n    <div class=\\\"jp-OutputPrompt jp-OutputArea-prompt\\\">Out[2]:</div>\\n\\n\\n\\n<div class=\\\"jp-RenderedSVG jp-OutputArea-output jp-OutputArea-executeResult\\\" data-mime-type=\\\"image/svg+xml\\\">\\nb'<svg xmlns=\\\"http://www.w3.org/2000/svg\\\" xmlns:xlink=\\\"http://www.w3.org/1999/xlink\\\" contentstyletype=\\\"text/css\\\" height=\\\"477px\\\" preserveaspectratio=\\\"none\\\" style=\\\"width:490px;height:477px;background:#FFFFFF;\\\" version=\\\"1.1\\\" viewbox=\\\"0 0 490 477\\\" width=\\\"490px\\\" zoomandpan=\\\"magnify\\\"><defs></defs><g><g id=\\\"cluster_E1\\\"><a href=\\\"//github.com/avianinc/jupyter_demos/blob/1b73b0e6fbb8439a7731f382c556f7838bb0c672/API_Demo/sysmlv2_api/psysml:bb0a546c-663a-4e60-b7c5-8132895b4c33\\\" target=\\\"_top\\\" title=\\\"psysml:bb0a546c-663a-4e60-b7c5-8132895b4c33\\\" xlink:actuate=\\\"onRequest\\\" xlink:href=\\\"psysml:bb0a546c-663a-4e60-b7c5-8132895b4c33\\\" xlink:show=\\\"new\\\" xlink:title=\\\"psysml:bb0a546c-663a-4e60-b7c5-8132895b4c33\\\" xlink:type=\\\"simple\\\"><polygon fill=\\\"none\\\" points=\\\"16,6,119,6,126,29.6094,473,29.6094,473,470,16,470,16,6\\\" style=\\\"stroke:#000000;stroke-width:1.5;\\\"></polygon><line style=\\\"stroke:#000000;stroke-width:1.5;\\\" x1=\\\"16\\\" x2=\\\"126\\\" y1=\\\"29.6094\\\" y2=\\\"29.6094\\\"></line><text fill=\\\"#000000\\\" font-family=\\\"sans-serif\\\" font-size=\\\"14\\\" font-weight=\\\"bold\\\" lengthadjust=\\\"spacing\\\" textlength=\\\"97\\\" x=\\\"20\\\" y=\\\"22.5332\\\">SimpleSystem</text></a></g><a href=\\\"//github.com/avianinc/jupyter_demos/blob/1b73b0e6fbb8439a7731f382c556f7838bb0c672/API_Demo/sysmlv2_api/psysml:0d874363-2279-4616-b31a-9c40cdcc9d96\\\" target=\\\"_top\\\" title=\\\"psysml:0d874363-2279-4616-b31a-9c40cdcc9d96\\\" xlink:actuate=\\\"onRequest\\\" xlink:href=\\\"psysml:0d874363-2279-4616-b31a-9c40cdcc9d96\\\" xlink:show=\\\"new\\\" xlink:title=\\\"psysml:0d874363-2279-4616-b31a-9c40cdcc9d96\\\" xlink:type=\\\"simple\\\"><g id=\\\"elem_E2\\\"><rect fill=\\\"#FFFFFF\\\" height=\\\"79.3563\\\" id=\\\"E2\\\" style=\\\"stroke:#181818;stroke-width:0.5;\\\" width=\\\"92\\\" x=\\\"61\\\" y=\\\"375\\\"></rect><text fill=\\\"#000000\\\" font-family=\\\"sans-serif\\\" font-size=\\\"12\\\" font-style=\\\"italic\\\" lengthadjust=\\\"spacing\\\" textlength=\\\"58\\\" x=\\\"78\\\" y=\\\"392.457\\\">\\\\xc2\\\\xabpart  def\\\\xc2\\\\xbb</text><text fill=\\\"#000000\\\" font-family=\\\"sans-serif\\\" font-size=\\\"14\\\" lengthadjust=\\\"spacing\\\" textlength=\\\"86\\\" x=\\\"64\\\" y=\\\"409.627\\\">partWithMass</text><line style=\\\"stroke:#181818;stroke-width:0.5;\\\" x1=\\\"62\\\" x2=\\\"152\\\" y1=\\\"417.7031\\\" y2=\\\"417.7031\\\"></line><text fill=\\\"#000000\\\" font-family=\\\"sans-serif\\\" font-size=\\\"14\\\" lengthadjust=\\\"spacing\\\" textlength=\\\"70\\\" x=\\\"67\\\" y=\\\"447.2801\\\">mass: Real</text><text fill=\\\"#000000\\\" font-family=\\\"sans-serif\\\" font-size=\\\"14\\\" font-style=\\\"italic\\\" lengthadjust=\\\"spacing\\\" textlength=\\\"59\\\" x=\\\"77.5\\\" y=\\\"430.9316\\\">attributes</text></g></a><a href=\\\"//github.com/avianinc/jupyter_demos/blob/1b73b0e6fbb8439a7731f382c556f7838bb0c672/API_Demo/sysmlv2_api/psysml:0610a039-65a3-45f8-a5e7-7118a0128bc0\\\" target=\\\"_top\\\" title=\\\"psysml:0610a039-65a3-45f8-a5e7-7118a0128bc0\\\" xlink:actuate=\\\"onRequest\\\" xlink:href=\\\"psysml:0610a039-65a3-45f8-a5e7-7118a0128bc0\\\" xlink:show=\\\"new\\\" xlink:title=\\\"psysml:0610a039-65a3-45f8-a5e7-7118a0128bc0\\\" xlink:type=\\\"simple\\\"><g id=\\\"elem_E3\\\"><rect fill=\\\"#FFFFFF\\\" height=\\\"50.7031\\\" id=\\\"E3\\\" rx=\\\"10\\\" ry=\\\"10\\\" style=\\\"stroke:#181818;stroke-width:0.5;\\\" width=\\\"138\\\" x=\\\"69\\\" y=\\\"42\\\"></rect><text fill=\\\"#000000\\\" font-family=\\\"sans-serif\\\" font-size=\\\"12\\\" font-style=\\\"italic\\\" lengthadjust=\\\"spacing\\\" textlength=\\\"35\\\" x=\\\"120.5\\\" y=\\\"59.457\\\">\\\\xc2\\\\xabpart\\\\xc2\\\\xbb</text><text fill=\\\"#000000\\\" font-family=\\\"sans-serif\\\" font-size=\\\"14\\\" lengthadjust=\\\"spacing\\\" textlength=\\\"128\\\" x=\\\"72\\\" y=\\\"76.627\\\">partA: partWithMass</text><line style=\\\"stroke:#181818;stroke-width:0.5;\\\" x1=\\\"70\\\" x2=\\\"206\\\" y1=\\\"84.7031\\\" y2=\\\"84.7031\\\"></line></g></a><a href=\\\"//github.com/avianinc/jupyter_demos/blob/1b73b0e6fbb8439a7731f382c556f7838bb0c672/API_Demo/sysmlv2_api/psysml:83297959-2c63-4d5f-b845-dcf22b537328\\\" target=\\\"_top\\\" title=\\\"psysml:83297959-2c63-4d5f-b845-dcf22b537328\\\" xlink:actuate=\\\"onRequest\\\" xlink:href=\\\"psysml:83297959-2c63-4d5f-b845-dcf22b537328\\\" xlink:show=\\\"new\\\" xlink:title=\\\"psysml:83297959-2c63-4d5f-b845-dcf22b537328\\\" xlink:type=\\\"simple\\\"><g id=\\\"elem_E4\\\"><rect fill=\\\"#FFFFFF\\\" height=\\\"50.7031\\\" id=\\\"E4\\\" rx=\\\"10\\\" ry=\\\"10\\\" style=\\\"stroke:#181818;stroke-width:0.5;\\\" width=\\\"138\\\" x=\\\"69\\\" y=\\\"153\\\"></rect><text fill=\\\"#000000\\\" font-family=\\\"sans-serif\\\" font-size=\\\"12\\\" font-style=\\\"italic\\\" lengthadjust=\\\"spacing\\\" textlength=\\\"35\\\" x=\\\"120.5\\\" y=\\\"170.457\\\">\\\\xc2\\\\xabpart\\\\xc2\\\\xbb</text><text fill=\\\"#000000\\\" font-family=\\\"sans-serif\\\" font-size=\\\"14\\\" lengthadjust=\\\"spacing\\\" textlength=\\\"128\\\" x=\\\"72\\\" y=\\\"187.627\\\">partB: partWithMass</text><line style=\\\"stroke:#181818;stroke-width:0.5;\\\" x1=\\\"70\\\" x2=\\\"206\\\" y1=\\\"195.7031\\\" y2=\\\"195.7031\\\"></line></g></a><a href=\\\"//github.com/avianinc/jupyter_demos/blob/1b73b0e6fbb8439a7731f382c556f7838bb0c672/API_Demo/sysmlv2_api/psysml:5327fb7d-da77-42af-90d3-768a44aa6b08\\\" target=\\\"_top\\\" title=\\\"psysml:5327fb7d-da77-42af-90d3-768a44aa6b08\\\" xlink:actuate=\\\"onRequest\\\" xlink:href=\\\"psysml:5327fb7d-da77-42af-90d3-768a44aa6b08\\\" xlink:show=\\\"new\\\" xlink:title=\\\"psysml:5327fb7d-da77-42af-90d3-768a44aa6b08\\\" xlink:type=\\\"simple\\\"><g id=\\\"elem_E5\\\"><rect fill=\\\"#FFFFFF\\\" height=\\\"50.7031\\\" id=\\\"E5\\\" rx=\\\"10\\\" ry=\\\"10\\\" style=\\\"stroke:#181818;stroke-width:0.5;\\\" width=\\\"139\\\" x=\\\"242.5\\\" y=\\\"153\\\"></rect><text fill=\\\"#000000\\\" font-family=\\\"sans-serif\\\" font-size=\\\"12\\\" font-style=\\\"italic\\\" lengthadjust=\\\"spacing\\\" textlength=\\\"35\\\" x=\\\"294.5\\\" y=\\\"170.457\\\">\\\\xc2\\\\xabpart\\\\xc2\\\\xbb</text><text fill=\\\"#000000\\\" font-family=\\\"sans-serif\\\" font-size=\\\"14\\\" lengthadjust=\\\"spacing\\\" textlength=\\\"129\\\" x=\\\"245.5\\\" y=\\\"187.627\\\">partC: partWithMass</text><line style=\\\"stroke:#181818;stroke-width:0.5;\\\" x1=\\\"243.5\\\" x2=\\\"380.5\\\" y1=\\\"195.7031\\\" y2=\\\"195.7031\\\"></line></g></a><a href=\\\"//github.com/avianinc/jupyter_demos/blob/1b73b0e6fbb8439a7731f382c556f7838bb0c672/API_Demo/sysmlv2_api/psysml:9faf8ca0-8ffb-4d0b-8eb8-ab8c1c08f093\\\" target=\\\"_top\\\" title=\\\"psysml:9faf8ca0-8ffb-4d0b-8eb8-ab8c1c08f093\\\" xlink:actuate=\\\"onRequest\\\" xlink:href=\\\"psysml:9faf8ca0-8ffb-4d0b-8eb8-ab8c1c08f093\\\" xlink:show=\\\"new\\\" xlink:title=\\\"psysml:9faf8ca0-8ffb-4d0b-8eb8-ab8c1c08f093\\\" xlink:type=\\\"simple\\\"><g id=\\\"elem_E6\\\"><rect fill=\\\"#FFFFFF\\\" height=\\\"50.7031\\\" id=\\\"E6\\\" rx=\\\"10\\\" ry=\\\"10\\\" style=\\\"stroke:#181818;stroke-width:0.5;\\\" width=\\\"139\\\" x=\\\"143.5\\\" y=\\\"264\\\"></rect><text fill=\\\"#000000\\\" font-family=\\\"sans-serif\\\" font-size=\\\"12\\\" font-style=\\\"italic\\\" lengthadjust=\\\"spacing\\\" textlength=\\\"35\\\" x=\\\"195.5\\\" y=\\\"281.457\\\">\\\\xc2\\\\xabpart\\\\xc2\\\\xbb</text><text fill=\\\"#000000\\\" font-family=\\\"sans-serif\\\" font-size=\\\"14\\\" lengthadjust=\\\"spacing\\\" textlength=\\\"129\\\" x=\\\"146.5\\\" y=\\\"298.627\\\">partC: partWithMass</text><line style=\\\"stroke:#181818;stroke-width:0.5;\\\" x1=\\\"144.5\\\" x2=\\\"281.5\\\" y1=\\\"306.7031\\\" y2=\\\"306.7031\\\"></line></g></a><a href=\\\"//github.com/avianinc/jupyter_demos/blob/1b73b0e6fbb8439a7731f382c556f7838bb0c672/API_Demo/sysmlv2_api/psysml:160e6ca8-f8e6-4aaa-a3c8-f01b9fef1a40\\\" target=\\\"_top\\\" title=\\\"psysml:160e6ca8-f8e6-4aaa-a3c8-f01b9fef1a40\\\" xlink:actuate=\\\"onRequest\\\" xlink:href=\\\"psysml:160e6ca8-f8e6-4aaa-a3c8-f01b9fef1a40\\\" xlink:show=\\\"new\\\" xlink:title=\\\"psysml:160e6ca8-f8e6-4aaa-a3c8-f01b9fef1a40\\\" xlink:type=\\\"simple\\\"><g id=\\\"elem_E7\\\"><rect fill=\\\"#FFFFFF\\\" height=\\\"50.7031\\\" id=\\\"E7\\\" rx=\\\"10\\\" ry=\\\"10\\\" style=\\\"stroke:#181818;stroke-width:0.5;\\\" width=\\\"139\\\" x=\\\"317.5\\\" y=\\\"264\\\"></rect><text fill=\\\"#000000\\\" font-family=\\\"sans-serif\\\" font-size=\\\"12\\\" font-style=\\\"italic\\\" lengthadjust=\\\"spacing\\\" textlength=\\\"35\\\" x=\\\"369.5\\\" y=\\\"281.457\\\">\\\\xc2\\\\xabpart\\\\xc2\\\\xbb</text><text fill=\\\"#000000\\\" font-family=\\\"sans-serif\\\" font-size=\\\"14\\\" lengthadjust=\\\"spacing\\\" textlength=\\\"129\\\" x=\\\"320.5\\\" y=\\\"298.627\\\">partD: partWithMass</text><line style=\\\"stroke:#181818;stroke-width:0.5;\\\" x1=\\\"318.5\\\" x2=\\\"455.5\\\" y1=\\\"306.7031\\\" y2=\\\"306.7031\\\"></line></g></a><g id=\\\"link_E3_E2\\\"><a href=\\\"//github.com/avianinc/jupyter_demos/blob/1b73b0e6fbb8439a7731f382c556f7838bb0c672/API_Demo/sysmlv2_api/psysml:dee92794-2159-4130-b17e-c1a0e010fba9\\\" target=\\\"_top\\\" title=\\\"psysml:dee92794-2159-4130-b17e-c1a0e010fba9\\\" xlink:actuate=\\\"onRequest\\\" xlink:href=\\\"psysml:dee92794-2159-4130-b17e-c1a0e010fba9\\\" xlink:show=\\\"new\\\" xlink:title=\\\"psysml:dee92794-2159-4130-b17e-c1a0e010fba9\\\" xlink:type=\\\"simple\\\"><path d=\\\"M101.02,93.19 C82.23,108.04 61.25,128.76 51,153 C22.78,219.74 50.07,302.34 75.49,356.4 \\\" fill=\\\"none\\\" id=\\\"E3-to-E2\\\" style=\\\"stroke:#181818;stroke-width:1.0;\\\"></path><polygon fill=\\\"#FFFFFF\\\" points=\\\"84.49,374.61,69.7986,360.6758,82.3504,354.4749,84.49,374.61\\\" style=\\\"stroke:#181818;stroke-width:1.0;\\\"></polygon><ellipse cx=\\\"69.067\\\" cy=\\\"354.6796\\\" fill=\\\"#181818\\\" rx=\\\"2\\\" ry=\\\"2\\\" style=\\\"stroke:#181818;stroke-width:1.0;\\\"></ellipse><ellipse cx=\\\"78.0326\\\" cy=\\\"350.2504\\\" fill=\\\"#181818\\\" rx=\\\"2\\\" ry=\\\"2\\\" style=\\\"stroke:#181818;stroke-width:1.0;\\\"></ellipse></a></g><g id=\\\"link_E3_E4\\\"><a href=\\\"//github.com/avianinc/jupyter_demos/blob/1b73b0e6fbb8439a7731f382c556f7838bb0c672/API_Demo/sysmlv2_api/psysml:352f9c8f-6bc2-4dd0-b333-52b639c40632\\\" target=\\\"_top\\\" title=\\\"psysml:352f9c8f-6bc2-4dd0-b333-52b639c40632\\\" xlink:actuate=\\\"onRequest\\\" xlink:href=\\\"psysml:352f9c8f-6bc2-4dd0-b333-52b639c40632\\\" xlink:show=\\\"new\\\" xlink:title=\\\"psysml:352f9c8f-6bc2-4dd0-b333-52b639c40632\\\" xlink:type=\\\"simple\\\"><path d=\\\"M138,106.63 C138,121.97 138,139.22 138,152.86 \\\" fill=\\\"none\\\" id=\\\"E3-backto-E4\\\" style=\\\"stroke:#181818;stroke-width:1.0;\\\"></path><polygon fill=\\\"#181818\\\" points=\\\"138,93.23,134,99.23,138,105.23,142,99.23,138,93.23\\\" style=\\\"stroke:#181818;stroke-width:1.0;\\\"></polygon><text fill=\\\"#000000\\\" font-family=\\\"sans-serif\\\" font-size=\\\"13\\\" lengthadjust=\\\"spacing\\\" textlength=\\\"20\\\" x=\\\"115.5625\\\" y=\\\"142.2344\\\">1..*</text></a></g><g id=\\\"link_E4_E2\\\"><a href=\\\"//github.com/avianinc/jupyter_demos/blob/1b73b0e6fbb8439a7731f382c556f7838bb0c672/API_Demo/sysmlv2_api/psysml:cc13dac8-29bd-4cf5-8560-4654aeaa30b3\\\" target=\\\"_top\\\" title=\\\"psysml:cc13dac8-29bd-4cf5-8560-4654aeaa30b3\\\" xlink:actuate=\\\"onRequest\\\" xlink:href=\\\"psysml:cc13dac8-29bd-4cf5-8560-4654aeaa30b3\\\" xlink:show=\\\"new\\\" xlink:title=\\\"psysml:cc13dac8-29bd-4cf5-8560-4654aeaa30b3\\\" xlink:type=\\\"simple\\\"><path d=\\\"M122.65,204.32 C113.5,220.62 102.77,242.78 98,264 C91.37,293.52 92.62,327.08 95.96,354.92 \\\" fill=\\\"none\\\" id=\\\"E4-to-E2\\\" style=\\\"stroke:#181818;stroke-width:1.0;\\\"></path><polygon fill=\\\"#FFFFFF\\\" points=\\\"98.83,374.93,89.2115,357.1119,103.0706,355.1306,98.83,374.93\\\" style=\\\"stroke:#181818;stroke-width:1.0;\\\"></polygon><ellipse cx=\\\"90.3847\\\" cy=\\\"351.1862\\\" fill=\\\"#181818\\\" rx=\\\"2\\\" ry=\\\"2\\\" style=\\\"stroke:#181818;stroke-width:1.0;\\\"></ellipse><ellipse cx=\\\"100.2841\\\" cy=\\\"349.771\\\" fill=\\\"#181818\\\" rx=\\\"2\\\" ry=\\\"2\\\" style=\\\"stroke:#181818;stroke-width:1.0;\\\"></ellipse></a></g><g id=\\\"link_E3_E5\\\"><a href=\\\"//github.com/avianinc/jupyter_demos/blob/1b73b0e6fbb8439a7731f382c556f7838bb0c672/API_Demo/sysmlv2_api/psysml:439722de-cc24-4e46-a42e-abb878e9c6b6\\\" target=\\\"_top\\\" title=\\\"psysml:439722de-cc24-4e46-a42e-abb878e9c6b6\\\" xlink:actuate=\\\"onRequest\\\" xlink:href=\\\"psysml:439722de-cc24-4e46-a42e-abb878e9c6b6\\\" xlink:show=\\\"new\\\" xlink:title=\\\"psysml:439722de-cc24-4e46-a42e-abb878e9c6b6\\\" xlink:type=\\\"simple\\\"><path d=\\\"M188.58,100.19 C215.37,116.97 247.79,137.28 272.67,152.86 \\\" fill=\\\"none\\\" id=\\\"E3-backto-E5\\\" style=\\\"stroke:#181818;stroke-width:1.0;\\\"></path><polygon fill=\\\"#181818\\\" points=\\\"177.48,93.23,180.435,99.8078,187.6434,99.6101,184.6884,93.0323,177.48,93.23\\\" style=\\\"stroke:#181818;stroke-width:1.0;\\\"></polygon><text fill=\\\"#000000\\\" font-family=\\\"sans-serif\\\" font-size=\\\"13\\\" lengthadjust=\\\"spacing\\\" textlength=\\\"22\\\" x=\\\"238.4021\\\" y=\\\"142.2344\\\">1..2</text></a></g><g id=\\\"link_E5_E2\\\"><a href=\\\"//github.com/avianinc/jupyter_demos/blob/1b73b0e6fbb8439a7731f382c556f7838bb0c672/API_Demo/sysmlv2_api/psysml:3d6cc14f-5616-4dc9-9f4d-74a84ae61372\\\" target=\\\"_top\\\" title=\\\"psysml:3d6cc14f-5616-4dc9-9f4d-74a84ae61372\\\" xlink:actuate=\\\"onRequest\\\" xlink:href=\\\"psysml:3d6cc14f-5616-4dc9-9f4d-74a84ae61372\\\" xlink:show=\\\"new\\\" xlink:title=\\\"psysml:3d6cc14f-5616-4dc9-9f4d-74a84ae61372\\\" xlink:type=\\\"simple\\\"><path d=\\\"M242.1,203.15 C195.76,220.29 140.84,243.88 126,264 C107.04,289.71 101.84,324.9 101.6,354.69 \\\" fill=\\\"none\\\" id=\\\"E5-to-E2\\\" style=\\\"stroke:#181818;stroke-width:1.0;\\\"></path><polygon fill=\\\"#FFFFFF\\\" points=\\\"102.13,374.73,94.6301,355.9217,108.6252,355.5516,102.13,374.73\\\" style=\\\"stroke:#181818;stroke-width:1.0;\\\"></polygon><ellipse cx=\\\"96.4787\\\" cy=\\\"350.1708\\\" fill=\\\"#181818\\\" rx=\\\"2\\\" ry=\\\"2\\\" style=\\\"stroke:#181818;stroke-width:1.0;\\\"></ellipse><ellipse cx=\\\"106.4752\\\" cy=\\\"349.9064\\\" fill=\\\"#181818\\\" rx=\\\"2\\\" ry=\\\"2\\\" style=\\\"stroke:#181818;stroke-width:1.0;\\\"></ellipse></a></g><g id=\\\"link_E5_E6\\\"><a href=\\\"//github.com/avianinc/jupyter_demos/blob/1b73b0e6fbb8439a7731f382c556f7838bb0c672/API_Demo/sysmlv2_api/psysml:a8e5f27b-c9d1-4dc0-af6a-732adf0ab8dd\\\" target=\\\"_top\\\" title=\\\"psysml:a8e5f27b-c9d1-4dc0-af6a-732adf0ab8dd\\\" xlink:actuate=\\\"onRequest\\\" xlink:href=\\\"psysml:a8e5f27b-c9d1-4dc0-af6a-732adf0ab8dd\\\" xlink:show=\\\"new\\\" xlink:title=\\\"psysml:a8e5f27b-c9d1-4dc0-af6a-732adf0ab8dd\\\" xlink:type=\\\"simple\\\"><path d=\\\"M280.74,213.91 C266.01,230.13 248.78,249.11 235.38,263.86 \\\" fill=\\\"none\\\" id=\\\"E5-backto-E6\\\" style=\\\"stroke:#181818;stroke-width:1.0;\\\"></path><polygon fill=\\\"#181818\\\" points=\\\"289.54,204.23,282.5439,205.9779,281.4666,213.1081,288.4627,211.3602,289.54,204.23\\\" style=\\\"stroke:#181818;stroke-width:1.0;\\\"></polygon><text fill=\\\"#000000\\\" font-family=\\\"sans-serif\\\" font-size=\\\"13\\\" lengthadjust=\\\"spacing\\\" textlength=\\\"22\\\" x=\\\"216.1539\\\" y=\\\"253.2344\\\">1..2</text></a></g><g id=\\\"link_E6_E2\\\"><a href=\\\"//github.com/avianinc/jupyter_demos/blob/1b73b0e6fbb8439a7731f382c556f7838bb0c672/API_Demo/sysmlv2_api/psysml:a91fcd9f-7e37-4bb0-9762-45e7f393e50f\\\" target=\\\"_top\\\" title=\\\"psysml:a91fcd9f-7e37-4bb0-9762-45e7f393e50f\\\" xlink:actuate=\\\"onRequest\\\" xlink:href=\\\"psysml:a91fcd9f-7e37-4bb0-9762-45e7f393e50f\\\" xlink:show=\\\"new\\\" xlink:title=\\\"psysml:a91fcd9f-7e37-4bb0-9762-45e7f393e50f\\\" xlink:type=\\\"simple\\\"><path d=\\\"M191.8,315.1 C180.75,327.92 166.76,344.15 153.35,359.71 \\\" fill=\\\"none\\\" id=\\\"E6-to-E2\\\" style=\\\"stroke:#181818;stroke-width:1.0;\\\"></path><polygon fill=\\\"#FFFFFF\\\" points=\\\"140.26,374.9,147.3661,355.9394,157.9688,365.0818,140.26,374.9\\\" style=\\\"stroke:#181818;stroke-width:1.0;\\\"></polygon><ellipse cx=\\\"152.603\\\" cy=\\\"352.9287\\\" fill=\\\"#181818\\\" rx=\\\"2\\\" ry=\\\"2\\\" style=\\\"stroke:#181818;stroke-width:1.0;\\\"></ellipse><ellipse cx=\\\"160.1764\\\" cy=\\\"359.4589\\\" fill=\\\"#181818\\\" rx=\\\"2\\\" ry=\\\"2\\\" style=\\\"stroke:#181818;stroke-width:1.0;\\\"></ellipse></a></g><g id=\\\"link_E5_E7\\\"><a href=\\\"//github.com/avianinc/jupyter_demos/blob/1b73b0e6fbb8439a7731f382c556f7838bb0c672/API_Demo/sysmlv2_api/psysml:cf6b885b-aa89-40d5-ab0f-633e4b6c200b\\\" target=\\\"_top\\\" title=\\\"psysml:cf6b885b-aa89-40d5-ab0f-633e4b6c200b\\\" xlink:actuate=\\\"onRequest\\\" xlink:href=\\\"psysml:cf6b885b-aa89-40d5-ab0f-633e4b6c200b\\\" xlink:show=\\\"new\\\" xlink:title=\\\"psysml:cf6b885b-aa89-40d5-ab0f-633e4b6c200b\\\" xlink:type=\\\"simple\\\"><path d=\\\"M336.63,215.3 C347.58,231.2 360.18,249.53 370.05,263.86 \\\" fill=\\\"none\\\" id=\\\"E5-backto-E7\\\" style=\\\"stroke:#181818;stroke-width:1.0;\\\"></path><polygon fill=\\\"#181818\\\" points=\\\"329.02,204.23,329.1255,211.4403,335.8217,214.1162,335.7162,206.9059,329.02,204.23\\\" style=\\\"stroke:#181818;stroke-width:1.0;\\\"></polygon><text fill=\\\"#000000\\\" font-family=\\\"sans-serif\\\" font-size=\\\"13\\\" lengthadjust=\\\"spacing\\\" textlength=\\\"22\\\" x=\\\"341.2372\\\" y=\\\"253.2344\\\">1..2</text></a></g><g id=\\\"link_E7_E2\\\"><a href=\\\"//github.com/avianinc/jupyter_demos/blob/1b73b0e6fbb8439a7731f382c556f7838bb0c672/API_Demo/sysmlv2_api/psysml:d49b6024-9f74-4f94-9769-30e461672edc\\\" target=\\\"_top\\\" title=\\\"psysml:d49b6024-9f74-4f94-9769-30e461672edc\\\" xlink:actuate=\\\"onRequest\\\" xlink:href=\\\"psysml:d49b6024-9f74-4f94-9769-30e461672edc\\\" xlink:show=\\\"new\\\" xlink:title=\\\"psysml:d49b6024-9f74-4f94-9769-30e461672edc\\\" xlink:type=\\\"simple\\\"><path d=\\\"M331.01,315.1 C285.04,335.29 219.9,363.91 171.7,385.08 \\\" fill=\\\"none\\\" id=\\\"E7-to-E2\\\" style=\\\"stroke:#181818;stroke-width:1.0;\\\"></path><polygon fill=\\\"#FFFFFF\\\" points=\\\"153.16,393.22,167.7417,379.1711,173.371,391.9894,153.16,393.22\\\" style=\\\"stroke:#181818;stroke-width:1.0;\\\"></polygon><ellipse cx=\\\"173.7648\\\" cy=\\\"378.7103\\\" fill=\\\"#181818\\\" rx=\\\"2\\\" ry=\\\"2\\\" style=\\\"stroke:#181818;stroke-width:1.0;\\\"></ellipse><ellipse cx=\\\"177.7858\\\" cy=\\\"387.8663\\\" fill=\\\"#181818\\\" rx=\\\"2\\\" ry=\\\"2\\\" style=\\\"stroke:#181818;stroke-width:1.0;\\\"></ellipse></a></g></g></svg></div>\\n\\n</div>\\n\\n</div>\\n\\n</div>\\n\\n</div><div class=\\\"jp-Cell jp-CodeCell jp-Notebook-cell jp-mod-noOutputs  \\\">\\n<div class=\\\"jp-Cell-inputWrapper\\\">\\n<div class=\\\"jp-Collapser jp-InputCollapser jp-Cell-inputCollapser\\\">\\n</div>\\n<div class=\\\"jp-InputArea jp-Cell-inputArea\\\">\\n<div class=\\\"jp-InputPrompt jp-InputArea-prompt\\\">In&#160;[&#160;]:</div>\\n<div class=\\\"jp-CodeMirrorEditor jp-Editor jp-InputArea-editor\\\" data-type=\\\"inline\\\">\\n     <div class=\\\"CodeMirror cm-s-jupyter\\\">\\n<div class=\\\" highlight hl-java\\\"><pre><span></span>\\n</pre></div>\\n\\n     </div>\\n</div>\\n</div>\\n</div>\\n\\n</div></div></body></html>\"}\n",
       "    </script>"
      ]
     },
     "execution_count": 52,
     "metadata": {},
     "output_type": "execute_result"
    }
   ],
   "source": [
    "nbData2[0]"
   ]
  },
  {
   "cell_type": "code",
   "execution_count": null,
   "id": "0470b784-aa8f-46d7-a8d7-7500c44c6927",
   "metadata": {},
   "outputs": [],
   "source": []
  }
 ],
 "metadata": {
  "kernelspec": {
   "display_name": "Python 3 (ipykernel)",
   "language": "python",
   "name": "python3"
  },
  "language_info": {
   "codemirror_mode": {
    "name": "ipython",
    "version": 3
   },
   "file_extension": ".py",
   "mimetype": "text/x-python",
   "name": "python",
   "nbconvert_exporter": "python",
   "pygments_lexer": "ipython3",
   "version": "3.9.7"
  }
 },
 "nbformat": 4,
 "nbformat_minor": 5
}
