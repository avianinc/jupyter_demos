{
 "cells": [
  {
   "cell_type": "code",
   "execution_count": 1,
   "id": "88fa9ecc-0e06-4a1e-8161-d7c5cdfb8dcf",
   "metadata": {},
   "outputs": [
    {
     "name": "stdout",
     "output_type": "stream",
     "text": [
      "Root node\n",
      "  Child 1\n",
      "    Grandchild 1\n",
      "    Grandchild 2\n",
      "  Child 2\n"
     ]
    }
   ],
   "source": [
    "# Define the class for a node in the tree\n",
    "class Node:\n",
    "    def __init__(self, value):\n",
    "        self.value = value\n",
    "        self.children = []\n",
    "\n",
    "# Create the root node\n",
    "root = Node(\"Root node\")\n",
    "\n",
    "# Add some children\n",
    "root.children.append(Node(\"Child 1\"))\n",
    "root.children.append(Node(\"Child 2\"))\n",
    "\n",
    "# Add some grandchildren\n",
    "root.children[0].children.append(Node(\"Grandchild 1\"))\n",
    "root.children[0].children.append(Node(\"Grandchild 2\"))\n",
    "\n",
    "# Create a recursive function to build the tree\n",
    "def build_treeview(node, depth=0):\n",
    "    # Print the node's value indented by the depth\n",
    "    print(\"  \" * depth + node.value)\n",
    "\n",
    "    # Recursively print each child\n",
    "    for child in node.children:\n",
    "        build_treeview(child, depth + 1)\n",
    "\n",
    "# Use the recursive function to print the tree view\n",
    "build_treeview(root)\n",
    "\n",
    "# Output:\n",
    "# Root node\n",
    "#   Child 1\n",
    "#     Grandchild 1\n",
    "#     Grandchild 2"
   ]
  },
  {
   "cell_type": "code",
   "execution_count": 2,
   "id": "f487fcb0-5fbe-4866-8b5a-63742ac14be6",
   "metadata": {},
   "outputs": [
    {
     "name": "stdout",
     "output_type": "stream",
     "text": [
      "Root Node\n",
      "\tChild1\n",
      "\t\tGrandchild1\n",
      "\t\tGrandchild2\n",
      "\tChild2\n"
     ]
    }
   ],
   "source": [
    "tree_data = [\n",
    "  {\n",
    "    \"name\": \"Root Node\",\n",
    "    \"children\": [\n",
    "      {\n",
    "        \"name\": \"Child1\",\n",
    "        \"children\": [\n",
    "          {\n",
    "            \"name\": \"Grandchild1\"\n",
    "          },\n",
    "          {\n",
    "            \"name\": \"Grandchild2\"\n",
    "          }\n",
    "        ]\n",
    "      },\n",
    "      {\n",
    "        \"name\": \"Child2\"\n",
    "      }\n",
    "    ]\n",
    "  }\n",
    "]\n",
    "\n",
    "# function to print out tree\n",
    "def print_tree(data, tab):\n",
    "  for item in data:\n",
    "    print(tab + item[\"name\"])\n",
    "    if \"children\" in item:\n",
    "      print_tree(item[\"children\"], tab + \"\\t\")\n",
    "      \n",
    "print_tree(tree_data, \"\")\n",
    "\n",
    "# Output\n",
    "# Root Node\n",
    "# \tChild1\n",
    "# \t\tGrandchild1\n",
    "# \t\tGrandchild2\n",
    "# \tChild2"
   ]
  },
  {
   "cell_type": "code",
   "execution_count": null,
   "id": "3a551ea8-402f-4f38-82b9-db76f122e5d7",
   "metadata": {},
   "outputs": [],
   "source": []
  }
 ],
 "metadata": {
  "kernelspec": {
   "display_name": "Python 3 (ipykernel)",
   "language": "python",
   "name": "python3"
  },
  "language_info": {
   "codemirror_mode": {
    "name": "ipython",
    "version": 3
   },
   "file_extension": ".py",
   "mimetype": "text/x-python",
   "name": "python",
   "nbconvert_exporter": "python",
   "pygments_lexer": "ipython3",
   "version": "3.9.15"
  }
 },
 "nbformat": 4,
 "nbformat_minor": 5
}
