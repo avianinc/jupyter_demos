import math
import json
import pandas as pd
import subprocess
import xlwings as xw

path = "cost_model.xlsx"
app = xw.App(visible=False)
wb = xw.Book(path)
sheet = wb.sheets['Sheet1']


REQUEST = json.dumps({
'path' : {},
'args' : {}
})


# GET /convert_d2r
req = json.loads(REQUEST)
args = req['args']

if 'angle' not in args:
  print(json.dumps({'convertedAngle(radians)': None}))
else:
  # Note the [0] when retrieving the argument.
  # This is because you could potentially pass multiple angles.
  angle = float(args['angle'][0])
  converted = math.radians(angle)
  print(json.dumps({'convertedAngle(radians)': converted}))


# GET /convert_r2d
req = json.loads(REQUEST)
args = req['args']

if 'angle' not in args:
  print(json.dumps({'convertedAngle(degrees)': None}))
else:
  # Note the [0] when retrieving the argument.
  # This is because you could potentially pass multiple angles.
  angle = float(args['angle'][0])
  converted = math.degrees(angle)
  print(json.dumps({'convertedAngle(degrees)': converted}))


# GET /cost_model
req = json.loads(REQUEST)
args = req['args']

if 'cost_A' not in args:
  print(json.dumps({'systemCost': None}))
else:
  # Note the [0] when retrieving the argument.
  # This is because you could potentially pass multiple angles.
  if 'cost_A' in args:
    sheet.range('A1').value = float(args['cost_A'][0]) 
  if 'cost_B' in args:
    sheet.range('B1').value = float(args['cost_B'][0])
  if 'cost_C' in args:
    sheet.range('C1').value = float(args['cost_C'][0]) 
  costed = sheet.range('D1').value
  print(json.dumps({'systemCost': costed}))


# GET /scilab_random_numb
req = json.loads(REQUEST)
args = req['args']

# make sure there is an argument
if 'seed' in args:
    seed = str(args['seed'][0])
else: 
    seed = 5

execString = (f'C:/Users/jdehart/AppData/Local/scilab-6.1.1/bin/scilex.exe -e "rand(""seed"",{seed}); disp(rand()); exit;" -nb')
#print(execString)
result = subprocess.run(execString, capture_output=True, text=True)
print('Random number = ' + result.stdout)
print(result.stderr)
print(f'User defined seed = {seed}')


# GET /scilab_xcos_model
req = json.loads(REQUEST)
args = req['args']

# make sure there is an argument
if 'Amp' in args:
    Amp = str(args['Amp'][0])
else: 
    Amp = 1
    
if 'Freq' in args:
    Freq = str(args['Freq'][0])
else:
    Freq = 1
        
# Execute the xcos model and fetch string array of output
execString = (f'C:/Users/jdehart/AppData/Local/scilab-6.1.1/bin/Wscilex-cli -args {Amp} {Freq} -f "models/scilab_sine2.sce"  -nb')
#print(execString)
result = subprocess.run(execString, capture_output=True, text=True)
print(result.stdout)
print(result.stderr)
