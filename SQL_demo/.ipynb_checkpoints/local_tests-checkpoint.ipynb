{
 "cells": [
  {
   "cell_type": "code",
   "execution_count": null,
   "id": "083aaf9c-ad1e-4e92-84ca-617a9c7f9442",
   "metadata": {},
   "outputs": [],
   "source": []
  }
 ],
 "metadata": {
  "kernelspec": {
   "display_name": "Mysql",
   "language": "sql",
   "name": "mysql"
  },
  "language_info": {
   "file_extension": ".sql",
   "mimetype": "text/x-sh",
   "name": "sql"
  }
 },
 "nbformat": 4,
 "nbformat_minor": 5
}
