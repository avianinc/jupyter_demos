{
 "cells": [
  {
   "cell_type": "code",
   "execution_count": 1,
   "id": "9bf63e90-bb64-458f-80b3-f9a1c2e7512e",
   "metadata": {},
   "outputs": [
    {
     "name": "stdout",
     "output_type": "stream",
     "text": [
      "Collecting mysql-kernel\n",
      "  Downloading mysql_kernel-0.4.1-py3-none-any.whl (10 kB)\n",
      "Collecting sqlalchemy\n",
      "  Downloading SQLAlchemy-1.4.27-cp38-cp38-win_amd64.whl (1.5 MB)\n",
      "Collecting pymysql\n",
      "  Downloading PyMySQL-1.0.2-py3-none-any.whl (43 kB)\n",
      "Collecting pandas\n",
      "  Downloading pandas-1.3.4-cp38-cp38-win_amd64.whl (10.2 MB)\n",
      "Collecting jupyter\n",
      "  Downloading jupyter-1.0.0-py2.py3-none-any.whl (2.7 kB)\n",
      "Requirement already satisfied: ipykernel in c:\\users\\jdehart\\anaconda3\\envs\\elyra_env\\lib\\site-packages (from jupyter->mysql-kernel) (5.3.4)\n",
      "Requirement already satisfied: notebook in c:\\users\\jdehart\\anaconda3\\envs\\elyra_env\\lib\\site-packages (from jupyter->mysql-kernel) (6.4.5)\n",
      "Collecting jupyter-console\n",
      "  Downloading jupyter_console-6.4.0-py3-none-any.whl (22 kB)\n",
      "Requirement already satisfied: nbconvert in c:\\users\\jdehart\\anaconda3\\envs\\elyra_env\\lib\\site-packages (from jupyter->mysql-kernel) (6.1.0)\n",
      "Collecting ipywidgets\n",
      "  Downloading ipywidgets-7.6.5-py2.py3-none-any.whl (121 kB)\n",
      "Collecting qtconsole\n",
      "  Downloading qtconsole-5.2.1-py3-none-any.whl (120 kB)\n",
      "Requirement already satisfied: ipython>=5.0.0 in c:\\users\\jdehart\\anaconda3\\envs\\elyra_env\\lib\\site-packages (from ipykernel->jupyter->mysql-kernel) (7.29.0)\n",
      "Requirement already satisfied: tornado>=4.2 in c:\\users\\jdehart\\anaconda3\\envs\\elyra_env\\lib\\site-packages (from ipykernel->jupyter->mysql-kernel) (6.1)\n",
      "Requirement already satisfied: jupyter-client in c:\\users\\jdehart\\anaconda3\\envs\\elyra_env\\lib\\site-packages (from ipykernel->jupyter->mysql-kernel) (7.0.1)\n",
      "Requirement already satisfied: traitlets>=4.1.0 in c:\\users\\jdehart\\anaconda3\\envs\\elyra_env\\lib\\site-packages (from ipykernel->jupyter->mysql-kernel) (5.1.1)\n",
      "Requirement already satisfied: setuptools>=18.5 in c:\\users\\jdehart\\anaconda3\\envs\\elyra_env\\lib\\site-packages (from ipython>=5.0.0->ipykernel->jupyter->mysql-kernel) (58.0.4)\n",
      "Requirement already satisfied: pickleshare in c:\\users\\jdehart\\anaconda3\\envs\\elyra_env\\lib\\site-packages (from ipython>=5.0.0->ipykernel->jupyter->mysql-kernel) (0.7.5)\n",
      "Requirement already satisfied: backcall in c:\\users\\jdehart\\anaconda3\\envs\\elyra_env\\lib\\site-packages (from ipython>=5.0.0->ipykernel->jupyter->mysql-kernel) (0.2.0)\n",
      "Requirement already satisfied: pygments in c:\\users\\jdehart\\anaconda3\\envs\\elyra_env\\lib\\site-packages (from ipython>=5.0.0->ipykernel->jupyter->mysql-kernel) (2.10.0)\n",
      "Requirement already satisfied: prompt-toolkit!=3.0.0,!=3.0.1,<3.1.0,>=2.0.0 in c:\\users\\jdehart\\anaconda3\\envs\\elyra_env\\lib\\site-packages (from ipython>=5.0.0->ipykernel->jupyter->mysql-kernel) (3.0.20)\n",
      "Requirement already satisfied: decorator in c:\\users\\jdehart\\anaconda3\\envs\\elyra_env\\lib\\site-packages (from ipython>=5.0.0->ipykernel->jupyter->mysql-kernel) (5.1.0)\n",
      "Requirement already satisfied: colorama in c:\\users\\jdehart\\anaconda3\\envs\\elyra_env\\lib\\site-packages (from ipython>=5.0.0->ipykernel->jupyter->mysql-kernel) (0.4.4)\n",
      "Requirement already satisfied: matplotlib-inline in c:\\users\\jdehart\\anaconda3\\envs\\elyra_env\\lib\\site-packages (from ipython>=5.0.0->ipykernel->jupyter->mysql-kernel) (0.1.2)\n",
      "Requirement already satisfied: jedi>=0.16 in c:\\users\\jdehart\\anaconda3\\envs\\elyra_env\\lib\\site-packages (from ipython>=5.0.0->ipykernel->jupyter->mysql-kernel) (0.18.0)\n",
      "Requirement already satisfied: parso<0.9.0,>=0.8.0 in c:\\users\\jdehart\\anaconda3\\envs\\elyra_env\\lib\\site-packages (from jedi>=0.16->ipython>=5.0.0->ipykernel->jupyter->mysql-kernel) (0.8.2)\n",
      "Requirement already satisfied: wcwidth in c:\\users\\jdehart\\anaconda3\\envs\\elyra_env\\lib\\site-packages (from prompt-toolkit!=3.0.0,!=3.0.1,<3.1.0,>=2.0.0->ipython>=5.0.0->ipykernel->jupyter->mysql-kernel) (0.2.5)\n",
      "Collecting widgetsnbextension~=3.5.0\n",
      "  Downloading widgetsnbextension-3.5.2-py2.py3-none-any.whl (1.6 MB)\n",
      "Requirement already satisfied: ipython-genutils~=0.2.0 in c:\\users\\jdehart\\anaconda3\\envs\\elyra_env\\lib\\site-packages (from ipywidgets->jupyter->mysql-kernel) (0.2.0)\n",
      "Requirement already satisfied: nbformat>=4.2.0 in c:\\users\\jdehart\\anaconda3\\envs\\elyra_env\\lib\\site-packages (from ipywidgets->jupyter->mysql-kernel) (5.1.3)\n",
      "Collecting jupyterlab-widgets>=1.0.0\n",
      "  Downloading jupyterlab_widgets-1.0.2-py3-none-any.whl (243 kB)\n",
      "Requirement already satisfied: jsonschema!=2.5.0,>=2.4 in c:\\users\\jdehart\\anaconda3\\envs\\elyra_env\\lib\\site-packages (from nbformat>=4.2.0->ipywidgets->jupyter->mysql-kernel) (3.2.0)\n",
      "Requirement already satisfied: jupyter-core in c:\\users\\jdehart\\anaconda3\\envs\\elyra_env\\lib\\site-packages (from nbformat>=4.2.0->ipywidgets->jupyter->mysql-kernel) (4.9.1)\n",
      "Requirement already satisfied: attrs>=17.4.0 in c:\\users\\jdehart\\anaconda3\\envs\\elyra_env\\lib\\site-packages (from jsonschema!=2.5.0,>=2.4->nbformat>=4.2.0->ipywidgets->jupyter->mysql-kernel) (21.2.0)\n",
      "Requirement already satisfied: six>=1.11.0 in c:\\users\\jdehart\\anaconda3\\envs\\elyra_env\\lib\\site-packages (from jsonschema!=2.5.0,>=2.4->nbformat>=4.2.0->ipywidgets->jupyter->mysql-kernel) (1.16.0)\n",
      "Requirement already satisfied: pyrsistent>=0.14.0 in c:\\users\\jdehart\\anaconda3\\envs\\elyra_env\\lib\\site-packages (from jsonschema!=2.5.0,>=2.4->nbformat>=4.2.0->ipywidgets->jupyter->mysql-kernel) (0.18.0)\n",
      "Requirement already satisfied: argon2-cffi in c:\\users\\jdehart\\anaconda3\\envs\\elyra_env\\lib\\site-packages (from notebook->jupyter->mysql-kernel) (20.1.0)\n",
      "Requirement already satisfied: pyzmq>=17 in c:\\users\\jdehart\\anaconda3\\envs\\elyra_env\\lib\\site-packages (from notebook->jupyter->mysql-kernel) (22.2.1)\n",
      "Requirement already satisfied: prometheus-client in c:\\users\\jdehart\\anaconda3\\envs\\elyra_env\\lib\\site-packages (from notebook->jupyter->mysql-kernel) (0.11.0)\n",
      "Requirement already satisfied: terminado>=0.8.3 in c:\\users\\jdehart\\anaconda3\\envs\\elyra_env\\lib\\site-packages (from notebook->jupyter->mysql-kernel) (0.9.4)\n",
      "Requirement already satisfied: Send2Trash>=1.5.0 in c:\\users\\jdehart\\anaconda3\\envs\\elyra_env\\lib\\site-packages (from notebook->jupyter->mysql-kernel) (1.8.0)\n",
      "Requirement already satisfied: jinja2 in c:\\users\\jdehart\\anaconda3\\envs\\elyra_env\\lib\\site-packages (from notebook->jupyter->mysql-kernel) (3.0.2)\n",
      "Requirement already satisfied: python-dateutil>=2.1 in c:\\users\\jdehart\\anaconda3\\envs\\elyra_env\\lib\\site-packages (from jupyter-client->ipykernel->jupyter->mysql-kernel) (2.8.2)\n",
      "Requirement already satisfied: nest-asyncio>=1.5 in c:\\users\\jdehart\\anaconda3\\envs\\elyra_env\\lib\\site-packages (from jupyter-client->ipykernel->jupyter->mysql-kernel) (1.5.1)\n",
      "Requirement already satisfied: entrypoints in c:\\users\\jdehart\\anaconda3\\envs\\elyra_env\\lib\\site-packages (from jupyter-client->ipykernel->jupyter->mysql-kernel) (0.3)\n",
      "Requirement already satisfied: pywin32>=1.0 in c:\\users\\jdehart\\anaconda3\\envs\\elyra_env\\lib\\site-packages (from jupyter-core->nbformat>=4.2.0->ipywidgets->jupyter->mysql-kernel) (228)\n",
      "Requirement already satisfied: pywinpty>=0.5 in c:\\users\\jdehart\\anaconda3\\envs\\elyra_env\\lib\\site-packages (from terminado>=0.8.3->notebook->jupyter->mysql-kernel) (0.5.7)\n",
      "Requirement already satisfied: cffi>=1.0.0 in c:\\users\\jdehart\\anaconda3\\envs\\elyra_env\\lib\\site-packages (from argon2-cffi->notebook->jupyter->mysql-kernel) (1.15.0)\n",
      "Requirement already satisfied: pycparser in c:\\users\\jdehart\\anaconda3\\envs\\elyra_env\\lib\\site-packages (from cffi>=1.0.0->argon2-cffi->notebook->jupyter->mysql-kernel) (2.21)\n",
      "Requirement already satisfied: MarkupSafe>=2.0 in c:\\users\\jdehart\\anaconda3\\envs\\elyra_env\\lib\\site-packages (from jinja2->notebook->jupyter->mysql-kernel) (2.0.1)\n",
      "Requirement already satisfied: jupyterlab-pygments in c:\\users\\jdehart\\anaconda3\\envs\\elyra_env\\lib\\site-packages (from nbconvert->jupyter->mysql-kernel) (0.1.2)\n",
      "Requirement already satisfied: pandocfilters>=1.4.1 in c:\\users\\jdehart\\anaconda3\\envs\\elyra_env\\lib\\site-packages (from nbconvert->jupyter->mysql-kernel) (1.4.3)\n",
      "Requirement already satisfied: mistune<2,>=0.8.1 in c:\\users\\jdehart\\anaconda3\\envs\\elyra_env\\lib\\site-packages (from nbconvert->jupyter->mysql-kernel) (0.8.4)\n",
      "Requirement already satisfied: nbclient<0.6.0,>=0.5.0 in c:\\users\\jdehart\\anaconda3\\envs\\elyra_env\\lib\\site-packages (from nbconvert->jupyter->mysql-kernel) (0.5.3)\n",
      "Requirement already satisfied: bleach in c:\\users\\jdehart\\anaconda3\\envs\\elyra_env\\lib\\site-packages (from nbconvert->jupyter->mysql-kernel) (4.0.0)\n",
      "Requirement already satisfied: defusedxml in c:\\users\\jdehart\\anaconda3\\envs\\elyra_env\\lib\\site-packages (from nbconvert->jupyter->mysql-kernel) (0.7.1)\n",
      "Requirement already satisfied: testpath in c:\\users\\jdehart\\anaconda3\\envs\\elyra_env\\lib\\site-packages (from nbconvert->jupyter->mysql-kernel) (0.5.0)\n",
      "Requirement already satisfied: async-generator in c:\\users\\jdehart\\anaconda3\\envs\\elyra_env\\lib\\site-packages (from nbclient<0.6.0,>=0.5.0->nbconvert->jupyter->mysql-kernel) (1.10)\n",
      "Requirement already satisfied: webencodings in c:\\users\\jdehart\\anaconda3\\envs\\elyra_env\\lib\\site-packages (from bleach->nbconvert->jupyter->mysql-kernel) (0.5.1)\n",
      "Requirement already satisfied: packaging in c:\\users\\jdehart\\anaconda3\\envs\\elyra_env\\lib\\site-packages (from bleach->nbconvert->jupyter->mysql-kernel) (21.0)\n",
      "Requirement already satisfied: pyparsing>=2.0.2 in c:\\users\\jdehart\\anaconda3\\envs\\elyra_env\\lib\\site-packages (from packaging->bleach->nbconvert->jupyter->mysql-kernel) (3.0.4)\n",
      "Collecting numpy>=1.17.3\n",
      "  Downloading numpy-1.21.4-cp38-cp38-win_amd64.whl (14.0 MB)\n",
      "Requirement already satisfied: pytz>=2017.3 in c:\\users\\jdehart\\anaconda3\\envs\\elyra_env\\lib\\site-packages (from pandas->mysql-kernel) (2021.3)\n",
      "Collecting qtpy\n",
      "  Downloading QtPy-1.11.2-py2.py3-none-any.whl (58 kB)\n",
      "Collecting greenlet!=0.4.17\n",
      "  Downloading greenlet-1.1.2-cp38-cp38-win_amd64.whl (101 kB)\n",
      "Installing collected packages: widgetsnbextension, qtpy, jupyterlab-widgets, qtconsole, numpy, jupyter-console, ipywidgets, greenlet, sqlalchemy, pymysql, pandas, jupyter, mysql-kernel\n",
      "Successfully installed greenlet-1.1.2 ipywidgets-7.6.5 jupyter-1.0.0 jupyter-console-6.4.0 jupyterlab-widgets-1.0.2 mysql-kernel-0.4.1 numpy-1.21.4 pandas-1.3.4 pymysql-1.0.2 qtconsole-5.2.1 qtpy-1.11.2 sqlalchemy-1.4.27 widgetsnbextension-3.5.2\n"
     ]
    }
   ],
   "source": [
    "import sys\n",
    "!{sys.executable} -m pip install mysql-kernel"
   ]
  },
  {
   "cell_type": "code",
   "execution_count": 2,
   "id": "8b9b4329-bfcb-472a-b968-513c6d5d5fb5",
   "metadata": {},
   "outputs": [
    {
     "name": "stdout",
     "output_type": "stream",
     "text": [
      "Installing Jupyter Mysql kernel spec.\n"
     ]
    },
    {
     "name": "stderr",
     "output_type": "stream",
     "text": [
      "C:\\Users\\jdehart\\Anaconda3\\envs\\elyra_env\\lib\\site-packages\\mysql_kernel\\install.py:23: DeprecationWarning: replace is ignored. Installing a kernelspec always replaces an existing installation\n",
      "  KernelSpecManager().install_kernel_spec(td, 'Mysql', user=user, replace=True, prefix=prefix)\n"
     ]
    }
   ],
   "source": [
    "import sys\n",
    "!{sys.executable} -m mysql_kernel.install"
   ]
  },
  {
   "cell_type": "code",
   "execution_count": null,
   "id": "231099fc-b003-4866-a22f-e807be35e182",
   "metadata": {},
   "outputs": [],
   "source": []
  }
 ],
 "metadata": {
  "kernelspec": {
   "display_name": "Python 3 (ipykernel)",
   "language": "python",
   "name": "python3"
  },
  "language_info": {
   "codemirror_mode": {
    "name": "ipython",
    "version": 3
   },
   "file_extension": ".py",
   "mimetype": "text/x-python",
   "name": "python",
   "nbconvert_exporter": "python",
   "pygments_lexer": "ipython3",
   "version": "3.8.12"
  }
 },
 "nbformat": 4,
 "nbformat_minor": 5
}
