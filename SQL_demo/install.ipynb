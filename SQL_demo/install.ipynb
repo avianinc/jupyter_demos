{
 "cells": [
  {
   "cell_type": "code",
   "execution_count": 1,
   "id": "9bf63e90-bb64-458f-80b3-f9a1c2e7512e",
   "metadata": {},
   "outputs": [
    {
     "name": "stdout",
     "output_type": "stream",
     "text": [
      "Requirement already satisfied: mysql-kernel in c:\\users\\jdehart\\anaconda3\\envs\\sos_env\\lib\\site-packages (0.4.1)\n",
      "Requirement already satisfied: pandas in c:\\users\\jdehart\\anaconda3\\envs\\sos_env\\lib\\site-packages (from mysql-kernel) (1.3.4)\n",
      "Requirement already satisfied: pymysql in c:\\users\\jdehart\\anaconda3\\envs\\sos_env\\lib\\site-packages (from mysql-kernel) (1.0.2)\n",
      "Requirement already satisfied: sqlalchemy in c:\\users\\jdehart\\anaconda3\\envs\\sos_env\\lib\\site-packages (from mysql-kernel) (1.4.27)\n",
      "Requirement already satisfied: jupyter in c:\\users\\jdehart\\anaconda3\\envs\\sos_env\\lib\\site-packages (from mysql-kernel) (1.0.0)\n",
      "Requirement already satisfied: notebook in c:\\users\\jdehart\\anaconda3\\envs\\sos_env\\lib\\site-packages (from jupyter->mysql-kernel) (6.4.5)\n",
      "Requirement already satisfied: jupyter-console in c:\\users\\jdehart\\anaconda3\\envs\\sos_env\\lib\\site-packages (from jupyter->mysql-kernel) (6.4.0)\n",
      "Requirement already satisfied: ipykernel in c:\\users\\jdehart\\anaconda3\\envs\\sos_env\\lib\\site-packages (from jupyter->mysql-kernel) (6.5.0)\n",
      "Requirement already satisfied: nbconvert in c:\\users\\jdehart\\anaconda3\\envs\\sos_env\\lib\\site-packages (from jupyter->mysql-kernel) (6.3.0)\n",
      "Requirement already satisfied: ipywidgets in c:\\users\\jdehart\\anaconda3\\envs\\sos_env\\lib\\site-packages (from jupyter->mysql-kernel) (7.6.5)\n",
      "Requirement already satisfied: qtconsole in c:\\users\\jdehart\\anaconda3\\envs\\sos_env\\lib\\site-packages (from jupyter->mysql-kernel) (5.2.0)\n",
      "Requirement already satisfied: tornado<7.0,>=4.2 in c:\\users\\jdehart\\anaconda3\\envs\\sos_env\\lib\\site-packages (from ipykernel->jupyter->mysql-kernel) (6.1)\n",
      "Requirement already satisfied: debugpy<2.0,>=1.0.0 in c:\\users\\jdehart\\anaconda3\\envs\\sos_env\\lib\\site-packages (from ipykernel->jupyter->mysql-kernel) (1.5.1)\n",
      "Requirement already satisfied: matplotlib-inline<0.2.0,>=0.1.0 in c:\\users\\jdehart\\anaconda3\\envs\\sos_env\\lib\\site-packages (from ipykernel->jupyter->mysql-kernel) (0.1.3)\n",
      "Requirement already satisfied: ipython<8.0,>=7.23.1 in c:\\users\\jdehart\\anaconda3\\envs\\sos_env\\lib\\site-packages (from ipykernel->jupyter->mysql-kernel) (7.29.0)\n",
      "Requirement already satisfied: traitlets<6.0,>=5.1.0 in c:\\users\\jdehart\\anaconda3\\envs\\sos_env\\lib\\site-packages (from ipykernel->jupyter->mysql-kernel) (5.1.1)\n",
      "Requirement already satisfied: jupyter-client<8.0 in c:\\users\\jdehart\\anaconda3\\envs\\sos_env\\lib\\site-packages (from ipykernel->jupyter->mysql-kernel) (7.0.6)\n",
      "Requirement already satisfied: pickleshare in c:\\users\\jdehart\\anaconda3\\envs\\sos_env\\lib\\site-packages (from ipython<8.0,>=7.23.1->ipykernel->jupyter->mysql-kernel) (0.7.5)\n",
      "Requirement already satisfied: backcall in c:\\users\\jdehart\\anaconda3\\envs\\sos_env\\lib\\site-packages (from ipython<8.0,>=7.23.1->ipykernel->jupyter->mysql-kernel) (0.2.0)\n",
      "Requirement already satisfied: decorator in c:\\users\\jdehart\\anaconda3\\envs\\sos_env\\lib\\site-packages (from ipython<8.0,>=7.23.1->ipykernel->jupyter->mysql-kernel) (5.1.0)\n",
      "Requirement already satisfied: colorama in c:\\users\\jdehart\\anaconda3\\envs\\sos_env\\lib\\site-packages (from ipython<8.0,>=7.23.1->ipykernel->jupyter->mysql-kernel) (0.4.4)\n",
      "Requirement already satisfied: setuptools>=18.5 in c:\\users\\jdehart\\anaconda3\\envs\\sos_env\\lib\\site-packages (from ipython<8.0,>=7.23.1->ipykernel->jupyter->mysql-kernel) (58.0.4)\n",
      "Requirement already satisfied: jedi>=0.16 in c:\\users\\jdehart\\anaconda3\\envs\\sos_env\\lib\\site-packages (from ipython<8.0,>=7.23.1->ipykernel->jupyter->mysql-kernel) (0.18.0)\n",
      "Requirement already satisfied: prompt-toolkit!=3.0.0,!=3.0.1,<3.1.0,>=2.0.0 in c:\\users\\jdehart\\anaconda3\\envs\\sos_env\\lib\\site-packages (from ipython<8.0,>=7.23.1->ipykernel->jupyter->mysql-kernel) (3.0.22)\n",
      "Requirement already satisfied: pygments in c:\\users\\jdehart\\anaconda3\\envs\\sos_env\\lib\\site-packages (from ipython<8.0,>=7.23.1->ipykernel->jupyter->mysql-kernel) (2.10.0)\n",
      "Requirement already satisfied: parso<0.9.0,>=0.8.0 in c:\\users\\jdehart\\anaconda3\\envs\\sos_env\\lib\\site-packages (from jedi>=0.16->ipython<8.0,>=7.23.1->ipykernel->jupyter->mysql-kernel) (0.8.2)\n",
      "Requirement already satisfied: entrypoints in c:\\users\\jdehart\\anaconda3\\envs\\sos_env\\lib\\site-packages (from jupyter-client<8.0->ipykernel->jupyter->mysql-kernel) (0.3)\n",
      "Requirement already satisfied: python-dateutil>=2.1 in c:\\users\\jdehart\\anaconda3\\envs\\sos_env\\lib\\site-packages (from jupyter-client<8.0->ipykernel->jupyter->mysql-kernel) (2.8.2)\n",
      "Requirement already satisfied: jupyter-core>=4.6.0 in c:\\users\\jdehart\\anaconda3\\envs\\sos_env\\lib\\site-packages (from jupyter-client<8.0->ipykernel->jupyter->mysql-kernel) (4.9.1)\n",
      "Requirement already satisfied: pyzmq>=13 in c:\\users\\jdehart\\anaconda3\\envs\\sos_env\\lib\\site-packages (from jupyter-client<8.0->ipykernel->jupyter->mysql-kernel) (22.3.0)\n",
      "Requirement already satisfied: nest-asyncio>=1.5 in c:\\users\\jdehart\\anaconda3\\envs\\sos_env\\lib\\site-packages (from jupyter-client<8.0->ipykernel->jupyter->mysql-kernel) (1.5.1)\n",
      "Requirement already satisfied: pywin32>=1.0 in c:\\users\\jdehart\\anaconda3\\envs\\sos_env\\lib\\site-packages (from jupyter-core>=4.6.0->jupyter-client<8.0->ipykernel->jupyter->mysql-kernel) (302)\n",
      "Requirement already satisfied: wcwidth in c:\\users\\jdehart\\anaconda3\\envs\\sos_env\\lib\\site-packages (from prompt-toolkit!=3.0.0,!=3.0.1,<3.1.0,>=2.0.0->ipython<8.0,>=7.23.1->ipykernel->jupyter->mysql-kernel) (0.2.5)\n",
      "Requirement already satisfied: six>=1.5 in c:\\users\\jdehart\\anaconda3\\envs\\sos_env\\lib\\site-packages (from python-dateutil>=2.1->jupyter-client<8.0->ipykernel->jupyter->mysql-kernel) (1.16.0)\n",
      "Requirement already satisfied: ipython-genutils~=0.2.0 in c:\\users\\jdehart\\anaconda3\\envs\\sos_env\\lib\\site-packages (from ipywidgets->jupyter->mysql-kernel) (0.2.0)\n",
      "Requirement already satisfied: widgetsnbextension~=3.5.0 in c:\\users\\jdehart\\anaconda3\\envs\\sos_env\\lib\\site-packages (from ipywidgets->jupyter->mysql-kernel) (3.5.2)\n",
      "Requirement already satisfied: nbformat>=4.2.0 in c:\\users\\jdehart\\anaconda3\\envs\\sos_env\\lib\\site-packages (from ipywidgets->jupyter->mysql-kernel) (5.1.3)\n",
      "Requirement already satisfied: jupyterlab-widgets>=1.0.0 in c:\\users\\jdehart\\anaconda3\\envs\\sos_env\\lib\\site-packages (from ipywidgets->jupyter->mysql-kernel) (1.0.2)\n",
      "Requirement already satisfied: jsonschema!=2.5.0,>=2.4 in c:\\users\\jdehart\\anaconda3\\envs\\sos_env\\lib\\site-packages (from nbformat>=4.2.0->ipywidgets->jupyter->mysql-kernel) (4.2.1)\n",
      "Requirement already satisfied: pyrsistent!=0.17.0,!=0.17.1,!=0.17.2,>=0.14.0 in c:\\users\\jdehart\\anaconda3\\envs\\sos_env\\lib\\site-packages (from jsonschema!=2.5.0,>=2.4->nbformat>=4.2.0->ipywidgets->jupyter->mysql-kernel) (0.18.0)\n",
      "Requirement already satisfied: attrs>=17.4.0 in c:\\users\\jdehart\\anaconda3\\envs\\sos_env\\lib\\site-packages (from jsonschema!=2.5.0,>=2.4->nbformat>=4.2.0->ipywidgets->jupyter->mysql-kernel) (21.2.0)\n",
      "Requirement already satisfied: importlib-resources>=1.4.0 in c:\\users\\jdehart\\anaconda3\\envs\\sos_env\\lib\\site-packages (from jsonschema!=2.5.0,>=2.4->nbformat>=4.2.0->ipywidgets->jupyter->mysql-kernel) (5.4.0)\n",
      "Requirement already satisfied: zipp>=3.1.0 in c:\\users\\jdehart\\anaconda3\\envs\\sos_env\\lib\\site-packages (from importlib-resources>=1.4.0->jsonschema!=2.5.0,>=2.4->nbformat>=4.2.0->ipywidgets->jupyter->mysql-kernel) (3.6.0)\n",
      "Requirement already satisfied: Send2Trash>=1.5.0 in c:\\users\\jdehart\\anaconda3\\envs\\sos_env\\lib\\site-packages (from notebook->jupyter->mysql-kernel) (1.8.0)\n",
      "Requirement already satisfied: prometheus-client in c:\\users\\jdehart\\anaconda3\\envs\\sos_env\\lib\\site-packages (from notebook->jupyter->mysql-kernel) (0.12.0)\n",
      "Requirement already satisfied: argon2-cffi in c:\\users\\jdehart\\anaconda3\\envs\\sos_env\\lib\\site-packages (from notebook->jupyter->mysql-kernel) (21.1.0)\n",
      "Requirement already satisfied: terminado>=0.8.3 in c:\\users\\jdehart\\anaconda3\\envs\\sos_env\\lib\\site-packages (from notebook->jupyter->mysql-kernel) (0.9.5)\n",
      "Requirement already satisfied: jinja2 in c:\\users\\jdehart\\anaconda3\\envs\\sos_env\\lib\\site-packages (from notebook->jupyter->mysql-kernel) (2.11.0)\n",
      "Requirement already satisfied: pywinpty<1,>=0.5 in c:\\users\\jdehart\\anaconda3\\envs\\sos_env\\lib\\site-packages (from terminado>=0.8.3->notebook->jupyter->mysql-kernel) (0.5.7)\n",
      "Requirement already satisfied: cffi>=1.0.0 in c:\\users\\jdehart\\anaconda3\\envs\\sos_env\\lib\\site-packages (from argon2-cffi->notebook->jupyter->mysql-kernel) (1.15.0)\n",
      "Requirement already satisfied: pycparser in c:\\users\\jdehart\\anaconda3\\envs\\sos_env\\lib\\site-packages (from cffi>=1.0.0->argon2-cffi->notebook->jupyter->mysql-kernel) (2.21)\n",
      "Requirement already satisfied: MarkupSafe>=0.23 in c:\\users\\jdehart\\anaconda3\\envs\\sos_env\\lib\\site-packages (from jinja2->notebook->jupyter->mysql-kernel) (2.0.1)\n",
      "Requirement already satisfied: nbclient<0.6.0,>=0.5.0 in c:\\users\\jdehart\\anaconda3\\envs\\sos_env\\lib\\site-packages (from nbconvert->jupyter->mysql-kernel) (0.5.8)\n",
      "Requirement already satisfied: mistune<2,>=0.8.1 in c:\\users\\jdehart\\anaconda3\\envs\\sos_env\\lib\\site-packages (from nbconvert->jupyter->mysql-kernel) (0.8.4)\n",
      "Requirement already satisfied: bleach in c:\\users\\jdehart\\anaconda3\\envs\\sos_env\\lib\\site-packages (from nbconvert->jupyter->mysql-kernel) (4.1.0)\n",
      "Requirement already satisfied: pandocfilters>=1.4.1 in c:\\users\\jdehart\\anaconda3\\envs\\sos_env\\lib\\site-packages (from nbconvert->jupyter->mysql-kernel) (1.5.0)\n",
      "Requirement already satisfied: defusedxml in c:\\users\\jdehart\\anaconda3\\envs\\sos_env\\lib\\site-packages (from nbconvert->jupyter->mysql-kernel) (0.7.1)\n",
      "Requirement already satisfied: jupyterlab-pygments in c:\\users\\jdehart\\anaconda3\\envs\\sos_env\\lib\\site-packages (from nbconvert->jupyter->mysql-kernel) (0.1.2)\n",
      "Requirement already satisfied: testpath in c:\\users\\jdehart\\anaconda3\\envs\\sos_env\\lib\\site-packages (from nbconvert->jupyter->mysql-kernel) (0.5.0)\n",
      "Requirement already satisfied: packaging in c:\\users\\jdehart\\anaconda3\\envs\\sos_env\\lib\\site-packages (from bleach->nbconvert->jupyter->mysql-kernel) (21.0)\n",
      "Requirement already satisfied: webencodings in c:\\users\\jdehart\\anaconda3\\envs\\sos_env\\lib\\site-packages (from bleach->nbconvert->jupyter->mysql-kernel) (0.5.1)\n",
      "Requirement already satisfied: pyparsing>=2.0.2 in c:\\users\\jdehart\\anaconda3\\envs\\sos_env\\lib\\site-packages (from packaging->bleach->nbconvert->jupyter->mysql-kernel) (3.0.6)\n",
      "Requirement already satisfied: numpy>=1.17.3 in c:\\users\\jdehart\\anaconda3\\envs\\sos_env\\lib\\site-packages (from pandas->mysql-kernel) (1.21.4)\n",
      "Requirement already satisfied: pytz>=2017.3 in c:\\users\\jdehart\\anaconda3\\envs\\sos_env\\lib\\site-packages (from pandas->mysql-kernel) (2021.3)\n",
      "Requirement already satisfied: qtpy in c:\\users\\jdehart\\anaconda3\\envs\\sos_env\\lib\\site-packages (from qtconsole->jupyter->mysql-kernel) (1.11.2)\n",
      "Requirement already satisfied: greenlet!=0.4.17 in c:\\users\\jdehart\\anaconda3\\envs\\sos_env\\lib\\site-packages (from sqlalchemy->mysql-kernel) (1.1.2)\n"
     ]
    }
   ],
   "source": [
    "import sys\n",
    "!{sys.executable} -m pip install mysql-kernel"
   ]
  }
 ],
 "metadata": {
  "kernelspec": {
   "display_name": "Python 3 (ipykernel)",
   "language": "python",
   "name": "python3"
  },
  "language_info": {
   "codemirror_mode": {
    "name": "ipython",
    "version": 3
   },
   "file_extension": ".py",
   "mimetype": "text/x-python",
   "name": "python",
   "nbconvert_exporter": "python",
   "pygments_lexer": "ipython3",
   "version": "3.8.12"
  }
 },
 "nbformat": 4,
 "nbformat_minor": 5
}
