{
 "cells": [
  {
   "cell_type": "code",
   "execution_count": 6,
   "id": "ae32b4d7-ff43-456f-bef9-9aa79414813c",
   "metadata": {},
   "outputs": [
    {
     "name": "stderr",
     "output_type": "stream",
     "text": [
      "ERROR:no viable alternative at input '\"Test\"' (6.sysml line : 1 column : 9)\n",
      "ERROR:extraneous input '}' expecting EOF (6.sysml line : 3 column : 1)\n"
     ]
    },
    {
     "data": {
      "text/plain": []
     },
     "execution_count": 6,
     "metadata": {},
     "output_type": "execute_result"
    }
   ],
   "source": [
    "Package \"Test\" {\n",
    "    PartA {}\n",
    "}"
   ]
  },
  {
   "cell_type": "code",
   "execution_count": 3,
   "id": "40cc8636-62e8-4e52-bd8c-4713e72ab5fb",
   "metadata": {},
   "outputs": [
    {
     "data": {
      "text/plain": [
       "ERROR:Couldn't resolve reference to Element 'Test'\n"
      ]
     },
     "execution_count": 3,
     "metadata": {},
     "output_type": "execute_result"
    }
   ],
   "source": [
    "%viz Test"
   ]
  },
  {
   "cell_type": "code",
   "execution_count": null,
   "id": "1a9fd763-5d91-421e-8b9b-9fa180757ed7",
   "metadata": {},
   "outputs": [],
   "source": []
  }
 ],
 "metadata": {
  "kernelspec": {
   "display_name": "SysML",
   "language": "sysml",
   "name": "sysml"
  },
  "language_info": {
   "codemirror_mode": "sysml",
   "file_extension": ".sysml",
   "mimetype": "text/x-sysml",
   "name": "SysML",
   "pygments_lexer": "java",
   "version": "1.0.0"
  }
 },
 "nbformat": 4,
 "nbformat_minor": 5
}
