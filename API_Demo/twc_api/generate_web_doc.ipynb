{
 "cells": [
  {
   "cell_type": "markdown",
   "id": "1a8ab691-bf05-403f-ad95-79fe1c39f26a",
   "metadata": {},
   "source": [
    "This is an example of pulling a web report and all digram images from a twc instance. (https://docs.nomagic.com/display/MD2021x/Generating+a+report+from+Teamwork+Cloud+Server)\n",
    "\n",
    "Example command:\n",
    "```\n",
    ".\\generate -server \"18.205.77.131\" -login \"Administrator\" -password \"avian123!\" -servertype \"twcloud\" -project \"Test Model\" -package \"Model\" -template \"Web Publisher 2.0\" -output \"C:\\temp\\test_model.html\"\n",
    "```\n",
    "\n",
    "- Here the \"project\" just the name of the project as stated in the twc 'Manage Projects' popup window, no need to specify the category.\n",
    "- The 'model' is any model (or package) name in the project in the csm model. Note that all sub models of any top level model are pulled as well.\n",
    "\n",
    "To get to the teamwork cloud instance --> https://sithteam01.dmz.spf.nawcad.navy.mil:8443/webapp/\n",
    "- Here you can verify the project names and pull andy twcloud links. \n",
    "- Just drill down to the resource and clict the verital ellipsis on the right side of teh row. Select 'Get project link'.\n",
    "\n",
    "```\n",
    "mdel://ANY?projectID=twcloud:/./a4c1fe7a-f3dc-40eb-8e03-1c3991076be5&serverType=esiserver&serverName=214.16.218.27&projectName=Process+-+Digital+Thread+Prototyping&elementName=ANY_NAME\n",
    "```\n",
    "\n",
    "From this link you can extract the server IP, and the project name (clean out the '+'). So now lets build a call for the MTAS model.\n",
    "\n",
    "Project: Process-Digital Thread Prototyping\n",
    "Model: SOW Build Out\n",
    "\n",
    ".\\generate -server \"214.16.218.27\" -login \"jdehart-sa\" -password \"asdf1234ASDF!@#$\" -servertype \"twcloud\" -project \"Process-Digital Thread Prototyping\" -package \"SOW Build Out\" -template \"Web Publisher 2.0\" -output \"C:\\temp\\SOW Build Out.html\"\n",
    "\n",
    "On Linux any '!' in the command line will crash it. Not sure how to fix this yet. So no '!' in passwords and such.\n"
   ]
  },
  {
   "cell_type": "code",
   "execution_count": null,
   "id": "bb27d8d7-c5d4-43be-9456-4d61bf31739c",
   "metadata": {},
   "outputs": [],
   "source": []
  }
 ],
 "metadata": {
  "kernelspec": {
   "display_name": "Python 3 (ipykernel)",
   "language": "python",
   "name": "python3"
  },
  "language_info": {
   "codemirror_mode": {
    "name": "ipython",
    "version": 3
   },
   "file_extension": ".py",
   "mimetype": "text/x-python",
   "name": "python",
   "nbconvert_exporter": "python",
   "pygments_lexer": "ipython3",
   "version": "3.9.13"
  }
 },
 "nbformat": 4,
 "nbformat_minor": 5
}
