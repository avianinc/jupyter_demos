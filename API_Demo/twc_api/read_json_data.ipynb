{
 "cells": [
  {
   "cell_type": "code",
   "execution_count": null,
   "id": "59539c78-3212-43d2-ad6f-3d9f69c40740",
   "metadata": {},
   "outputs": [],
   "source": [
    "import json"
   ]
  },
  {
   "cell_type": "code",
   "execution_count": 27,
   "id": "63e81cb2-e9ae-426b-8eb8-2aef11e0090a",
   "metadata": {},
   "outputs": [
    {
     "name": "stdout",
     "output_type": "stream",
     "text": [
      "[{'@id': '0e37eafb-c6e0-4c24-83a0-93811881f7af'}, {'@id': 'be92982c-974c-42c5-9ec4-ea2a82cb7807'}, {'@id': 'c2124f2d-6826-40cd-a082-8f6d270114cd'}, {'@id': 'd61787c7-578c-4240-a60f-ba78b1c84ad8'}]\n"
     ]
    }
   ],
   "source": [
    "# This is a single item file we can call this to memory by data['##element id##'] from elementListData['86facff7-1c98-4689-8de6-34cda19b75b7']\n",
    "# Read json file\n",
    "with open('partA.json') as f:\n",
    "    data = json.load(f)"
   ]
  },
  {
   "cell_type": "code",
   "execution_count": 51,
   "id": "20186fed-061e-469c-9788-600b09b63dd8",
   "metadata": {},
   "outputs": [
    {
     "data": {
      "text/plain": [
       "'86facff7-1c98-4689-8de6-34cda19b75b7'"
      ]
     },
     "execution_count": 51,
     "metadata": {},
     "output_type": "execute_result"
    }
   ],
   "source": [
    "# Fetch the id only (no #)\n",
    "data['data'][1]['kerml:esiID']"
   ]
  },
  {
   "cell_type": "code",
   "execution_count": 50,
   "id": "d0e838df-7200-48bd-a486-f08b27e9b1b1",
   "metadata": {},
   "outputs": [
    {
     "name": "stdout",
     "output_type": "stream",
     "text": [
      "[{'@id': '0e37eafb-c6e0-4c24-83a0-93811881f7af'}, {'@id': 'be92982c-974c-42c5-9ec4-ea2a82cb7807'}, {'@id': 'c2124f2d-6826-40cd-a082-8f6d270114cd'}, {'@id': 'd61787c7-578c-4240-a60f-ba78b1c84ad8'}]\n"
     ]
    }
   ],
   "source": [
    "# Extract id of each ownedElement\n",
    "ownedElement_id = data['data'][1]['kerml:ownedElement']\n",
    "print(ownedElement_id)"
   ]
  },
  {
   "cell_type": "code",
   "execution_count": 28,
   "id": "60e2ba86-c509-47b6-a7d4-c106aba5ecc6",
   "metadata": {},
   "outputs": [],
   "source": [
    "# Read json file\n",
    "with open('elementListData.json') as f:\n",
    "    elementListData = json.load(f)"
   ]
  },
  {
   "cell_type": "code",
   "execution_count": 29,
   "id": "0cf9e4c7-1c2d-45fd-8a32-960cf93bfbd9",
   "metadata": {},
   "outputs": [
    {
     "data": {
      "text/plain": [
       "'partA'"
      ]
     },
     "execution_count": 29,
     "metadata": {},
     "output_type": "execute_result"
    }
   ],
   "source": [
    "elementListData['86facff7-1c98-4689-8de6-34cda19b75b7']['data'][1]['kerml:name']"
   ]
  },
  {
   "cell_type": "code",
   "execution_count": null,
   "id": "91adfea5-c086-4890-8164-62adb3f0b9a3",
   "metadata": {},
   "outputs": [],
   "source": [
    "elementListData"
   ]
  },
  {
   "cell_type": "code",
   "execution_count": null,
   "id": "173b7d22-51af-4bc7-9780-c1a3ce85d134",
   "metadata": {},
   "outputs": [],
   "source": []
  }
 ],
 "metadata": {
  "kernelspec": {
   "display_name": "Python 3 (ipykernel)",
   "language": "python",
   "name": "python3"
  },
  "language_info": {
   "codemirror_mode": {
    "name": "ipython",
    "version": 3
   },
   "file_extension": ".py",
   "mimetype": "text/x-python",
   "name": "python",
   "nbconvert_exporter": "python",
   "pygments_lexer": "ipython3",
   "version": "3.9.15"
  }
 },
 "nbformat": 4,
 "nbformat_minor": 5
}
