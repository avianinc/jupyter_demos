{
 "metadata": {
  "kernelspec": {
   "display_name": "SysML",
   "language": "sysml",
   "name": "sysml"
  },
  "language_info": {
   "codemirror_mode": "sysml",
   "file_extension": ".sysml",
   "mimetype": "text/x-sysml",
   "name": "SysML",
   "pygments_lexer": "java",
   "version": "1.0.0"
  },
  "name": ""
 },
 "nbformat": 3,
 "nbformat_minor": 0,
 "worksheets": [
  {
   "cells": [
    {
     "cell_type": "code",
     "collapsed": false,
     "input": [
      "package SimpleSystem {\n",
      "\n",
      "    import ScalarValues::*;\n",
      "    \n",
      "    part def partWithMass {\n",
      "        attribute mass:Real;\n",
      "    }\n",
      "\n",
      "    part partA:partWithMass {\n",
      "        part partB:partWithMass[1..*];\n",
      "        part partC:partWithMass[1..2];\n",
      "    }\n",
      "}"
     ],
     "language": "python",
     "metadata": {},
     "outputs": [
      {
       "metadata": {},
       "output_type": "pyout",
       "prompt_number": 1,
       "text": [
        "Package SimpleSystem (a74b7a93-9c23-4e4b-aef8-f7336b3ae142)\n"
       ]
      }
     ],
     "prompt_number": 1
    },
    {
     "cell_type": "code",
     "collapsed": false,
     "input": [
      "%viz SimpleSystem"
     ],
     "language": "python",
     "metadata": {},
     "outputs": [
      {
       "metadata": {},
       "output_type": "pyout",
       "prompt_number": 2,
       "svg": [
        "<?xml version=\"1.0\" encoding=\"UTF-8\" standalone=\"no\"?><svg xmlns=\"http://www.w3.org/2000/svg\" xmlns:xlink=\"http://www.w3.org/1999/xlink\" contentStyleType=\"text/css\" height=\"366px\" preserveAspectRatio=\"none\" style=\"width:415px;height:366px;background:#FFFFFF;\" version=\"1.1\" viewBox=\"0 0 415 366\" width=\"415px\" zoomAndPan=\"magnify\"><defs/><g><!--MD5=[fbc87193dbaf4d95561dea2c320d4a47]\n",
        "cluster E1--><g id=\"cluster_E1\"><a href=\"psysml:a74b7a93-9c23-4e4b-aef8-f7336b3ae142\" target=\"_top\" title=\"psysml:a74b7a93-9c23-4e4b-aef8-f7336b3ae142\" xlink:actuate=\"onRequest\" xlink:href=\"psysml:a74b7a93-9c23-4e4b-aef8-f7336b3ae142\" xlink:show=\"new\" xlink:title=\"psysml:a74b7a93-9c23-4e4b-aef8-f7336b3ae142\" xlink:type=\"simple\"><polygon fill=\"none\" points=\"16,6,119,6,126,29.6094,398,29.6094,398,359,16,359,16,6\" style=\"stroke:#000000;stroke-width:1.5;\"/><line style=\"stroke:#000000;stroke-width:1.5;\" x1=\"16\" x2=\"126\" y1=\"29.6094\" y2=\"29.6094\"/><text fill=\"#000000\" font-family=\"sans-serif\" font-size=\"14\" font-weight=\"bold\" lengthAdjust=\"spacing\" textLength=\"97\" x=\"20\" y=\"22.5332\">SimpleSystem</text></a></g><!--MD5=[b4997ac47864f28c2f74865a473b2911]\n",
        "class E2--><a href=\"psysml:d4cc2572-a0e4-418e-a2f0-654475550314\" target=\"_top\" title=\"psysml:d4cc2572-a0e4-418e-a2f0-654475550314\" xlink:actuate=\"onRequest\" xlink:href=\"psysml:d4cc2572-a0e4-418e-a2f0-654475550314\" xlink:show=\"new\" xlink:title=\"psysml:d4cc2572-a0e4-418e-a2f0-654475550314\" xlink:type=\"simple\"><g id=\"elem_E2\"><rect fill=\"#FFFFFF\" height=\"79.3563\" id=\"E2\" style=\"stroke:#181818;stroke-width:0.5;\" width=\"92\" x=\"92\" y=\"264\"/><text fill=\"#000000\" font-family=\"sans-serif\" font-size=\"12\" font-style=\"italic\" lengthAdjust=\"spacing\" textLength=\"58\" x=\"109\" y=\"281.457\">\u00abpart  def\u00bb</text><text fill=\"#000000\" font-family=\"sans-serif\" font-size=\"14\" lengthAdjust=\"spacing\" textLength=\"86\" x=\"95\" y=\"298.627\">partWithMass</text><line style=\"stroke:#181818;stroke-width:0.5;\" x1=\"93\" x2=\"183\" y1=\"306.7031\" y2=\"306.7031\"/><text fill=\"#000000\" font-family=\"sans-serif\" font-size=\"14\" lengthAdjust=\"spacing\" textLength=\"70\" x=\"98\" y=\"336.2801\">mass: Real</text><text fill=\"#000000\" font-family=\"sans-serif\" font-size=\"14\" font-style=\"italic\" lengthAdjust=\"spacing\" textLength=\"59\" x=\"108.5\" y=\"319.9316\">attributes</text></g></a><!--MD5=[09b614a08d8cba4a07c9adeb5e0fee81]\n",
        "class E3--><a href=\"psysml:c91b37dd-29e5-47ee-8554-1e19b269f48f\" target=\"_top\" title=\"psysml:c91b37dd-29e5-47ee-8554-1e19b269f48f\" xlink:actuate=\"onRequest\" xlink:href=\"psysml:c91b37dd-29e5-47ee-8554-1e19b269f48f\" xlink:show=\"new\" xlink:title=\"psysml:c91b37dd-29e5-47ee-8554-1e19b269f48f\" xlink:type=\"simple\"><g id=\"elem_E3\"><rect fill=\"#FFFFFF\" height=\"50.7031\" id=\"E3\" rx=\"10\" ry=\"10\" style=\"stroke:#181818;stroke-width:0.5;\" width=\"138\" x=\"69\" y=\"42\"/><text fill=\"#000000\" font-family=\"sans-serif\" font-size=\"12\" font-style=\"italic\" lengthAdjust=\"spacing\" textLength=\"35\" x=\"120.5\" y=\"59.457\">\u00abpart\u00bb</text><text fill=\"#000000\" font-family=\"sans-serif\" font-size=\"14\" lengthAdjust=\"spacing\" textLength=\"128\" x=\"72\" y=\"76.627\">partA: partWithMass</text><line style=\"stroke:#181818;stroke-width:0.5;\" x1=\"70\" x2=\"206\" y1=\"84.7031\" y2=\"84.7031\"/></g></a><!--MD5=[ebbe1d658d1005bcc118a6aa81145e00]\n",
        "class E4--><a href=\"psysml:4d1b3f0a-6442-4e12-a2a8-151e5782749c\" target=\"_top\" title=\"psysml:4d1b3f0a-6442-4e12-a2a8-151e5782749c\" xlink:actuate=\"onRequest\" xlink:href=\"psysml:4d1b3f0a-6442-4e12-a2a8-151e5782749c\" xlink:show=\"new\" xlink:title=\"psysml:4d1b3f0a-6442-4e12-a2a8-151e5782749c\" xlink:type=\"simple\"><g id=\"elem_E4\"><rect fill=\"#FFFFFF\" height=\"50.7031\" id=\"E4\" rx=\"10\" ry=\"10\" style=\"stroke:#181818;stroke-width:0.5;\" width=\"138\" x=\"69\" y=\"153\"/><text fill=\"#000000\" font-family=\"sans-serif\" font-size=\"12\" font-style=\"italic\" lengthAdjust=\"spacing\" textLength=\"35\" x=\"120.5\" y=\"170.457\">\u00abpart\u00bb</text><text fill=\"#000000\" font-family=\"sans-serif\" font-size=\"14\" lengthAdjust=\"spacing\" textLength=\"128\" x=\"72\" y=\"187.627\">partB: partWithMass</text><line style=\"stroke:#181818;stroke-width:0.5;\" x1=\"70\" x2=\"206\" y1=\"195.7031\" y2=\"195.7031\"/></g></a><!--MD5=[270fce915f116d4de14055a7c1d9a0f3]\n",
        "class E5--><a href=\"psysml:9a80a271-e881-4657-b338-2dfbcc9a1fbf\" target=\"_top\" title=\"psysml:9a80a271-e881-4657-b338-2dfbcc9a1fbf\" xlink:actuate=\"onRequest\" xlink:href=\"psysml:9a80a271-e881-4657-b338-2dfbcc9a1fbf\" xlink:show=\"new\" xlink:title=\"psysml:9a80a271-e881-4657-b338-2dfbcc9a1fbf\" xlink:type=\"simple\"><g id=\"elem_E5\"><rect fill=\"#FFFFFF\" height=\"50.7031\" id=\"E5\" rx=\"10\" ry=\"10\" style=\"stroke:#181818;stroke-width:0.5;\" width=\"139\" x=\"242.5\" y=\"153\"/><text fill=\"#000000\" font-family=\"sans-serif\" font-size=\"12\" font-style=\"italic\" lengthAdjust=\"spacing\" textLength=\"35\" x=\"294.5\" y=\"170.457\">\u00abpart\u00bb</text><text fill=\"#000000\" font-family=\"sans-serif\" font-size=\"14\" lengthAdjust=\"spacing\" textLength=\"129\" x=\"245.5\" y=\"187.627\">partC: partWithMass</text><line style=\"stroke:#181818;stroke-width:0.5;\" x1=\"243.5\" x2=\"380.5\" y1=\"195.7031\" y2=\"195.7031\"/></g></a><!--MD5=[05d275557350bfb9b23a4ef7222b4c39]\n",
        "link E3 to E2--><g id=\"link_E3_E2\"><a href=\"psysml:5676283d-fc30-4ff0-be36-16a7dde63e31\" target=\"_top\" title=\"psysml:5676283d-fc30-4ff0-be36-16a7dde63e31\" xlink:actuate=\"onRequest\" xlink:href=\"psysml:5676283d-fc30-4ff0-be36-16a7dde63e31\" xlink:show=\"new\" xlink:title=\"psysml:5676283d-fc30-4ff0-be36-16a7dde63e31\" xlink:type=\"simple\"><path d=\"M101.02,93.19 C82.23,108.04 61.25,128.76 51,153 C42.17,173.88 42.98,182.8 51,204 C57.15,220.26 67.35,235.56 78.64,249.04 \" fill=\"none\" id=\"E3-to-E2\" style=\"stroke:#181818;stroke-width:1.0;\"/><polygon fill=\"#FFFFFF\" points=\"92.21,263.98,74.2487,254.6316,84.607,245.2132,92.21,263.98\" style=\"stroke:#181818;stroke-width:1.0;\"/><ellipse cx=\"71.8938\" cy=\"249.0688\" fill=\"#181818\" rx=\"2\" ry=\"2\" style=\"stroke:#181818;stroke-width:1.0;\"/><ellipse cx=\"79.2926\" cy=\"242.3414\" fill=\"#181818\" rx=\"2\" ry=\"2\" style=\"stroke:#181818;stroke-width:1.0;\"/></a></g><!--MD5=[4672eba38e49728da53d11aeb285b987]\n",
        "reverse link E3 to E4--><g id=\"link_E3_E4\"><a href=\"psysml:2d6d7af6-1b17-4a94-8e83-d8ace736f4f8\" target=\"_top\" title=\"psysml:2d6d7af6-1b17-4a94-8e83-d8ace736f4f8\" xlink:actuate=\"onRequest\" xlink:href=\"psysml:2d6d7af6-1b17-4a94-8e83-d8ace736f4f8\" xlink:show=\"new\" xlink:title=\"psysml:2d6d7af6-1b17-4a94-8e83-d8ace736f4f8\" xlink:type=\"simple\"><path d=\"M138,106.63 C138,121.97 138,139.22 138,152.86 \" fill=\"none\" id=\"E3-backto-E4\" style=\"stroke:#181818;stroke-width:1.0;\"/><polygon fill=\"#181818\" points=\"138,93.23,134,99.23,138,105.23,142,99.23,138,93.23\" style=\"stroke:#181818;stroke-width:1.0;\"/><text fill=\"#000000\" font-family=\"sans-serif\" font-size=\"13\" lengthAdjust=\"spacing\" textLength=\"20\" x=\"115.5625\" y=\"142.2344\">1..*</text></a></g><!--MD5=[185131fc0dcab0a4505a2ebe144e961b]\n",
        "link E4 to E2--><g id=\"link_E4_E2\"><a href=\"psysml:ab54e77b-90ca-4a48-bbfa-2c8af93e8104\" target=\"_top\" title=\"psysml:ab54e77b-90ca-4a48-bbfa-2c8af93e8104\" xlink:actuate=\"onRequest\" xlink:href=\"psysml:ab54e77b-90ca-4a48-bbfa-2c8af93e8104\" xlink:show=\"new\" xlink:title=\"psysml:ab54e77b-90ca-4a48-bbfa-2c8af93e8104\" xlink:type=\"simple\"><path d=\"M138,204.1 C138,215.59 138,229.81 138,243.83 \" fill=\"none\" id=\"E4-to-E2\" style=\"stroke:#181818;stroke-width:1.0;\"/><polygon fill=\"#FFFFFF\" points=\"138,263.9,131,244.9,145,244.9,138,263.9\" style=\"stroke:#181818;stroke-width:1.0;\"/><ellipse cx=\"133\" cy=\"239.2\" fill=\"#181818\" rx=\"2\" ry=\"2\" style=\"stroke:#181818;stroke-width:1.0;\"/><ellipse cx=\"143\" cy=\"239.2\" fill=\"#181818\" rx=\"2\" ry=\"2\" style=\"stroke:#181818;stroke-width:1.0;\"/></a></g><!--MD5=[191cde3d490a3f6d7bb551fe3ddca469]\n",
        "reverse link E3 to E5--><g id=\"link_E3_E5\"><a href=\"psysml:e47ceafe-340c-4134-b3c9-d7e86653d508\" target=\"_top\" title=\"psysml:e47ceafe-340c-4134-b3c9-d7e86653d508\" xlink:actuate=\"onRequest\" xlink:href=\"psysml:e47ceafe-340c-4134-b3c9-d7e86653d508\" xlink:show=\"new\" xlink:title=\"psysml:e47ceafe-340c-4134-b3c9-d7e86653d508\" xlink:type=\"simple\"><path d=\"M188.58,100.19 C215.37,116.97 247.79,137.28 272.67,152.86 \" fill=\"none\" id=\"E3-backto-E5\" style=\"stroke:#181818;stroke-width:1.0;\"/><polygon fill=\"#181818\" points=\"177.48,93.23,180.435,99.8078,187.6434,99.6101,184.6884,93.0323,177.48,93.23\" style=\"stroke:#181818;stroke-width:1.0;\"/><text fill=\"#000000\" font-family=\"sans-serif\" font-size=\"13\" lengthAdjust=\"spacing\" textLength=\"22\" x=\"238.4021\" y=\"142.2344\">1..2</text></a></g><!--MD5=[15ebcb19ae302d9b601edb458606d402]\n",
        "link E5 to E2--><g id=\"link_E5_E2\"><a href=\"psysml:41934575-8713-4b48-bd48-528a4fa81dbc\" target=\"_top\" title=\"psysml:41934575-8713-4b48-bd48-528a4fa81dbc\" xlink:actuate=\"onRequest\" xlink:href=\"psysml:41934575-8713-4b48-bd48-528a4fa81dbc\" xlink:show=\"new\" xlink:title=\"psysml:41934575-8713-4b48-bd48-528a4fa81dbc\" xlink:type=\"simple\"><path d=\"M277.21,204.1 C255.32,219.57 226.44,239.98 200.67,258.2 \" fill=\"none\" id=\"E5-to-E2\" style=\"stroke:#181818;stroke-width:1.0;\"/><polygon fill=\"#FFFFFF\" points=\"184.28,269.79,195.7542,253.1064,203.8356,264.5384,184.28,269.79\" style=\"stroke:#181818;stroke-width:1.0;\"/><ellipse cx=\"201.5631\" cy=\"251.4492\" fill=\"#181818\" rx=\"2\" ry=\"2\" style=\"stroke:#181818;stroke-width:1.0;\"/><ellipse cx=\"207.3355\" cy=\"259.6149\" fill=\"#181818\" rx=\"2\" ry=\"2\" style=\"stroke:#181818;stroke-width:1.0;\"/></a></g><!--MD5=[0032f5987a993c732c9329f98db7e459]\n",
        "@startuml\r\n",
        "skin sysmlbw\r\n",
        "skinparam monochrome true\r\n",
        "skinparam wrapWidth 300\r\n",
        "hide circle\r\n",
        "\r\n",
        "package \"SimpleSystem\" as E1  [[psysml:a74b7a93-9c23-4e4b-aef8-f7336b3ae142 ]]  {\r\n",
        "comp def \"partWithMass\" as E2  <<(T,blue) part  def>> [[psysml:d4cc2572-a0e4-418e-a2f0-654475550314 ]] {\r\n",
        "##//attributes//##\r\n",
        "mass: Real\r\n",
        "}\r\n",
        "comp usage \"partA: partWithMass \" as E3  <<(T,blue) part>> [[psysml:c91b37dd-29e5-47ee-8554-1e19b269f48f ]] {\r\n",
        "}\r\n",
        "comp usage \"partB: partWithMass \" as E4  <<(T,blue) part>> [[psysml:4d1b3f0a-6442-4e12-a2a8-151e5782749c ]] {\r\n",
        "}\r\n",
        "comp usage \"partC: partWithMass \" as E5  <<(T,blue) part>> [[psysml:9a80a271-e881-4657-b338-2dfbcc9a1fbf ]] {\r\n",
        "}\r\n",
        "}\r\n",
        "E3 - -:|> E2 [[psysml:5676283d-fc30-4ff0-be36-16a7dde63e31 ]] \r\n",
        "E3 *- - \"1..*\"E4 [[psysml:2d6d7af6-1b17-4a94-8e83-d8ace736f4f8 ]] \r\n",
        "E4 - -:|> E2 [[psysml:ab54e77b-90ca-4a48-bbfa-2c8af93e8104 ]] \r\n",
        "E3 *- - \"1..2\"E5 [[psysml:e47ceafe-340c-4134-b3c9-d7e86653d508 ]] \r\n",
        "E5 - -:|> E2 [[psysml:41934575-8713-4b48-bd48-528a4fa81dbc ]] \r\n",
        "@enduml\r\n",
        "\n",
        "PlantUML version 1.2022.7(Mon Aug 22 13:01:30 EDT 2022)\n",
        "(EPL source distribution)\n",
        "Java Runtime: OpenJDK Runtime Environment\n",
        "JVM: OpenJDK 64-Bit Server VM\n",
        "Default Encoding: Cp1252\n",
        "Language: en\n",
        "Country: US\n",
        "--></g></svg>"
       ]
      }
     ],
     "prompt_number": 2
    }
   ],
   "metadata": {}
  }
 ]
}
