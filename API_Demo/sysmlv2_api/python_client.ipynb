{
 "cells": [
  {
   "cell_type": "code",
   "execution_count": 7,
   "id": "c28019fd-d9df-4dc7-956e-d566409ab263",
   "metadata": {},
   "outputs": [],
   "source": [
    "from __future__ import print_function\n",
    "\n",
    "import time\n",
    "import requests\n",
    "from pprint import pprint\n",
    "import pandas as pd\n",
    "import json\n",
    "from datetime import datetime\n",
    "\n",
    "#host = \"\n",
    "host = \"http://54.208.197.217:9000\""
   ]
  },
  {
   "cell_type": "code",
   "execution_count": 8,
   "id": "08a5d826-c0a7-43bb-9e82-598dbc686fe5",
   "metadata": {},
   "outputs": [
    {
     "data": {
      "text/html": [
       "<style type=\"text/css\">\n",
       "</style>\n",
       "<table id=\"T_e0618\">\n",
       "  <thead>\n",
       "    <tr>\n",
       "      <th id=\"T_e0618_level0_col0\" class=\"col_heading level0 col0\" >Project Name</th>\n",
       "      <th id=\"T_e0618_level0_col1\" class=\"col_heading level0 col1\" >Project ID</th>\n",
       "    </tr>\n",
       "  </thead>\n",
       "  <tbody>\n",
       "    <tr>\n",
       "      <td id=\"T_e0618_row0_col0\" class=\"data row0 col0\" >SimpleSystem Mon Jan 02 15:11:39 EST 2023</td>\n",
       "      <td id=\"T_e0618_row0_col1\" class=\"data row0 col1\" >0f456c0a-b156-453b-b24c-2e97a1bdabf9</td>\n",
       "    </tr>\n",
       "    <tr>\n",
       "      <td id=\"T_e0618_row1_col0\" class=\"data row1 col0\" >TestModel Thu Dec 29 13:59:46 UTC 2022</td>\n",
       "      <td id=\"T_e0618_row1_col1\" class=\"data row1 col1\" >70e332c1-ad56-4edd-812c-bcfb5d5ee185</td>\n",
       "    </tr>\n",
       "    <tr>\n",
       "      <td id=\"T_e0618_row2_col0\" class=\"data row2 col0\" >Spacecraft project - 2023-01-04 08:13:20.451589</td>\n",
       "      <td id=\"T_e0618_row2_col1\" class=\"data row2 col1\" >832495b3-6d3f-423e-a4ef-cc282f023092</td>\n",
       "    </tr>\n",
       "    <tr>\n",
       "      <td id=\"T_e0618_row3_col0\" class=\"data row3 col0\" >Spacecraft project - 2023-01-02 15:35:54.638054</td>\n",
       "      <td id=\"T_e0618_row3_col1\" class=\"data row3 col1\" >9a70162b-5c67-4684-a409-c73a07f7ae55</td>\n",
       "    </tr>\n",
       "    <tr>\n",
       "      <td id=\"T_e0618_row4_col0\" class=\"data row4 col0\" >TestModel Thu Dec 29 14:34:41 UTC 2022</td>\n",
       "      <td id=\"T_e0618_row4_col1\" class=\"data row4 col1\" >a1856c1a-a624-475d-a863-7a1bce6127ae</td>\n",
       "    </tr>\n",
       "    <tr>\n",
       "      <td id=\"T_e0618_row5_col0\" class=\"data row5 col0\" >SimpleSystem Mon Jan 02 15:12:26 EST 2023</td>\n",
       "      <td id=\"T_e0618_row5_col1\" class=\"data row5 col1\" >df52af2e-8bc0-491a-be9c-c0b458a634c9</td>\n",
       "    </tr>\n",
       "  </tbody>\n",
       "</table>\n"
      ],
      "text/plain": [
       "<pandas.io.formats.style.Styler at 0x1ca949f55b0>"
      ]
     },
     "metadata": {},
     "output_type": "display_data"
    }
   ],
   "source": [
    "projects_url = f\"{host}/projects\" \n",
    "projects_response = requests.get(projects_url)\n",
    "\n",
    "if projects_response.status_code == 200:\n",
    "    projects = projects_response.json()\n",
    "    projects_data = list(map(lambda b: {'Project Name':b['name'], 'Project ID':b['@id']}, projects))\n",
    "    df = pd.DataFrame.from_records(projects_data).style.hide(axis='index')\n",
    "    # if len(projects_data) > 0:\n",
    "    #     df = df.style.sort_values(by='Project Name')\n",
    "    display(df)\n",
    "else:\n",
    "    pprint(\"Problem in fetching projects\")"
   ]
  },
  {
   "cell_type": "code",
   "execution_count": 5,
   "id": "98df6b58-129a-4437-b3ad-21ef472c349e",
   "metadata": {},
   "outputs": [
    {
     "name": "stdout",
     "output_type": "stream",
     "text": [
      "{'@id': '832495b3-6d3f-423e-a4ef-cc282f023092',\n",
      " '@type': 'Project',\n",
      " 'defaultBranch': {'@id': '025339bc-1804-44c5-a93f-ce05a31a88d0'},\n",
      " 'description': 'Spacecraft project demonstrating Element Create, Update, '\n",
      "                'Delete steps',\n",
      " 'name': 'Spacecraft project - 2023-01-04 08:13:20.451589'}\n"
     ]
    }
   ],
   "source": [
    "# Create a new project\n",
    "timestamp = datetime.now()\n",
    "project_name = f\"Spacecraft project - {timestamp}\"\n",
    "project_data = {\n",
    "  \"@type\":\"Project\",\n",
    "  \"name\": project_name,\n",
    "  \"description\": \"Spacecraft project demonstrating Element Create, Update, Delete steps\"\n",
    "}\n",
    "\n",
    "project_post_url = f\"{host}/projects\" \n",
    "\n",
    "project_post_response = requests.post(project_post_url, \n",
    "                                      headers={\"Content-Type\": \"application/json\"}, \n",
    "                                      data=json.dumps(project_data))\n",
    "\n",
    "project_id = \"\"\n",
    "\n",
    "if project_post_response.status_code == 200:\n",
    "    project_response_json = project_post_response.json()\n",
    "    pprint(project_response_json)\n",
    "    project_id = project_response_json['@id']\n",
    "    project_name = project_response_json['name']\n",
    "else:\n",
    "    pprint(f\"Problem in creating a new Spacecraft project at {timestamp}\")\n",
    "    pprint(project_post_response)"
   ]
  },
  {
   "cell_type": "code",
   "execution_count": 6,
   "id": "3f3fa414-17a3-4109-a05b-d93253f50b6a",
   "metadata": {},
   "outputs": [
    {
     "data": {
      "text/html": [
       "<style type=\"text/css\">\n",
       "</style>\n",
       "<table id=\"T_78287\">\n",
       "  <thead>\n",
       "    <tr>\n",
       "      <th id=\"T_78287_level0_col0\" class=\"col_heading level0 col0\" >Branch Name</th>\n",
       "      <th id=\"T_78287_level0_col1\" class=\"col_heading level0 col1\" >Branch ID</th>\n",
       "      <th id=\"T_78287_level0_col2\" class=\"col_heading level0 col2\" >Ref Commit (head)</th>\n",
       "    </tr>\n",
       "  </thead>\n",
       "  <tbody>\n",
       "    <tr>\n",
       "      <td id=\"T_78287_row0_col0\" class=\"data row0 col0\" >main</td>\n",
       "      <td id=\"T_78287_row0_col1\" class=\"data row0 col1\" >025339bc-1804-44c5-a93f-ce05a31a88d0</td>\n",
       "      <td id=\"T_78287_row0_col2\" class=\"data row0 col2\" >None</td>\n",
       "    </tr>\n",
       "  </tbody>\n",
       "</table>\n"
      ],
      "text/plain": [
       "<pandas.io.formats.style.Styler at 0x1ca94bd99d0>"
      ]
     },
     "metadata": {},
     "output_type": "display_data"
    }
   ],
   "source": [
    "# Now get branches\n",
    "branches_url = f\"{host}/projects/{project_id}/branches\" \n",
    "branches_response = requests.get(branches_url)\n",
    "\n",
    "if branches_response.status_code == 200:\n",
    "    branches = branches_response.json()\n",
    "    branches_data = list(map(lambda b: {'Branch Name':b['name'], 'Branch ID':b['@id'], 'Ref Commit (head)':b['head']}, branches))\n",
    "\n",
    "    df = pd.DataFrame.from_records(branches_data).sort_values(by='Branch Name').style.hide(axis='index')\n",
    "    display(df)\n",
    "else:\n",
    "    pprint(f\"Problem in fetching branches of Spacecraft project {project_id}\")\n",
    "    pprint(branches_response)"
   ]
  },
  {
   "cell_type": "code",
   "execution_count": null,
   "id": "4b5bcbe2-8e38-4c10-8260-07b2dbbb2ece",
   "metadata": {},
   "outputs": [],
   "source": [
    "# Now "
   ]
  }
 ],
 "metadata": {
  "kernelspec": {
   "display_name": "Python 3 (ipykernel)",
   "language": "python",
   "name": "python3"
  },
  "language_info": {
   "codemirror_mode": {
    "name": "ipython",
    "version": 3
   },
   "file_extension": ".py",
   "mimetype": "text/x-python",
   "name": "python",
   "nbconvert_exporter": "python",
   "pygments_lexer": "ipython3",
   "version": "3.9.15"
  }
 },
 "nbformat": 4,
 "nbformat_minor": 5
}
