{
 "cells": [
  {
   "cell_type": "code",
   "execution_count": 1,
   "id": "7e8854eb-1783-414e-a710-8dabb9292551",
   "metadata": {},
   "outputs": [
    {
     "data": {
      "text/plain": [
       "Package SimpleSystem (bb0a546c-663a-4e60-b7c5-8132895b4c33)\n"
      ]
     },
     "execution_count": 1,
     "metadata": {},
     "output_type": "execute_result"
    }
   ],
   "source": [
    "package SimpleSystem {\n",
    "\n",
    "    import ScalarValues::*;\n",
    "    \n",
    "    part def partWithMass {\n",
    "        attribute mass:Real;\n",
    "    }\n",
    "\n",
    "    part partA:partWithMass {\n",
    "        part partB:partWithMass[1..*];\n",
    "        part partC:partWithMass[1..2]{\n",
    "            part partC:partWithMass[1..2];\n",
    "            part partD:partWithMass[1..2];\n",
    "        }\n",
    "    }\n",
    "}"
   ]
  },
  {
   "cell_type": "code",
   "execution_count": 2,
   "id": "e6e83b2a-19b6-4479-ab3b-46d38d8ae0bb",
   "metadata": {},
   "outputs": [
    {
     "data": {
      "image/svg+xml": [
       "<?xml version=\"1.0\" encoding=\"UTF-8\" standalone=\"no\"?><svg xmlns=\"http://www.w3.org/2000/svg\" xmlns:xlink=\"http://www.w3.org/1999/xlink\" contentStyleType=\"text/css\" height=\"477px\" preserveAspectRatio=\"none\" style=\"width:490px;height:477px;background:#FFFFFF;\" version=\"1.1\" viewBox=\"0 0 490 477\" width=\"490px\" zoomAndPan=\"magnify\"><defs/><g><!--MD5=[fbc87193dbaf4d95561dea2c320d4a47]\n",
       "cluster E1--><g id=\"cluster_E1\"><a href=\"psysml:bb0a546c-663a-4e60-b7c5-8132895b4c33\" target=\"_top\" title=\"psysml:bb0a546c-663a-4e60-b7c5-8132895b4c33\" xlink:actuate=\"onRequest\" xlink:href=\"psysml:bb0a546c-663a-4e60-b7c5-8132895b4c33\" xlink:show=\"new\" xlink:title=\"psysml:bb0a546c-663a-4e60-b7c5-8132895b4c33\" xlink:type=\"simple\"><polygon fill=\"none\" points=\"16,6,119,6,126,29.6094,473,29.6094,473,470,16,470,16,6\" style=\"stroke:#000000;stroke-width:1.5;\"/><line style=\"stroke:#000000;stroke-width:1.5;\" x1=\"16\" x2=\"126\" y1=\"29.6094\" y2=\"29.6094\"/><text fill=\"#000000\" font-family=\"sans-serif\" font-size=\"14\" font-weight=\"bold\" lengthAdjust=\"spacing\" textLength=\"97\" x=\"20\" y=\"22.5332\">SimpleSystem</text></a></g><!--MD5=[b4997ac47864f28c2f74865a473b2911]\n",
       "class E2--><a href=\"psysml:0d874363-2279-4616-b31a-9c40cdcc9d96\" target=\"_top\" title=\"psysml:0d874363-2279-4616-b31a-9c40cdcc9d96\" xlink:actuate=\"onRequest\" xlink:href=\"psysml:0d874363-2279-4616-b31a-9c40cdcc9d96\" xlink:show=\"new\" xlink:title=\"psysml:0d874363-2279-4616-b31a-9c40cdcc9d96\" xlink:type=\"simple\"><g id=\"elem_E2\"><rect fill=\"#FFFFFF\" height=\"79.3563\" id=\"E2\" style=\"stroke:#181818;stroke-width:0.5;\" width=\"92\" x=\"61\" y=\"375\"/><text fill=\"#000000\" font-family=\"sans-serif\" font-size=\"12\" font-style=\"italic\" lengthAdjust=\"spacing\" textLength=\"58\" x=\"78\" y=\"392.457\">«part  def»</text><text fill=\"#000000\" font-family=\"sans-serif\" font-size=\"14\" lengthAdjust=\"spacing\" textLength=\"86\" x=\"64\" y=\"409.627\">partWithMass</text><line style=\"stroke:#181818;stroke-width:0.5;\" x1=\"62\" x2=\"152\" y1=\"417.7031\" y2=\"417.7031\"/><text fill=\"#000000\" font-family=\"sans-serif\" font-size=\"14\" lengthAdjust=\"spacing\" textLength=\"70\" x=\"67\" y=\"447.2801\">mass: Real</text><text fill=\"#000000\" font-family=\"sans-serif\" font-size=\"14\" font-style=\"italic\" lengthAdjust=\"spacing\" textLength=\"59\" x=\"77.5\" y=\"430.9316\">attributes</text></g></a><!--MD5=[09b614a08d8cba4a07c9adeb5e0fee81]\n",
       "class E3--><a href=\"psysml:0610a039-65a3-45f8-a5e7-7118a0128bc0\" target=\"_top\" title=\"psysml:0610a039-65a3-45f8-a5e7-7118a0128bc0\" xlink:actuate=\"onRequest\" xlink:href=\"psysml:0610a039-65a3-45f8-a5e7-7118a0128bc0\" xlink:show=\"new\" xlink:title=\"psysml:0610a039-65a3-45f8-a5e7-7118a0128bc0\" xlink:type=\"simple\"><g id=\"elem_E3\"><rect fill=\"#FFFFFF\" height=\"50.7031\" id=\"E3\" rx=\"10\" ry=\"10\" style=\"stroke:#181818;stroke-width:0.5;\" width=\"138\" x=\"69\" y=\"42\"/><text fill=\"#000000\" font-family=\"sans-serif\" font-size=\"12\" font-style=\"italic\" lengthAdjust=\"spacing\" textLength=\"35\" x=\"120.5\" y=\"59.457\">«part»</text><text fill=\"#000000\" font-family=\"sans-serif\" font-size=\"14\" lengthAdjust=\"spacing\" textLength=\"128\" x=\"72\" y=\"76.627\">partA: partWithMass</text><line style=\"stroke:#181818;stroke-width:0.5;\" x1=\"70\" x2=\"206\" y1=\"84.7031\" y2=\"84.7031\"/></g></a><!--MD5=[ebbe1d658d1005bcc118a6aa81145e00]\n",
       "class E4--><a href=\"psysml:83297959-2c63-4d5f-b845-dcf22b537328\" target=\"_top\" title=\"psysml:83297959-2c63-4d5f-b845-dcf22b537328\" xlink:actuate=\"onRequest\" xlink:href=\"psysml:83297959-2c63-4d5f-b845-dcf22b537328\" xlink:show=\"new\" xlink:title=\"psysml:83297959-2c63-4d5f-b845-dcf22b537328\" xlink:type=\"simple\"><g id=\"elem_E4\"><rect fill=\"#FFFFFF\" height=\"50.7031\" id=\"E4\" rx=\"10\" ry=\"10\" style=\"stroke:#181818;stroke-width:0.5;\" width=\"138\" x=\"69\" y=\"153\"/><text fill=\"#000000\" font-family=\"sans-serif\" font-size=\"12\" font-style=\"italic\" lengthAdjust=\"spacing\" textLength=\"35\" x=\"120.5\" y=\"170.457\">«part»</text><text fill=\"#000000\" font-family=\"sans-serif\" font-size=\"14\" lengthAdjust=\"spacing\" textLength=\"128\" x=\"72\" y=\"187.627\">partB: partWithMass</text><line style=\"stroke:#181818;stroke-width:0.5;\" x1=\"70\" x2=\"206\" y1=\"195.7031\" y2=\"195.7031\"/></g></a><!--MD5=[270fce915f116d4de14055a7c1d9a0f3]\n",
       "class E5--><a href=\"psysml:5327fb7d-da77-42af-90d3-768a44aa6b08\" target=\"_top\" title=\"psysml:5327fb7d-da77-42af-90d3-768a44aa6b08\" xlink:actuate=\"onRequest\" xlink:href=\"psysml:5327fb7d-da77-42af-90d3-768a44aa6b08\" xlink:show=\"new\" xlink:title=\"psysml:5327fb7d-da77-42af-90d3-768a44aa6b08\" xlink:type=\"simple\"><g id=\"elem_E5\"><rect fill=\"#FFFFFF\" height=\"50.7031\" id=\"E5\" rx=\"10\" ry=\"10\" style=\"stroke:#181818;stroke-width:0.5;\" width=\"139\" x=\"242.5\" y=\"153\"/><text fill=\"#000000\" font-family=\"sans-serif\" font-size=\"12\" font-style=\"italic\" lengthAdjust=\"spacing\" textLength=\"35\" x=\"294.5\" y=\"170.457\">«part»</text><text fill=\"#000000\" font-family=\"sans-serif\" font-size=\"14\" lengthAdjust=\"spacing\" textLength=\"129\" x=\"245.5\" y=\"187.627\">partC: partWithMass</text><line style=\"stroke:#181818;stroke-width:0.5;\" x1=\"243.5\" x2=\"380.5\" y1=\"195.7031\" y2=\"195.7031\"/></g></a><!--MD5=[60a26617385b1d2d0262a64233df1f8d]\n",
       "class E6--><a href=\"psysml:9faf8ca0-8ffb-4d0b-8eb8-ab8c1c08f093\" target=\"_top\" title=\"psysml:9faf8ca0-8ffb-4d0b-8eb8-ab8c1c08f093\" xlink:actuate=\"onRequest\" xlink:href=\"psysml:9faf8ca0-8ffb-4d0b-8eb8-ab8c1c08f093\" xlink:show=\"new\" xlink:title=\"psysml:9faf8ca0-8ffb-4d0b-8eb8-ab8c1c08f093\" xlink:type=\"simple\"><g id=\"elem_E6\"><rect fill=\"#FFFFFF\" height=\"50.7031\" id=\"E6\" rx=\"10\" ry=\"10\" style=\"stroke:#181818;stroke-width:0.5;\" width=\"139\" x=\"143.5\" y=\"264\"/><text fill=\"#000000\" font-family=\"sans-serif\" font-size=\"12\" font-style=\"italic\" lengthAdjust=\"spacing\" textLength=\"35\" x=\"195.5\" y=\"281.457\">«part»</text><text fill=\"#000000\" font-family=\"sans-serif\" font-size=\"14\" lengthAdjust=\"spacing\" textLength=\"129\" x=\"146.5\" y=\"298.627\">partC: partWithMass</text><line style=\"stroke:#181818;stroke-width:0.5;\" x1=\"144.5\" x2=\"281.5\" y1=\"306.7031\" y2=\"306.7031\"/></g></a><!--MD5=[2156ba9850f5573cc1fc38a6a4b2f02b]\n",
       "class E7--><a href=\"psysml:160e6ca8-f8e6-4aaa-a3c8-f01b9fef1a40\" target=\"_top\" title=\"psysml:160e6ca8-f8e6-4aaa-a3c8-f01b9fef1a40\" xlink:actuate=\"onRequest\" xlink:href=\"psysml:160e6ca8-f8e6-4aaa-a3c8-f01b9fef1a40\" xlink:show=\"new\" xlink:title=\"psysml:160e6ca8-f8e6-4aaa-a3c8-f01b9fef1a40\" xlink:type=\"simple\"><g id=\"elem_E7\"><rect fill=\"#FFFFFF\" height=\"50.7031\" id=\"E7\" rx=\"10\" ry=\"10\" style=\"stroke:#181818;stroke-width:0.5;\" width=\"139\" x=\"317.5\" y=\"264\"/><text fill=\"#000000\" font-family=\"sans-serif\" font-size=\"12\" font-style=\"italic\" lengthAdjust=\"spacing\" textLength=\"35\" x=\"369.5\" y=\"281.457\">«part»</text><text fill=\"#000000\" font-family=\"sans-serif\" font-size=\"14\" lengthAdjust=\"spacing\" textLength=\"129\" x=\"320.5\" y=\"298.627\">partD: partWithMass</text><line style=\"stroke:#181818;stroke-width:0.5;\" x1=\"318.5\" x2=\"455.5\" y1=\"306.7031\" y2=\"306.7031\"/></g></a><!--MD5=[05d275557350bfb9b23a4ef7222b4c39]\n",
       "link E3 to E2--><g id=\"link_E3_E2\"><a href=\"psysml:dee92794-2159-4130-b17e-c1a0e010fba9\" target=\"_top\" title=\"psysml:dee92794-2159-4130-b17e-c1a0e010fba9\" xlink:actuate=\"onRequest\" xlink:href=\"psysml:dee92794-2159-4130-b17e-c1a0e010fba9\" xlink:show=\"new\" xlink:title=\"psysml:dee92794-2159-4130-b17e-c1a0e010fba9\" xlink:type=\"simple\"><path d=\"M101.02,93.19 C82.23,108.04 61.25,128.76 51,153 C22.78,219.74 50.07,302.34 75.49,356.4 \" fill=\"none\" id=\"E3-to-E2\" style=\"stroke:#181818;stroke-width:1.0;\"/><polygon fill=\"#FFFFFF\" points=\"84.49,374.61,69.7986,360.6758,82.3504,354.4749,84.49,374.61\" style=\"stroke:#181818;stroke-width:1.0;\"/><ellipse cx=\"69.067\" cy=\"354.6796\" fill=\"#181818\" rx=\"2\" ry=\"2\" style=\"stroke:#181818;stroke-width:1.0;\"/><ellipse cx=\"78.0326\" cy=\"350.2504\" fill=\"#181818\" rx=\"2\" ry=\"2\" style=\"stroke:#181818;stroke-width:1.0;\"/></a></g><!--MD5=[4672eba38e49728da53d11aeb285b987]\n",
       "reverse link E3 to E4--><g id=\"link_E3_E4\"><a href=\"psysml:352f9c8f-6bc2-4dd0-b333-52b639c40632\" target=\"_top\" title=\"psysml:352f9c8f-6bc2-4dd0-b333-52b639c40632\" xlink:actuate=\"onRequest\" xlink:href=\"psysml:352f9c8f-6bc2-4dd0-b333-52b639c40632\" xlink:show=\"new\" xlink:title=\"psysml:352f9c8f-6bc2-4dd0-b333-52b639c40632\" xlink:type=\"simple\"><path d=\"M138,106.63 C138,121.97 138,139.22 138,152.86 \" fill=\"none\" id=\"E3-backto-E4\" style=\"stroke:#181818;stroke-width:1.0;\"/><polygon fill=\"#181818\" points=\"138,93.23,134,99.23,138,105.23,142,99.23,138,93.23\" style=\"stroke:#181818;stroke-width:1.0;\"/><text fill=\"#000000\" font-family=\"sans-serif\" font-size=\"13\" lengthAdjust=\"spacing\" textLength=\"20\" x=\"115.5625\" y=\"142.2344\">1..*</text></a></g><!--MD5=[185131fc0dcab0a4505a2ebe144e961b]\n",
       "link E4 to E2--><g id=\"link_E4_E2\"><a href=\"psysml:cc13dac8-29bd-4cf5-8560-4654aeaa30b3\" target=\"_top\" title=\"psysml:cc13dac8-29bd-4cf5-8560-4654aeaa30b3\" xlink:actuate=\"onRequest\" xlink:href=\"psysml:cc13dac8-29bd-4cf5-8560-4654aeaa30b3\" xlink:show=\"new\" xlink:title=\"psysml:cc13dac8-29bd-4cf5-8560-4654aeaa30b3\" xlink:type=\"simple\"><path d=\"M122.65,204.32 C113.5,220.62 102.77,242.78 98,264 C91.37,293.52 92.62,327.08 95.96,354.92 \" fill=\"none\" id=\"E4-to-E2\" style=\"stroke:#181818;stroke-width:1.0;\"/><polygon fill=\"#FFFFFF\" points=\"98.83,374.93,89.2115,357.1119,103.0706,355.1306,98.83,374.93\" style=\"stroke:#181818;stroke-width:1.0;\"/><ellipse cx=\"90.3847\" cy=\"351.1862\" fill=\"#181818\" rx=\"2\" ry=\"2\" style=\"stroke:#181818;stroke-width:1.0;\"/><ellipse cx=\"100.2841\" cy=\"349.771\" fill=\"#181818\" rx=\"2\" ry=\"2\" style=\"stroke:#181818;stroke-width:1.0;\"/></a></g><!--MD5=[191cde3d490a3f6d7bb551fe3ddca469]\n",
       "reverse link E3 to E5--><g id=\"link_E3_E5\"><a href=\"psysml:439722de-cc24-4e46-a42e-abb878e9c6b6\" target=\"_top\" title=\"psysml:439722de-cc24-4e46-a42e-abb878e9c6b6\" xlink:actuate=\"onRequest\" xlink:href=\"psysml:439722de-cc24-4e46-a42e-abb878e9c6b6\" xlink:show=\"new\" xlink:title=\"psysml:439722de-cc24-4e46-a42e-abb878e9c6b6\" xlink:type=\"simple\"><path d=\"M188.58,100.19 C215.37,116.97 247.79,137.28 272.67,152.86 \" fill=\"none\" id=\"E3-backto-E5\" style=\"stroke:#181818;stroke-width:1.0;\"/><polygon fill=\"#181818\" points=\"177.48,93.23,180.435,99.8078,187.6434,99.6101,184.6884,93.0323,177.48,93.23\" style=\"stroke:#181818;stroke-width:1.0;\"/><text fill=\"#000000\" font-family=\"sans-serif\" font-size=\"13\" lengthAdjust=\"spacing\" textLength=\"22\" x=\"238.4021\" y=\"142.2344\">1..2</text></a></g><!--MD5=[15ebcb19ae302d9b601edb458606d402]\n",
       "link E5 to E2--><g id=\"link_E5_E2\"><a href=\"psysml:3d6cc14f-5616-4dc9-9f4d-74a84ae61372\" target=\"_top\" title=\"psysml:3d6cc14f-5616-4dc9-9f4d-74a84ae61372\" xlink:actuate=\"onRequest\" xlink:href=\"psysml:3d6cc14f-5616-4dc9-9f4d-74a84ae61372\" xlink:show=\"new\" xlink:title=\"psysml:3d6cc14f-5616-4dc9-9f4d-74a84ae61372\" xlink:type=\"simple\"><path d=\"M242.1,203.15 C195.76,220.29 140.84,243.88 126,264 C107.04,289.71 101.84,324.9 101.6,354.69 \" fill=\"none\" id=\"E5-to-E2\" style=\"stroke:#181818;stroke-width:1.0;\"/><polygon fill=\"#FFFFFF\" points=\"102.13,374.73,94.6301,355.9217,108.6252,355.5516,102.13,374.73\" style=\"stroke:#181818;stroke-width:1.0;\"/><ellipse cx=\"96.4787\" cy=\"350.1708\" fill=\"#181818\" rx=\"2\" ry=\"2\" style=\"stroke:#181818;stroke-width:1.0;\"/><ellipse cx=\"106.4752\" cy=\"349.9064\" fill=\"#181818\" rx=\"2\" ry=\"2\" style=\"stroke:#181818;stroke-width:1.0;\"/></a></g><!--MD5=[85d356282659285ab4b2cfe2f634dd2b]\n",
       "reverse link E5 to E6--><g id=\"link_E5_E6\"><a href=\"psysml:a8e5f27b-c9d1-4dc0-af6a-732adf0ab8dd\" target=\"_top\" title=\"psysml:a8e5f27b-c9d1-4dc0-af6a-732adf0ab8dd\" xlink:actuate=\"onRequest\" xlink:href=\"psysml:a8e5f27b-c9d1-4dc0-af6a-732adf0ab8dd\" xlink:show=\"new\" xlink:title=\"psysml:a8e5f27b-c9d1-4dc0-af6a-732adf0ab8dd\" xlink:type=\"simple\"><path d=\"M280.74,213.91 C266.01,230.13 248.78,249.11 235.38,263.86 \" fill=\"none\" id=\"E5-backto-E6\" style=\"stroke:#181818;stroke-width:1.0;\"/><polygon fill=\"#181818\" points=\"289.54,204.23,282.5439,205.9779,281.4666,213.1081,288.4627,211.3602,289.54,204.23\" style=\"stroke:#181818;stroke-width:1.0;\"/><text fill=\"#000000\" font-family=\"sans-serif\" font-size=\"13\" lengthAdjust=\"spacing\" textLength=\"22\" x=\"216.1539\" y=\"253.2344\">1..2</text></a></g><!--MD5=[2351f337d6de0f557b50152ba70847b5]\n",
       "link E6 to E2--><g id=\"link_E6_E2\"><a href=\"psysml:a91fcd9f-7e37-4bb0-9762-45e7f393e50f\" target=\"_top\" title=\"psysml:a91fcd9f-7e37-4bb0-9762-45e7f393e50f\" xlink:actuate=\"onRequest\" xlink:href=\"psysml:a91fcd9f-7e37-4bb0-9762-45e7f393e50f\" xlink:show=\"new\" xlink:title=\"psysml:a91fcd9f-7e37-4bb0-9762-45e7f393e50f\" xlink:type=\"simple\"><path d=\"M191.8,315.1 C180.75,327.92 166.76,344.15 153.35,359.71 \" fill=\"none\" id=\"E6-to-E2\" style=\"stroke:#181818;stroke-width:1.0;\"/><polygon fill=\"#FFFFFF\" points=\"140.26,374.9,147.3661,355.9394,157.9688,365.0818,140.26,374.9\" style=\"stroke:#181818;stroke-width:1.0;\"/><ellipse cx=\"152.603\" cy=\"352.9287\" fill=\"#181818\" rx=\"2\" ry=\"2\" style=\"stroke:#181818;stroke-width:1.0;\"/><ellipse cx=\"160.1764\" cy=\"359.4589\" fill=\"#181818\" rx=\"2\" ry=\"2\" style=\"stroke:#181818;stroke-width:1.0;\"/></a></g><!--MD5=[452b418e7f8a40397a49b8c0a78acc5b]\n",
       "reverse link E5 to E7--><g id=\"link_E5_E7\"><a href=\"psysml:cf6b885b-aa89-40d5-ab0f-633e4b6c200b\" target=\"_top\" title=\"psysml:cf6b885b-aa89-40d5-ab0f-633e4b6c200b\" xlink:actuate=\"onRequest\" xlink:href=\"psysml:cf6b885b-aa89-40d5-ab0f-633e4b6c200b\" xlink:show=\"new\" xlink:title=\"psysml:cf6b885b-aa89-40d5-ab0f-633e4b6c200b\" xlink:type=\"simple\"><path d=\"M336.63,215.3 C347.58,231.2 360.18,249.53 370.05,263.86 \" fill=\"none\" id=\"E5-backto-E7\" style=\"stroke:#181818;stroke-width:1.0;\"/><polygon fill=\"#181818\" points=\"329.02,204.23,329.1255,211.4403,335.8217,214.1162,335.7162,206.9059,329.02,204.23\" style=\"stroke:#181818;stroke-width:1.0;\"/><text fill=\"#000000\" font-family=\"sans-serif\" font-size=\"13\" lengthAdjust=\"spacing\" textLength=\"22\" x=\"341.2372\" y=\"253.2344\">1..2</text></a></g><!--MD5=[583832df87f4419a098336a29a52fa00]\n",
       "link E7 to E2--><g id=\"link_E7_E2\"><a href=\"psysml:d49b6024-9f74-4f94-9769-30e461672edc\" target=\"_top\" title=\"psysml:d49b6024-9f74-4f94-9769-30e461672edc\" xlink:actuate=\"onRequest\" xlink:href=\"psysml:d49b6024-9f74-4f94-9769-30e461672edc\" xlink:show=\"new\" xlink:title=\"psysml:d49b6024-9f74-4f94-9769-30e461672edc\" xlink:type=\"simple\"><path d=\"M331.01,315.1 C285.04,335.29 219.9,363.91 171.7,385.08 \" fill=\"none\" id=\"E7-to-E2\" style=\"stroke:#181818;stroke-width:1.0;\"/><polygon fill=\"#FFFFFF\" points=\"153.16,393.22,167.7417,379.1711,173.371,391.9894,153.16,393.22\" style=\"stroke:#181818;stroke-width:1.0;\"/><ellipse cx=\"173.7648\" cy=\"378.7103\" fill=\"#181818\" rx=\"2\" ry=\"2\" style=\"stroke:#181818;stroke-width:1.0;\"/><ellipse cx=\"177.7858\" cy=\"387.8663\" fill=\"#181818\" rx=\"2\" ry=\"2\" style=\"stroke:#181818;stroke-width:1.0;\"/></a></g><!--MD5=[fc82847dfb99f9be0df0af75e5d00948]\n",
       "@startuml\r\n",
       "skin sysmlbw\r\n",
       "skinparam monochrome true\r\n",
       "skinparam wrapWidth 300\r\n",
       "hide circle\r\n",
       "\r\n",
       "package \"SimpleSystem\" as E1  [[psysml:bb0a546c-663a-4e60-b7c5-8132895b4c33 ]]  {\r\n",
       "comp def \"partWithMass\" as E2  <<(T,blue) part  def>> [[psysml:0d874363-2279-4616-b31a-9c40cdcc9d96 ]] {\r\n",
       "##//attributes//##\r\n",
       "mass: Real\r\n",
       "}\r\n",
       "comp usage \"partA: partWithMass \" as E3  <<(T,blue) part>> [[psysml:0610a039-65a3-45f8-a5e7-7118a0128bc0 ]] {\r\n",
       "}\r\n",
       "comp usage \"partB: partWithMass \" as E4  <<(T,blue) part>> [[psysml:83297959-2c63-4d5f-b845-dcf22b537328 ]] {\r\n",
       "}\r\n",
       "comp usage \"partC: partWithMass \" as E5  <<(T,blue) part>> [[psysml:5327fb7d-da77-42af-90d3-768a44aa6b08 ]] {\r\n",
       "}\r\n",
       "comp usage \"partC: partWithMass \" as E6  <<(T,blue) part>> [[psysml:9faf8ca0-8ffb-4d0b-8eb8-ab8c1c08f093 ]] {\r\n",
       "}\r\n",
       "comp usage \"partD: partWithMass \" as E7  <<(T,blue) part>> [[psysml:160e6ca8-f8e6-4aaa-a3c8-f01b9fef1a40 ]] {\r\n",
       "}\r\n",
       "}\r\n",
       "E3 - -:|> E2 [[psysml:dee92794-2159-4130-b17e-c1a0e010fba9 ]] \r\n",
       "E3 *- - \"1..*\"E4 [[psysml:352f9c8f-6bc2-4dd0-b333-52b639c40632 ]] \r\n",
       "E4 - -:|> E2 [[psysml:cc13dac8-29bd-4cf5-8560-4654aeaa30b3 ]] \r\n",
       "E3 *- - \"1..2\"E5 [[psysml:439722de-cc24-4e46-a42e-abb878e9c6b6 ]] \r\n",
       "E5 - -:|> E2 [[psysml:3d6cc14f-5616-4dc9-9f4d-74a84ae61372 ]] \r\n",
       "E5 *- - \"1..2\"E6 [[psysml:a8e5f27b-c9d1-4dc0-af6a-732adf0ab8dd ]] \r\n",
       "E6 - -:|> E2 [[psysml:a91fcd9f-7e37-4bb0-9762-45e7f393e50f ]] \r\n",
       "E5 *- - \"1..2\"E7 [[psysml:cf6b885b-aa89-40d5-ab0f-633e4b6c200b ]] \r\n",
       "E7 - -:|> E2 [[psysml:d49b6024-9f74-4f94-9769-30e461672edc ]] \r\n",
       "@enduml\r\n",
       "\n",
       "PlantUML version 1.2022.7(Mon Aug 22 13:01:30 EDT 2022)\n",
       "(EPL source distribution)\n",
       "Java Runtime: OpenJDK Runtime Environment\n",
       "JVM: OpenJDK 64-Bit Server VM\n",
       "Default Encoding: Cp1252\n",
       "Language: en\n",
       "Country: US\n",
       "--></g></svg>"
      ]
     },
     "execution_count": 2,
     "metadata": {},
     "output_type": "execute_result"
    }
   ],
   "source": [
    "%viz SimpleSystem"
   ]
  },
  {
   "cell_type": "code",
   "execution_count": null,
   "id": "65da31f1-3fbb-4bb6-ab93-975c1a667492",
   "metadata": {},
   "outputs": [],
   "source": []
  }
 ],
 "metadata": {
  "kernelspec": {
   "display_name": "SysML",
   "language": "sysml",
   "name": "sysml"
  },
  "language_info": {
   "codemirror_mode": "sysml",
   "file_extension": ".sysml",
   "mimetype": "text/x-sysml",
   "name": "SysML",
   "pygments_lexer": "java",
   "version": "1.0.0"
  }
 },
 "nbformat": 4,
 "nbformat_minor": 5
}
