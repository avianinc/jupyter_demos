{
 "cells": [
  {
   "cell_type": "code",
   "execution_count": 1,
   "id": "7e8854eb-1783-414e-a710-8dabb9292551",
   "metadata": {},
   "outputs": [
    {
     "data": {
      "text/plain": [
       "Package SimpleSystem (190aabe9-bed3-4e7f-8c7a-89aa0eacbf5e)\n"
      ]
     },
     "execution_count": 1,
     "metadata": {},
     "output_type": "execute_result"
    }
   ],
   "source": [
    "package SimpleSystem {\n",
    "\n",
    "    import ScalarValues::*;\n",
    "    \n",
    "    part def partWithMass {\n",
    "        attribute mass:Real;\n",
    "    }\n",
    "\n",
    "    part partA:partWithMass {\n",
    "        part partB:partWithMass[1..*];\n",
    "        part partC:partWithMass[1..2]{\n",
    "            part partC:partWithMass[1..2];\n",
    "            part partD:partWithMass[1..2];\n",
    "        }\n",
    "    }\n",
    "}"
   ]
  },
  {
   "cell_type": "code",
   "execution_count": 2,
   "id": "e6e83b2a-19b6-4479-ab3b-46d38d8ae0bb",
   "metadata": {},
   "outputs": [
    {
     "data": {
      "image/svg+xml": [
       "<?xml version=\"1.0\" encoding=\"UTF-8\" standalone=\"no\"?><svg xmlns=\"http://www.w3.org/2000/svg\" xmlns:xlink=\"http://www.w3.org/1999/xlink\" contentStyleType=\"text/css\" height=\"477px\" preserveAspectRatio=\"none\" style=\"width:452px;height:477px;background:#FFFFFF;\" version=\"1.1\" viewBox=\"0 0 452 477\" width=\"452px\" zoomAndPan=\"magnify\"><defs/><g><!--MD5=[fbc87193dbaf4d95561dea2c320d4a47]\n",
       "cluster E1--><g id=\"cluster_E1\"><a href=\"psysml:190aabe9-bed3-4e7f-8c7a-89aa0eacbf5e\" target=\"_top\" title=\"psysml:190aabe9-bed3-4e7f-8c7a-89aa0eacbf5e\" xlink:actuate=\"onRequest\" xlink:href=\"psysml:190aabe9-bed3-4e7f-8c7a-89aa0eacbf5e\" xlink:show=\"new\" xlink:title=\"psysml:190aabe9-bed3-4e7f-8c7a-89aa0eacbf5e\" xlink:type=\"simple\"><polygon fill=\"none\" points=\"16,6,119,6,126,29.6094,435,29.6094,435,470,16,470,16,6\" style=\"stroke:#000000;stroke-width:1.5;\"/><line style=\"stroke:#000000;stroke-width:1.5;\" x1=\"16\" x2=\"126\" y1=\"29.6094\" y2=\"29.6094\"/><text fill=\"#000000\" font-family=\"sans-serif\" font-size=\"14\" font-weight=\"bold\" lengthAdjust=\"spacing\" textLength=\"97\" x=\"20\" y=\"22.5332\">SimpleSystem</text></a></g><!--MD5=[b4997ac47864f28c2f74865a473b2911]\n",
       "class E2--><a href=\"psysml:c66e11a1-f1f7-41fc-97be-dba925753ce5\" target=\"_top\" title=\"psysml:c66e11a1-f1f7-41fc-97be-dba925753ce5\" xlink:actuate=\"onRequest\" xlink:href=\"psysml:c66e11a1-f1f7-41fc-97be-dba925753ce5\" xlink:show=\"new\" xlink:title=\"psysml:c66e11a1-f1f7-41fc-97be-dba925753ce5\" xlink:type=\"simple\"><g id=\"elem_E2\"><rect fill=\"#FFFFFF\" height=\"79.3563\" id=\"E2\" style=\"stroke:#181818;stroke-width:0.5;\" width=\"92\" x=\"144\" y=\"375\"/><text fill=\"#000000\" font-family=\"sans-serif\" font-size=\"12\" font-style=\"italic\" lengthAdjust=\"spacing\" textLength=\"58\" x=\"161\" y=\"392.457\">«part  def»</text><text fill=\"#000000\" font-family=\"sans-serif\" font-size=\"14\" lengthAdjust=\"spacing\" textLength=\"86\" x=\"147\" y=\"409.627\">partWithMass</text><line style=\"stroke:#181818;stroke-width:0.5;\" x1=\"145\" x2=\"235\" y1=\"417.7031\" y2=\"417.7031\"/><text fill=\"#000000\" font-family=\"sans-serif\" font-size=\"14\" lengthAdjust=\"spacing\" textLength=\"70\" x=\"150\" y=\"447.2801\">mass: Real</text><text fill=\"#000000\" font-family=\"sans-serif\" font-size=\"14\" font-style=\"italic\" lengthAdjust=\"spacing\" textLength=\"59\" x=\"160.5\" y=\"430.9316\">attributes</text></g></a><!--MD5=[09b614a08d8cba4a07c9adeb5e0fee81]\n",
       "class E3--><a href=\"psysml:f02b679f-9135-4504-a2e2-f58c53b72dbf\" target=\"_top\" title=\"psysml:f02b679f-9135-4504-a2e2-f58c53b72dbf\" xlink:actuate=\"onRequest\" xlink:href=\"psysml:f02b679f-9135-4504-a2e2-f58c53b72dbf\" xlink:show=\"new\" xlink:title=\"psysml:f02b679f-9135-4504-a2e2-f58c53b72dbf\" xlink:type=\"simple\"><g id=\"elem_E3\"><rect fill=\"#FFFFFF\" height=\"50.7031\" id=\"E3\" rx=\"10\" ry=\"10\" style=\"stroke:#181818;stroke-width:0.5;\" width=\"138\" x=\"68\" y=\"42\"/><text fill=\"#000000\" font-family=\"sans-serif\" font-size=\"12\" font-style=\"italic\" lengthAdjust=\"spacing\" textLength=\"35\" x=\"119.5\" y=\"59.457\">«part»</text><text fill=\"#000000\" font-family=\"sans-serif\" font-size=\"14\" lengthAdjust=\"spacing\" textLength=\"128\" x=\"71\" y=\"76.627\">partA: partWithMass</text><line style=\"stroke:#181818;stroke-width:0.5;\" x1=\"69\" x2=\"205\" y1=\"84.7031\" y2=\"84.7031\"/></g></a><!--MD5=[ebbe1d658d1005bcc118a6aa81145e00]\n",
       "class E4--><a href=\"psysml:15bdfeb9-4fc5-4e83-9eca-63d94452bc86\" target=\"_top\" title=\"psysml:15bdfeb9-4fc5-4e83-9eca-63d94452bc86\" xlink:actuate=\"onRequest\" xlink:href=\"psysml:15bdfeb9-4fc5-4e83-9eca-63d94452bc86\" xlink:show=\"new\" xlink:title=\"psysml:15bdfeb9-4fc5-4e83-9eca-63d94452bc86\" xlink:type=\"simple\"><g id=\"elem_E4\"><rect fill=\"#FFFFFF\" height=\"50.7031\" id=\"E4\" rx=\"10\" ry=\"10\" style=\"stroke:#181818;stroke-width:0.5;\" width=\"138\" x=\"69\" y=\"264\"/><text fill=\"#000000\" font-family=\"sans-serif\" font-size=\"12\" font-style=\"italic\" lengthAdjust=\"spacing\" textLength=\"35\" x=\"120.5\" y=\"281.457\">«part»</text><text fill=\"#000000\" font-family=\"sans-serif\" font-size=\"14\" lengthAdjust=\"spacing\" textLength=\"128\" x=\"72\" y=\"298.627\">partB: partWithMass</text><line style=\"stroke:#181818;stroke-width:0.5;\" x1=\"70\" x2=\"206\" y1=\"306.7031\" y2=\"306.7031\"/></g></a><!--MD5=[270fce915f116d4de14055a7c1d9a0f3]\n",
       "class E5--><a href=\"psysml:73c42abe-1e78-4ea9-926a-80fbd3dc4ee2\" target=\"_top\" title=\"psysml:73c42abe-1e78-4ea9-926a-80fbd3dc4ee2\" xlink:actuate=\"onRequest\" xlink:href=\"psysml:73c42abe-1e78-4ea9-926a-80fbd3dc4ee2\" xlink:show=\"new\" xlink:title=\"psysml:73c42abe-1e78-4ea9-926a-80fbd3dc4ee2\" xlink:type=\"simple\"><g id=\"elem_E5\"><rect fill=\"#FFFFFF\" height=\"50.7031\" id=\"E5\" rx=\"10\" ry=\"10\" style=\"stroke:#181818;stroke-width:0.5;\" width=\"139\" x=\"173.5\" y=\"153\"/><text fill=\"#000000\" font-family=\"sans-serif\" font-size=\"12\" font-style=\"italic\" lengthAdjust=\"spacing\" textLength=\"35\" x=\"225.5\" y=\"170.457\">«part»</text><text fill=\"#000000\" font-family=\"sans-serif\" font-size=\"14\" lengthAdjust=\"spacing\" textLength=\"129\" x=\"176.5\" y=\"187.627\">partC: partWithMass</text><line style=\"stroke:#181818;stroke-width:0.5;\" x1=\"174.5\" x2=\"311.5\" y1=\"195.7031\" y2=\"195.7031\"/></g></a><!--MD5=[60a26617385b1d2d0262a64233df1f8d]\n",
       "class E6--><a href=\"psysml:912d2cad-b00b-4f45-ab06-409b2a7a1235\" target=\"_top\" title=\"psysml:912d2cad-b00b-4f45-ab06-409b2a7a1235\" xlink:actuate=\"onRequest\" xlink:href=\"psysml:912d2cad-b00b-4f45-ab06-409b2a7a1235\" xlink:show=\"new\" xlink:title=\"psysml:912d2cad-b00b-4f45-ab06-409b2a7a1235\" xlink:type=\"simple\"><g id=\"elem_E6\"><rect fill=\"#FFFFFF\" height=\"50.7031\" id=\"E6\" rx=\"10\" ry=\"10\" style=\"stroke:#181818;stroke-width:0.5;\" width=\"139\" x=\"279.5\" y=\"264\"/><text fill=\"#000000\" font-family=\"sans-serif\" font-size=\"12\" font-style=\"italic\" lengthAdjust=\"spacing\" textLength=\"35\" x=\"331.5\" y=\"281.457\">«part»</text><text fill=\"#000000\" font-family=\"sans-serif\" font-size=\"14\" lengthAdjust=\"spacing\" textLength=\"129\" x=\"282.5\" y=\"298.627\">partC: partWithMass</text><line style=\"stroke:#181818;stroke-width:0.5;\" x1=\"280.5\" x2=\"417.5\" y1=\"306.7031\" y2=\"306.7031\"/></g></a><!--MD5=[05d275557350bfb9b23a4ef7222b4c39]\n",
       "link E3 to E2--><g id=\"link_E3_E2\"><a href=\"psysml:908ad2e6-9671-4751-8f4c-f3ec3187991a\" target=\"_top\" title=\"psysml:908ad2e6-9671-4751-8f4c-f3ec3187991a\" xlink:actuate=\"onRequest\" xlink:href=\"psysml:908ad2e6-9671-4751-8f4c-f3ec3187991a\" xlink:show=\"new\" xlink:title=\"psysml:908ad2e6-9671-4751-8f4c-f3ec3187991a\" xlink:type=\"simple\"><path d=\"M115.49,93.23 C78.68,138.73 11.24,238.1 51,315 C66.95,345.86 97.53,369.13 125.95,385.29 \" fill=\"none\" id=\"E3-to-E2\" style=\"stroke:#181818;stroke-width:1.0;\"/><polygon fill=\"#FFFFFF\" points=\"143.67,394.66,123.6013,391.9678,130.1448,379.5912,143.67,394.66\" style=\"stroke:#181818;stroke-width:1.0;\"/><ellipse cx=\"119.497\" cy=\"387.5356\" fill=\"#181818\" rx=\"2\" ry=\"2\" style=\"stroke:#181818;stroke-width:1.0;\"/><ellipse cx=\"124.171\" cy=\"378.6951\" fill=\"#181818\" rx=\"2\" ry=\"2\" style=\"stroke:#181818;stroke-width:1.0;\"/></a></g><!--MD5=[4672eba38e49728da53d11aeb285b987]\n",
       "reverse link E3 to E4--><g id=\"link_E3_E4\"><a href=\"psysml:e46be45d-f16e-4cbc-b3dc-5b2cee30764b\" target=\"_top\" title=\"psysml:e46be45d-f16e-4cbc-b3dc-5b2cee30764b\" xlink:actuate=\"onRequest\" xlink:href=\"psysml:e46be45d-f16e-4cbc-b3dc-5b2cee30764b\" xlink:show=\"new\" xlink:title=\"psysml:e46be45d-f16e-4cbc-b3dc-5b2cee30764b\" xlink:type=\"simple\"><path d=\"M137.17,106.59 C137.38,151.7 137.71,225.53 137.89,263.78 \" fill=\"none\" id=\"E3-backto-E4\" style=\"stroke:#181818;stroke-width:1.0;\"/><polygon fill=\"#181818\" points=\"137.11,93.31,133.1364,99.3275,137.1627,105.3099,141.1363,99.2924,137.11,93.31\" style=\"stroke:#181818;stroke-width:1.0;\"/><text fill=\"#000000\" font-family=\"sans-serif\" font-size=\"13\" lengthAdjust=\"spacing\" textLength=\"20\" x=\"115.4257\" y=\"253.1349\">1..*</text></a></g><!--MD5=[185131fc0dcab0a4505a2ebe144e961b]\n",
       "link E4 to E2--><g id=\"link_E4_E2\"><a href=\"psysml:d121ec7e-3e86-4bdd-b60c-ca50741dac9e\" target=\"_top\" title=\"psysml:d121ec7e-3e86-4bdd-b60c-ca50741dac9e\" xlink:actuate=\"onRequest\" xlink:href=\"psysml:d121ec7e-3e86-4bdd-b60c-ca50741dac9e\" xlink:show=\"new\" xlink:title=\"psysml:d121ec7e-3e86-4bdd-b60c-ca50741dac9e\" xlink:type=\"simple\"><path d=\"M148.4,315.1 C153.43,326.99 159.69,341.81 165.82,356.3 \" fill=\"none\" id=\"E4-to-E2\" style=\"stroke:#181818;stroke-width:1.0;\"/><polygon fill=\"#FFFFFF\" points=\"173.68,374.9,159.8237,360.1351,172.7149,354.6746,173.68,374.9\" style=\"stroke:#181818;stroke-width:1.0;\"/><ellipse cx=\"159.4421\" cy=\"354.1064\" fill=\"#181818\" rx=\"2\" ry=\"2\" style=\"stroke:#181818;stroke-width:1.0;\"/><ellipse cx=\"168.6501\" cy=\"350.2061\" fill=\"#181818\" rx=\"2\" ry=\"2\" style=\"stroke:#181818;stroke-width:1.0;\"/></a></g><!--MD5=[191cde3d490a3f6d7bb551fe3ddca469]\n",
       "reverse link E3 to E5--><g id=\"link_E3_E5\"><a href=\"psysml:39869091-2481-44e5-8b47-1a74fe5496ab\" target=\"_top\" title=\"psysml:39869091-2481-44e5-8b47-1a74fe5496ab\" xlink:actuate=\"onRequest\" xlink:href=\"psysml:39869091-2481-44e5-8b47-1a74fe5496ab\" xlink:show=\"new\" xlink:title=\"psysml:39869091-2481-44e5-8b47-1a74fe5496ab\" xlink:type=\"simple\"><path d=\"M170.47,102.91 C186.24,119.13 204.69,138.11 219.04,152.86 \" fill=\"none\" id=\"E3-backto-E5\" style=\"stroke:#181818;stroke-width:1.0;\"/><polygon fill=\"#181818\" points=\"161.05,93.23,162.3653,100.3201,169.4159,101.833,168.1006,94.7429,161.05,93.23\" style=\"stroke:#181818;stroke-width:1.0;\"/><text fill=\"#000000\" font-family=\"sans-serif\" font-size=\"13\" lengthAdjust=\"spacing\" textLength=\"22\" x=\"188.5185\" y=\"142.2344\">1..2</text></a></g><!--MD5=[15ebcb19ae302d9b601edb458606d402]\n",
       "link E5 to E2--><g id=\"link_E5_E2\"><a href=\"psysml:ca624c28-521b-4333-a9d5-0e17149ad47d\" target=\"_top\" title=\"psysml:ca624c28-521b-4333-a9d5-0e17149ad47d\" xlink:actuate=\"onRequest\" xlink:href=\"psysml:ca624c28-521b-4333-a9d5-0e17149ad47d\" xlink:show=\"new\" xlink:title=\"psysml:ca624c28-521b-4333-a9d5-0e17149ad47d\" xlink:type=\"simple\"><path d=\"M241.27,204.26 C239.01,231.65 234.18,276.94 225,315 C221.78,328.36 217.4,342.43 212.83,355.62 \" fill=\"none\" id=\"E5-to-E2\" style=\"stroke:#181818;stroke-width:1.0;\"/><polygon fill=\"#FFFFFF\" points=\"205.88,374.77,205.7872,354.5218,218.946,359.3013,205.88,374.77\" style=\"stroke:#181818;stroke-width:1.0;\"/><ellipse cx=\"209.613\" cy=\"349.847\" fill=\"#181818\" rx=\"2\" ry=\"2\" style=\"stroke:#181818;stroke-width:1.0;\"/><ellipse cx=\"219.0121\" cy=\"353.261\" fill=\"#181818\" rx=\"2\" ry=\"2\" style=\"stroke:#181818;stroke-width:1.0;\"/></a></g><!--MD5=[85d356282659285ab4b2cfe2f634dd2b]\n",
       "reverse link E5 to E6--><g id=\"link_E5_E6\"><a href=\"psysml:82a78736-1ade-440a-8c71-ca5315eaa694\" target=\"_top\" title=\"psysml:82a78736-1ade-440a-8c71-ca5315eaa694\" xlink:actuate=\"onRequest\" xlink:href=\"psysml:82a78736-1ade-440a-8c71-ca5315eaa694\" xlink:show=\"new\" xlink:title=\"psysml:82a78736-1ade-440a-8c71-ca5315eaa694\" xlink:type=\"simple\"><path d=\"M276.47,213.91 C292.24,230.13 310.69,249.11 325.04,263.86 \" fill=\"none\" id=\"E5-backto-E6\" style=\"stroke:#181818;stroke-width:1.0;\"/><polygon fill=\"#181818\" points=\"267.05,204.23,268.3653,211.3201,275.4159,212.833,274.1006,205.7429,267.05,204.23\" style=\"stroke:#181818;stroke-width:1.0;\"/><text fill=\"#000000\" font-family=\"sans-serif\" font-size=\"13\" lengthAdjust=\"spacing\" textLength=\"22\" x=\"294.5185\" y=\"253.2344\">1..2</text></a></g><!--MD5=[2351f337d6de0f557b50152ba70847b5]\n",
       "link E6 to E2--><g id=\"link_E6_E2\"><a href=\"psysml:6f9fbf12-dcd8-41af-98cc-76bdb768cb6d\" target=\"_top\" title=\"psysml:6f9fbf12-dcd8-41af-98cc-76bdb768cb6d\" xlink:actuate=\"onRequest\" xlink:href=\"psysml:6f9fbf12-dcd8-41af-98cc-76bdb768cb6d\" xlink:show=\"new\" xlink:title=\"psysml:6f9fbf12-dcd8-41af-98cc-76bdb768cb6d\" xlink:type=\"simple\"><path d=\"M317.21,315.1 C298.63,329.47 274.53,348.11 252.32,365.29 \" fill=\"none\" id=\"E6-to-E2\" style=\"stroke:#181818;stroke-width:1.0;\"/><polygon fill=\"#FFFFFF\" points=\"236.2,377.76,246.9464,360.5985,255.5117,371.6726,236.2,377.76\" style=\"stroke:#181818;stroke-width:1.0;\"/><ellipse cx=\"252.6787\" cy=\"358.6932\" fill=\"#181818\" rx=\"2\" ry=\"2\" style=\"stroke:#181818;stroke-width:1.0;\"/><ellipse cx=\"258.7968\" cy=\"366.6032\" fill=\"#181818\" rx=\"2\" ry=\"2\" style=\"stroke:#181818;stroke-width:1.0;\"/></a></g><!--MD5=[add6338f9ff693d9dc48fe9744dcccdd]\n",
       "@startuml\r\n",
       "skin sysmlbw\r\n",
       "skinparam monochrome true\r\n",
       "skinparam wrapWidth 300\r\n",
       "hide circle\r\n",
       "\r\n",
       "package \"SimpleSystem\" as E1  [[psysml:190aabe9-bed3-4e7f-8c7a-89aa0eacbf5e ]]  {\r\n",
       "comp def \"partWithMass\" as E2  <<(T,blue) part  def>> [[psysml:c66e11a1-f1f7-41fc-97be-dba925753ce5 ]] {\r\n",
       "##//attributes//##\r\n",
       "mass: Real\r\n",
       "}\r\n",
       "comp usage \"partA: partWithMass \" as E3  <<(T,blue) part>> [[psysml:f02b679f-9135-4504-a2e2-f58c53b72dbf ]] {\r\n",
       "}\r\n",
       "comp usage \"partB: partWithMass \" as E4  <<(T,blue) part>> [[psysml:15bdfeb9-4fc5-4e83-9eca-63d94452bc86 ]] {\r\n",
       "}\r\n",
       "comp usage \"partC: partWithMass \" as E5  <<(T,blue) part>> [[psysml:73c42abe-1e78-4ea9-926a-80fbd3dc4ee2 ]] {\r\n",
       "}\r\n",
       "comp usage \"partC: partWithMass \" as E6  <<(T,blue) part>> [[psysml:912d2cad-b00b-4f45-ab06-409b2a7a1235 ]] {\r\n",
       "}\r\n",
       "}\r\n",
       "E3 - -:|> E2 [[psysml:908ad2e6-9671-4751-8f4c-f3ec3187991a ]] \r\n",
       "E3 *- - \"1..*\"E4 [[psysml:e46be45d-f16e-4cbc-b3dc-5b2cee30764b ]] \r\n",
       "E4 - -:|> E2 [[psysml:d121ec7e-3e86-4bdd-b60c-ca50741dac9e ]] \r\n",
       "E3 *- - \"1..2\"E5 [[psysml:39869091-2481-44e5-8b47-1a74fe5496ab ]] \r\n",
       "E5 - -:|> E2 [[psysml:ca624c28-521b-4333-a9d5-0e17149ad47d ]] \r\n",
       "E5 *- - \"1..2\"E6 [[psysml:82a78736-1ade-440a-8c71-ca5315eaa694 ]] \r\n",
       "E6 - -:|> E2 [[psysml:6f9fbf12-dcd8-41af-98cc-76bdb768cb6d ]] \r\n",
       "@enduml\r\n",
       "\n",
       "PlantUML version 1.2022.7(Mon Aug 22 13:01:30 EDT 2022)\n",
       "(EPL source distribution)\n",
       "Java Runtime: OpenJDK Runtime Environment\n",
       "JVM: OpenJDK 64-Bit Server VM\n",
       "Default Encoding: Cp1252\n",
       "Language: en\n",
       "Country: US\n",
       "--></g></svg>"
      ]
     },
     "execution_count": 2,
     "metadata": {},
     "output_type": "execute_result"
    }
   ],
   "source": [
    "%viz SimpleSystem"
   ]
  },
  {
   "cell_type": "code",
   "execution_count": null,
   "id": "65da31f1-3fbb-4bb6-ab93-975c1a667492",
   "metadata": {},
   "outputs": [],
   "source": []
  }
 ],
 "metadata": {
  "kernelspec": {
   "display_name": "SysML",
   "language": "sysml",
   "name": "sysml"
  },
  "language_info": {
   "codemirror_mode": "sysml",
   "file_extension": ".sysml",
   "mimetype": "text/x-sysml",
   "name": "SysML",
   "pygments_lexer": "java",
   "version": "1.0.0"
  }
 },
 "nbformat": 4,
 "nbformat_minor": 5
}
