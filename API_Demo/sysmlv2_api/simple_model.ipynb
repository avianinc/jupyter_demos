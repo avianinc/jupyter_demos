{
 "cells": [
  {
   "cell_type": "code",
   "execution_count": 1,
   "id": "7e8854eb-1783-414e-a710-8dabb9292551",
   "metadata": {},
   "outputs": [
    {
     "data": {
      "text/plain": [
       "Package SimpleSystem (9013ab62-cb70-461f-bab4-a1b1d75ee454)\n"
      ]
     },
     "execution_count": 1,
     "metadata": {},
     "output_type": "execute_result"
    }
   ],
   "source": [
    "package SimpleSystem {\n",
    "\n",
    "    import ScalarValues::*;\n",
    "    \n",
    "    part def partWithMass {\n",
    "        attribute mass:Real;\n",
    "    }\n",
    "\n",
    "    part partA:partWithMass {\n",
    "        part partB:partWithMass[1..*];\n",
    "        part partC:partWithMass[1..2];\n",
    "    }\n",
    "}"
   ]
  },
  {
   "cell_type": "code",
   "execution_count": 2,
   "id": "e6e83b2a-19b6-4479-ab3b-46d38d8ae0bb",
   "metadata": {},
   "outputs": [
    {
     "data": {
      "image/svg+xml": [
       "<?xml version=\"1.0\" encoding=\"UTF-8\" standalone=\"no\"?><svg xmlns=\"http://www.w3.org/2000/svg\" xmlns:xlink=\"http://www.w3.org/1999/xlink\" contentStyleType=\"text/css\" height=\"366px\" preserveAspectRatio=\"none\" style=\"width:415px;height:366px;background:#FFFFFF;\" version=\"1.1\" viewBox=\"0 0 415 366\" width=\"415px\" zoomAndPan=\"magnify\"><defs/><g><!--MD5=[fbc87193dbaf4d95561dea2c320d4a47]\n",
       "cluster E1--><g id=\"cluster_E1\"><a href=\"psysml:9013ab62-cb70-461f-bab4-a1b1d75ee454\" target=\"_top\" title=\"psysml:9013ab62-cb70-461f-bab4-a1b1d75ee454\" xlink:actuate=\"onRequest\" xlink:href=\"psysml:9013ab62-cb70-461f-bab4-a1b1d75ee454\" xlink:show=\"new\" xlink:title=\"psysml:9013ab62-cb70-461f-bab4-a1b1d75ee454\" xlink:type=\"simple\"><polygon fill=\"none\" points=\"16,6,119,6,126,29.6094,398,29.6094,398,359,16,359,16,6\" style=\"stroke:#000000;stroke-width:1.5;\"/><line style=\"stroke:#000000;stroke-width:1.5;\" x1=\"16\" x2=\"126\" y1=\"29.6094\" y2=\"29.6094\"/><text fill=\"#000000\" font-family=\"sans-serif\" font-size=\"14\" font-weight=\"bold\" lengthAdjust=\"spacing\" textLength=\"97\" x=\"20\" y=\"22.5332\">SimpleSystem</text></a></g><!--MD5=[b4997ac47864f28c2f74865a473b2911]\n",
       "class E2--><a href=\"psysml:2fe3f8cc-2e4c-47d3-9397-be3287a6061d\" target=\"_top\" title=\"psysml:2fe3f8cc-2e4c-47d3-9397-be3287a6061d\" xlink:actuate=\"onRequest\" xlink:href=\"psysml:2fe3f8cc-2e4c-47d3-9397-be3287a6061d\" xlink:show=\"new\" xlink:title=\"psysml:2fe3f8cc-2e4c-47d3-9397-be3287a6061d\" xlink:type=\"simple\"><g id=\"elem_E2\"><rect fill=\"#FFFFFF\" height=\"79.3563\" id=\"E2\" style=\"stroke:#181818;stroke-width:0.5;\" width=\"92\" x=\"92\" y=\"264\"/><text fill=\"#000000\" font-family=\"sans-serif\" font-size=\"12\" font-style=\"italic\" lengthAdjust=\"spacing\" textLength=\"58\" x=\"109\" y=\"281.457\">«part  def»</text><text fill=\"#000000\" font-family=\"sans-serif\" font-size=\"14\" lengthAdjust=\"spacing\" textLength=\"86\" x=\"95\" y=\"298.627\">partWithMass</text><line style=\"stroke:#181818;stroke-width:0.5;\" x1=\"93\" x2=\"183\" y1=\"306.7031\" y2=\"306.7031\"/><text fill=\"#000000\" font-family=\"sans-serif\" font-size=\"14\" lengthAdjust=\"spacing\" textLength=\"70\" x=\"98\" y=\"336.2801\">mass: Real</text><text fill=\"#000000\" font-family=\"sans-serif\" font-size=\"14\" font-style=\"italic\" lengthAdjust=\"spacing\" textLength=\"59\" x=\"108.5\" y=\"319.9316\">attributes</text></g></a><!--MD5=[09b614a08d8cba4a07c9adeb5e0fee81]\n",
       "class E3--><a href=\"psysml:ed75de22-61f4-43d1-836d-14467709749e\" target=\"_top\" title=\"psysml:ed75de22-61f4-43d1-836d-14467709749e\" xlink:actuate=\"onRequest\" xlink:href=\"psysml:ed75de22-61f4-43d1-836d-14467709749e\" xlink:show=\"new\" xlink:title=\"psysml:ed75de22-61f4-43d1-836d-14467709749e\" xlink:type=\"simple\"><g id=\"elem_E3\"><rect fill=\"#FFFFFF\" height=\"50.7031\" id=\"E3\" rx=\"10\" ry=\"10\" style=\"stroke:#181818;stroke-width:0.5;\" width=\"138\" x=\"69\" y=\"42\"/><text fill=\"#000000\" font-family=\"sans-serif\" font-size=\"12\" font-style=\"italic\" lengthAdjust=\"spacing\" textLength=\"35\" x=\"120.5\" y=\"59.457\">«part»</text><text fill=\"#000000\" font-family=\"sans-serif\" font-size=\"14\" lengthAdjust=\"spacing\" textLength=\"128\" x=\"72\" y=\"76.627\">partA: partWithMass</text><line style=\"stroke:#181818;stroke-width:0.5;\" x1=\"70\" x2=\"206\" y1=\"84.7031\" y2=\"84.7031\"/></g></a><!--MD5=[ebbe1d658d1005bcc118a6aa81145e00]\n",
       "class E4--><a href=\"psysml:c173f8ab-b613-4d29-8bfa-e1b67978d9c3\" target=\"_top\" title=\"psysml:c173f8ab-b613-4d29-8bfa-e1b67978d9c3\" xlink:actuate=\"onRequest\" xlink:href=\"psysml:c173f8ab-b613-4d29-8bfa-e1b67978d9c3\" xlink:show=\"new\" xlink:title=\"psysml:c173f8ab-b613-4d29-8bfa-e1b67978d9c3\" xlink:type=\"simple\"><g id=\"elem_E4\"><rect fill=\"#FFFFFF\" height=\"50.7031\" id=\"E4\" rx=\"10\" ry=\"10\" style=\"stroke:#181818;stroke-width:0.5;\" width=\"138\" x=\"69\" y=\"153\"/><text fill=\"#000000\" font-family=\"sans-serif\" font-size=\"12\" font-style=\"italic\" lengthAdjust=\"spacing\" textLength=\"35\" x=\"120.5\" y=\"170.457\">«part»</text><text fill=\"#000000\" font-family=\"sans-serif\" font-size=\"14\" lengthAdjust=\"spacing\" textLength=\"128\" x=\"72\" y=\"187.627\">partB: partWithMass</text><line style=\"stroke:#181818;stroke-width:0.5;\" x1=\"70\" x2=\"206\" y1=\"195.7031\" y2=\"195.7031\"/></g></a><!--MD5=[270fce915f116d4de14055a7c1d9a0f3]\n",
       "class E5--><a href=\"psysml:1c61540a-c559-4f07-a47d-f0901f9ae9ac\" target=\"_top\" title=\"psysml:1c61540a-c559-4f07-a47d-f0901f9ae9ac\" xlink:actuate=\"onRequest\" xlink:href=\"psysml:1c61540a-c559-4f07-a47d-f0901f9ae9ac\" xlink:show=\"new\" xlink:title=\"psysml:1c61540a-c559-4f07-a47d-f0901f9ae9ac\" xlink:type=\"simple\"><g id=\"elem_E5\"><rect fill=\"#FFFFFF\" height=\"50.7031\" id=\"E5\" rx=\"10\" ry=\"10\" style=\"stroke:#181818;stroke-width:0.5;\" width=\"139\" x=\"242.5\" y=\"153\"/><text fill=\"#000000\" font-family=\"sans-serif\" font-size=\"12\" font-style=\"italic\" lengthAdjust=\"spacing\" textLength=\"35\" x=\"294.5\" y=\"170.457\">«part»</text><text fill=\"#000000\" font-family=\"sans-serif\" font-size=\"14\" lengthAdjust=\"spacing\" textLength=\"129\" x=\"245.5\" y=\"187.627\">partC: partWithMass</text><line style=\"stroke:#181818;stroke-width:0.5;\" x1=\"243.5\" x2=\"380.5\" y1=\"195.7031\" y2=\"195.7031\"/></g></a><!--MD5=[05d275557350bfb9b23a4ef7222b4c39]\n",
       "link E3 to E2--><g id=\"link_E3_E2\"><a href=\"psysml:b446708c-71ce-49af-81c5-4da06952d2d0\" target=\"_top\" title=\"psysml:b446708c-71ce-49af-81c5-4da06952d2d0\" xlink:actuate=\"onRequest\" xlink:href=\"psysml:b446708c-71ce-49af-81c5-4da06952d2d0\" xlink:show=\"new\" xlink:title=\"psysml:b446708c-71ce-49af-81c5-4da06952d2d0\" xlink:type=\"simple\"><path d=\"M101.02,93.19 C82.23,108.04 61.25,128.76 51,153 C42.17,173.88 42.98,182.8 51,204 C57.15,220.26 67.35,235.56 78.64,249.04 \" fill=\"none\" id=\"E3-to-E2\" style=\"stroke:#181818;stroke-width:1.0;\"/><polygon fill=\"#FFFFFF\" points=\"92.21,263.98,74.2487,254.6316,84.607,245.2132,92.21,263.98\" style=\"stroke:#181818;stroke-width:1.0;\"/><ellipse cx=\"71.8938\" cy=\"249.0688\" fill=\"#181818\" rx=\"2\" ry=\"2\" style=\"stroke:#181818;stroke-width:1.0;\"/><ellipse cx=\"79.2926\" cy=\"242.3414\" fill=\"#181818\" rx=\"2\" ry=\"2\" style=\"stroke:#181818;stroke-width:1.0;\"/></a></g><!--MD5=[4672eba38e49728da53d11aeb285b987]\n",
       "reverse link E3 to E4--><g id=\"link_E3_E4\"><a href=\"psysml:499b2765-344f-4b65-870e-cf6023de1d42\" target=\"_top\" title=\"psysml:499b2765-344f-4b65-870e-cf6023de1d42\" xlink:actuate=\"onRequest\" xlink:href=\"psysml:499b2765-344f-4b65-870e-cf6023de1d42\" xlink:show=\"new\" xlink:title=\"psysml:499b2765-344f-4b65-870e-cf6023de1d42\" xlink:type=\"simple\"><path d=\"M138,106.63 C138,121.97 138,139.22 138,152.86 \" fill=\"none\" id=\"E3-backto-E4\" style=\"stroke:#181818;stroke-width:1.0;\"/><polygon fill=\"#181818\" points=\"138,93.23,134,99.23,138,105.23,142,99.23,138,93.23\" style=\"stroke:#181818;stroke-width:1.0;\"/><text fill=\"#000000\" font-family=\"sans-serif\" font-size=\"13\" lengthAdjust=\"spacing\" textLength=\"20\" x=\"115.5625\" y=\"142.2344\">1..*</text></a></g><!--MD5=[185131fc0dcab0a4505a2ebe144e961b]\n",
       "link E4 to E2--><g id=\"link_E4_E2\"><a href=\"psysml:53a8fdf9-1969-4a8e-a7cc-ae03d409d28a\" target=\"_top\" title=\"psysml:53a8fdf9-1969-4a8e-a7cc-ae03d409d28a\" xlink:actuate=\"onRequest\" xlink:href=\"psysml:53a8fdf9-1969-4a8e-a7cc-ae03d409d28a\" xlink:show=\"new\" xlink:title=\"psysml:53a8fdf9-1969-4a8e-a7cc-ae03d409d28a\" xlink:type=\"simple\"><path d=\"M138,204.1 C138,215.59 138,229.81 138,243.83 \" fill=\"none\" id=\"E4-to-E2\" style=\"stroke:#181818;stroke-width:1.0;\"/><polygon fill=\"#FFFFFF\" points=\"138,263.9,131,244.9,145,244.9,138,263.9\" style=\"stroke:#181818;stroke-width:1.0;\"/><ellipse cx=\"133\" cy=\"239.2\" fill=\"#181818\" rx=\"2\" ry=\"2\" style=\"stroke:#181818;stroke-width:1.0;\"/><ellipse cx=\"143\" cy=\"239.2\" fill=\"#181818\" rx=\"2\" ry=\"2\" style=\"stroke:#181818;stroke-width:1.0;\"/></a></g><!--MD5=[191cde3d490a3f6d7bb551fe3ddca469]\n",
       "reverse link E3 to E5--><g id=\"link_E3_E5\"><a href=\"psysml:35112bd1-62f9-4f19-9ad7-a00a9958ad40\" target=\"_top\" title=\"psysml:35112bd1-62f9-4f19-9ad7-a00a9958ad40\" xlink:actuate=\"onRequest\" xlink:href=\"psysml:35112bd1-62f9-4f19-9ad7-a00a9958ad40\" xlink:show=\"new\" xlink:title=\"psysml:35112bd1-62f9-4f19-9ad7-a00a9958ad40\" xlink:type=\"simple\"><path d=\"M188.58,100.19 C215.37,116.97 247.79,137.28 272.67,152.86 \" fill=\"none\" id=\"E3-backto-E5\" style=\"stroke:#181818;stroke-width:1.0;\"/><polygon fill=\"#181818\" points=\"177.48,93.23,180.435,99.8078,187.6434,99.6101,184.6884,93.0323,177.48,93.23\" style=\"stroke:#181818;stroke-width:1.0;\"/><text fill=\"#000000\" font-family=\"sans-serif\" font-size=\"13\" lengthAdjust=\"spacing\" textLength=\"22\" x=\"238.4021\" y=\"142.2344\">1..2</text></a></g><!--MD5=[15ebcb19ae302d9b601edb458606d402]\n",
       "link E5 to E2--><g id=\"link_E5_E2\"><a href=\"psysml:f1f21df8-3306-4bf2-bbcf-3de576a4a2f5\" target=\"_top\" title=\"psysml:f1f21df8-3306-4bf2-bbcf-3de576a4a2f5\" xlink:actuate=\"onRequest\" xlink:href=\"psysml:f1f21df8-3306-4bf2-bbcf-3de576a4a2f5\" xlink:show=\"new\" xlink:title=\"psysml:f1f21df8-3306-4bf2-bbcf-3de576a4a2f5\" xlink:type=\"simple\"><path d=\"M277.21,204.1 C255.32,219.57 226.44,239.98 200.67,258.2 \" fill=\"none\" id=\"E5-to-E2\" style=\"stroke:#181818;stroke-width:1.0;\"/><polygon fill=\"#FFFFFF\" points=\"184.28,269.79,195.7542,253.1064,203.8356,264.5384,184.28,269.79\" style=\"stroke:#181818;stroke-width:1.0;\"/><ellipse cx=\"201.5631\" cy=\"251.4492\" fill=\"#181818\" rx=\"2\" ry=\"2\" style=\"stroke:#181818;stroke-width:1.0;\"/><ellipse cx=\"207.3355\" cy=\"259.6149\" fill=\"#181818\" rx=\"2\" ry=\"2\" style=\"stroke:#181818;stroke-width:1.0;\"/></a></g><!--MD5=[1602bc182c5e516bbae11f637eddbfb6]\n",
       "@startuml\r\n",
       "skin sysmlbw\r\n",
       "skinparam monochrome true\r\n",
       "skinparam wrapWidth 300\r\n",
       "hide circle\r\n",
       "\r\n",
       "package \"SimpleSystem\" as E1  [[psysml:9013ab62-cb70-461f-bab4-a1b1d75ee454 ]]  {\r\n",
       "comp def \"partWithMass\" as E2  <<(T,blue) part  def>> [[psysml:2fe3f8cc-2e4c-47d3-9397-be3287a6061d ]] {\r\n",
       "##//attributes//##\r\n",
       "mass: Real\r\n",
       "}\r\n",
       "comp usage \"partA: partWithMass \" as E3  <<(T,blue) part>> [[psysml:ed75de22-61f4-43d1-836d-14467709749e ]] {\r\n",
       "}\r\n",
       "comp usage \"partB: partWithMass \" as E4  <<(T,blue) part>> [[psysml:c173f8ab-b613-4d29-8bfa-e1b67978d9c3 ]] {\r\n",
       "}\r\n",
       "comp usage \"partC: partWithMass \" as E5  <<(T,blue) part>> [[psysml:1c61540a-c559-4f07-a47d-f0901f9ae9ac ]] {\r\n",
       "}\r\n",
       "}\r\n",
       "E3 - -:|> E2 [[psysml:b446708c-71ce-49af-81c5-4da06952d2d0 ]] \r\n",
       "E3 *- - \"1..*\"E4 [[psysml:499b2765-344f-4b65-870e-cf6023de1d42 ]] \r\n",
       "E4 - -:|> E2 [[psysml:53a8fdf9-1969-4a8e-a7cc-ae03d409d28a ]] \r\n",
       "E3 *- - \"1..2\"E5 [[psysml:35112bd1-62f9-4f19-9ad7-a00a9958ad40 ]] \r\n",
       "E5 - -:|> E2 [[psysml:f1f21df8-3306-4bf2-bbcf-3de576a4a2f5 ]] \r\n",
       "@enduml\r\n",
       "\n",
       "PlantUML version 1.2022.7(Mon Aug 22 13:01:30 EDT 2022)\n",
       "(EPL source distribution)\n",
       "Java Runtime: OpenJDK Runtime Environment\n",
       "JVM: OpenJDK 64-Bit Server VM\n",
       "Default Encoding: Cp1252\n",
       "Language: en\n",
       "Country: US\n",
       "--></g></svg>"
      ]
     },
     "execution_count": 2,
     "metadata": {},
     "output_type": "execute_result"
    }
   ],
   "source": [
    "%viz SimpleSystem"
   ]
  },
  {
   "cell_type": "code",
   "execution_count": 4,
   "id": "5c6313bf-a8c4-4a55-8baa-6b4076e6fbf6",
   "metadata": {},
   "outputs": [
    {
     "name": "stdout",
     "output_type": "stream",
     "text": [
      "API base path: http://54.208.197.217:9000\n",
      "Processing\n",
      "Posting Commit (40 elements)...\n",
      "Error: 500 Internal Server Error\n",
      "\n"
     ]
    },
    {
     "data": {
      "text/plain": [
       "Saved to Project SimpleSystem Mon Jan 02 15:12:26 EST 2023 (df52af2e-8bc0-491a-be9c-c0b458a634c9)\n"
      ]
     },
     "execution_count": 4,
     "metadata": {},
     "output_type": "execute_result"
    }
   ],
   "source": [
    "%publish \"SimpleSystem\""
   ]
  },
  {
   "cell_type": "code",
   "execution_count": null,
   "id": "0d8fe2d2-74f6-457a-ad9b-1d39e06ddeee",
   "metadata": {},
   "outputs": [],
   "source": []
  }
 ],
 "metadata": {
  "kernelspec": {
   "display_name": "SysML",
   "language": "sysml",
   "name": "sysml"
  },
  "language_info": {
   "codemirror_mode": "sysml",
   "file_extension": ".sysml",
   "mimetype": "text/x-sysml",
   "name": "SysML",
   "pygments_lexer": "java",
   "version": "1.0.0"
  }
 },
 "nbformat": 4,
 "nbformat_minor": 5
}
