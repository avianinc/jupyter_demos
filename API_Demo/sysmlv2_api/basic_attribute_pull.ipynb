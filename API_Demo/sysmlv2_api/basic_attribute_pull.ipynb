{
 "cells": [
  {
   "cell_type": "markdown",
   "id": "87a06520-7ccb-491b-be2f-65afeab77fda",
   "metadata": {},
   "source": [
    "This example will pull a 'leteral real' from the local sysmlv2 implementation\n",
    "- Again... im cheating here since I know the ids... \n",
    "- Lets focus on a standard drill down tool later... maybe a tree?"
   ]
  },
  {
   "cell_type": "code",
   "execution_count": 35,
   "id": "c8802bb0-03f9-42ac-83bc-746c4a73cf23",
   "metadata": {},
   "outputs": [],
   "source": [
    "import json\n",
    "import requests # performs the curl function in python"
   ]
  },
  {
   "cell_type": "code",
   "execution_count": 36,
   "id": "4406ffcd-556e-4193-825e-3efbfd5ee195",
   "metadata": {},
   "outputs": [],
   "source": [
    "# Set fetch Ids -for the name of the attribute usage\n",
    "projectId = '27096f10-c79e-451f-acd9-5f2ec926ebfd'\n",
    "commitId = 'f6a12489-f2f4-4e1e-aff5-306936862a85'\n",
    "elementId = '06c21f66-86c4-45ef-b604-f9b718016bba' # Attribute Usage"
   ]
  },
  {
   "cell_type": "code",
   "execution_count": 37,
   "id": "fd821957-6354-4db7-8495-274e7b8d8735",
   "metadata": {},
   "outputs": [],
   "source": [
    "# Get the name of the attribute - we would normally work this backards but im tired :(...\n",
    "# Lets get a list of workspaces from the teamworkcloud server\n",
    "serverIp = 'localhost' # Avian server\n",
    "serverPort = '9000'\n",
    "call = f'/projects/{projectId}/commits/{commitId}/elements/{elementId}?excludeUsed=true'\n",
    "url = f'http://{serverIp}:{serverPort}{call}'\n",
    "headers={\"accept\":\"application/json\"}\n",
    "resp_ws = requests.get(url, headers=headers, verify=False) \n",
    "attributeUsage = resp_ws.json() # Convert the response content to a json format\n",
    "# print(json.dumps(attributeUsage, indent=4))"
   ]
  },
  {
   "cell_type": "code",
   "execution_count": 38,
   "id": "91c00bda-9f65-4b1d-b92d-2663ff554726",
   "metadata": {},
   "outputs": [
    {
     "data": {
      "text/plain": [
       "'Length'"
      ]
     },
     "execution_count": 38,
     "metadata": {},
     "output_type": "execute_result"
    }
   ],
   "source": [
    "attributeUsageName = attributeUsage[\"name\"]\n",
    "attributeUsageName"
   ]
  },
  {
   "cell_type": "code",
   "execution_count": 39,
   "id": "522a6e0e-218a-4d0a-b0e5-0c99cc506b63",
   "metadata": {},
   "outputs": [],
   "source": [
    "# Set fetch Ids\n",
    "projectId = '27096f10-c79e-451f-acd9-5f2ec926ebfd'\n",
    "commitId = 'f6a12489-f2f4-4e1e-aff5-306936862a85'\n",
    "elementId = '0dd888d1-b53a-422c-a101-ad6aa2d5230d' # Literal Integer\n",
    "\n",
    "# Lets get a list of workspaces from the teamworkcloud server\n",
    "serverIp = 'localhost' # Avian server\n",
    "serverPort = '9000'\n",
    "call = f'/projects/{projectId}/commits/{commitId}/elements/{elementId}?excludeUsed=true'\n",
    "url = f'http://{serverIp}:{serverPort}{call}'\n",
    "headers={\"accept\":\"application/json\"}\n",
    "resp_ws = requests.get(url, headers=headers, verify=False)\n",
    "literalInteger = resp_ws.json() # Convert the response content to a json format\n",
    "# print(json.dumps(literalInteger, indent=4))"
   ]
  },
  {
   "cell_type": "code",
   "execution_count": 40,
   "id": "1d5b1b83-7d6f-4325-bf89-7b9d61f5ae42",
   "metadata": {},
   "outputs": [
    {
     "data": {
      "text/plain": [
       "55"
      ]
     },
     "execution_count": 40,
     "metadata": {},
     "output_type": "execute_result"
    }
   ],
   "source": [
    "literalIntegerValue = literalInteger['value']\n",
    "literalIntegerValue"
   ]
  }
 ],
 "metadata": {
  "kernelspec": {
   "display_name": "Python 3 (ipykernel)",
   "language": "python",
   "name": "python3"
  },
  "language_info": {
   "codemirror_mode": {
    "name": "ipython",
    "version": 3
   },
   "file_extension": ".py",
   "mimetype": "text/x-python",
   "name": "python",
   "nbconvert_exporter": "python",
   "pygments_lexer": "ipython3",
   "version": "3.9.7"
  }
 },
 "nbformat": 4,
 "nbformat_minor": 5
}
