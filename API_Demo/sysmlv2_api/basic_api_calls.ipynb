{
 "cells": [
  {
   "cell_type": "code",
   "execution_count": 4,
   "id": "7d596527-c2b0-49f2-a0f6-0b4215da9246",
   "metadata": {},
   "outputs": [],
   "source": [
    "# install ipytree if its not already here...\n",
    "import sys\n",
    "import json\n",
    "import requests # performs the curl function in python"
   ]
  },
  {
   "cell_type": "code",
   "execution_count": 6,
   "id": "3a62ada6-b2ec-451e-b8cb-8b9ea8d10618",
   "metadata": {},
   "outputs": [
    {
     "name": "stdout",
     "output_type": "stream",
     "text": [
      "[{'@id': '70e332c1-ad56-4edd-812c-bcfb5d5ee185', '@type': 'Project', 'defaultBranch': {'@id': 'b13856f6-872e-4b0b-a644-17279816e30c'}, 'description': None, 'name': 'TestModel Thu Dec 29 13:59:46 UTC 2022'}, {'@id': 'a1856c1a-a624-475d-a863-7a1bce6127ae', '@type': 'Project', 'defaultBranch': {'@id': '7b97d6a4-b550-4a32-b47c-87ff762af292'}, 'description': None, 'name': 'TestModel Thu Dec 29 14:34:41 UTC 2022'}]\n"
     ]
    }
   ],
   "source": [
    "# Lets get a list of users\n",
    "urlBase = 'http://54.208.197.217:9000/'\n",
    "urlModifier = 'projects'\n",
    "url = urlBase + urlModifier\n",
    "headers={\"accept\":\"application/json\"}\n",
    "resp = requests.get(url,headers=headers, verify=False) # turn of verification here since our server is not super secure\n",
    "respJson = resp.json()\n",
    "print(respJson)"
   ]
  },
  {
   "cell_type": "code",
   "execution_count": null,
   "id": "f54ecc99-15da-4ffa-be04-3055a10a7635",
   "metadata": {},
   "outputs": [],
   "source": []
  }
 ],
 "metadata": {
  "kernelspec": {
   "display_name": "Python 3 (ipykernel)",
   "language": "python",
   "name": "python3"
  },
  "language_info": {
   "codemirror_mode": {
    "name": "ipython",
    "version": 3
   },
   "file_extension": ".py",
   "mimetype": "text/x-python",
   "name": "python",
   "nbconvert_exporter": "python",
   "pygments_lexer": "ipython3",
   "version": "3.9.15"
  }
 },
 "nbformat": 4,
 "nbformat_minor": 5
}
