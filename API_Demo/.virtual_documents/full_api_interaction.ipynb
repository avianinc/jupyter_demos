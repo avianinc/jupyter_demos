import requests
response_API = requests.get('http://127.0.0.1:10100/convert_r2d?angle=3.14159')
print(response_API.text)
x = response_API.text


import math
import requests
from ipywidgets import interact
@interact(x=(0, 2*math.pi))
def double_number(x):
    api_call = f'http://127.0.0.1:10100/convert_r2d?angle={x}'
    response_API = requests.get(api_call)
    print(response_API.text)


from ipywidgets import interact, interactive, fixed, interact_manual
import requests

def cost_func(a,b,c):
    api_call = f'http://127.0.0.1:10100/cost_model?cost_A={a}&cost_B={b}&cost_C={c}'
    response_API = requests.get(api_call)
    return response_API.text

interact(cost_func, a=(0,10,.01), b=(0,10,.01), c=(0,10,.01));


from ipywidgets import interact, interactive, fixed, interact_manual
import requests

@interact(seed=(0, 100, 1))
def sci_random(seed):
    api_call = f'http://127.0.0.1:10100/scilab_random_numb?seed={seed}'
    response_API = requests.get(api_call)
    return print(response_API.text)


import requests
import ipywidgets as widgets
import matplotlib.pyplot as plt
import numpy as np

text_amp=widgets.Text(description="Amplitude")
display(text_amp)
text_freq=widgets.Text(description="Frequency")
display(text_freq)
btn = widgets.Button(description="Run Model")
display(btn)
def runModel(b):
    amp=int(text_amp.value)
    freq=int(text_freq.value)
    api_call = f'http://127.0.0.1:10100/scilab_xcos_model?Amp={amp}&Freq={freq}'
    response_API = requests.get(api_call)
    dat = response_API.text
    x = np.array(dat.replace("\n","").split(" "))
    x = [var for var in x if var]
    x = np.array(x).astype(np.float64)
    #print(x)
    plt.plot(x)
btn.on_click(runModel)


Access a software API...
MagicDraw...  teamwork cloud...
