{
 "cells": [
  {
   "cell_type": "code",
   "execution_count": 33,
   "id": "4df744ee-0e93-45e2-8faa-ca6ff45b9ae7",
   "metadata": {},
   "outputs": [],
   "source": [
    "import sys\n",
    "import openpyxl\n",
    "import re"
   ]
  },
  {
   "cell_type": "code",
   "execution_count": 37,
   "id": "d4525d25-50be-4d5e-9471-bb0233b59e99",
   "metadata": {},
   "outputs": [],
   "source": [
    "path = \"C:/Users/jdehart/Working/API_Demo/cost_model.xlsx\"\n",
    "wb_obj = openpyxl.load_workbook(path.strip(), data_only=True)\n",
    "# from the active attribute \n",
    "sheet_obj = wb_obj.active"
   ]
  },
  {
   "cell_type": "code",
   "execution_count": 38,
   "id": "0bdb8c82-c6d5-4c76-bdde-5e4ca9d2a9ea",
   "metadata": {},
   "outputs": [
    {
     "name": "stdout",
     "output_type": "stream",
     "text": [
      "25\n"
     ]
    }
   ],
   "source": [
    "sheet_obj['A1'] = 25\n",
    "#wb_obj.save('cost_model.xlsx')\n",
    "result = sheet_obj['D1']\n",
    "print(result.value)"
   ]
  },
  {
   "cell_type": "code",
   "execution_count": 32,
   "id": "11260130-ba68-4cbb-8aae-9d0c4d8df44c",
   "metadata": {},
   "outputs": [
    {
     "name": "stdout",
     "output_type": "stream",
     "text": [
      "Empty DataFrame\n",
      "Columns: [20, 2, 3, 104]\n",
      "Index: []\n"
     ]
    }
   ],
   "source": [
    "import pandas as pd\n",
    "df = pd.read_excel (r'C:/Users/jdehart/Working/API_Demo/cost_model.xlsx', sheet_name='Sheet1')\n",
    "print (df)"
   ]
  },
  {
   "cell_type": "code",
   "execution_count": null,
   "id": "973b52c4-f50a-42f3-b19f-917938f94835",
   "metadata": {},
   "outputs": [],
   "source": []
  }
 ],
 "metadata": {
  "kernelspec": {
   "display_name": "Python 3 (ipykernel)",
   "language": "python",
   "name": "python3"
  },
  "language_info": {
   "codemirror_mode": {
    "name": "ipython",
    "version": 3
   },
   "file_extension": ".py",
   "mimetype": "text/x-python",
   "name": "python",
   "nbconvert_exporter": "python",
   "pygments_lexer": "ipython3",
   "version": "3.8.12"
  }
 },
 "nbformat": 4,
 "nbformat_minor": 5
}
