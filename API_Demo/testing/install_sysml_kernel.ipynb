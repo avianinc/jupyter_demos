{
 "cells": [
  {
   "cell_type": "code",
   "execution_count": 1,
   "id": "6aca0fba-465b-41d2-931b-d143192b2a05",
   "metadata": {},
   "outputs": [
    {
     "name": "stdout",
     "output_type": "stream",
     "text": [
      "conda-forge/win-64                                          Using cache\n",
      "conda-forge/noarch                                          Using cache\n",
      "Transaction\n",
      "\n",
      "  Prefix: C:\\Users\\jdehart\\Anaconda3\n",
      "\n",
      "  All requested packages already installed\n",
      "\n",
      "\n",
      "Looking for: ['jupyter-sysml-kernel']\n",
      "\n",
      "\n",
      "Pinned packages:\n",
      "  - python 3.9.*\n",
      "\n",
      "\n"
     ]
    }
   ],
   "source": [
    "import sys\n",
    "!mamba install --yes --prefix {sys.prefix} -c conda-forge jupyter-sysml-kernel"
   ]
  },
  {
   "cell_type": "code",
   "execution_count": 2,
   "id": "dd9574fb-9e86-404a-97e4-310ee46f2a77",
   "metadata": {},
   "outputs": [
    {
     "ename": "SyntaxError",
     "evalue": "invalid syntax (2485743006.py, line 1)",
     "output_type": "error",
     "traceback": [
      "\u001b[1;36m  File \u001b[1;32m\"C:\\Users\\jdehart\\AppData\\Local\\Temp\\ipykernel_121956\\2485743006.py\"\u001b[1;36m, line \u001b[1;32m1\u001b[0m\n\u001b[1;33m    jupyter lab build\u001b[0m\n\u001b[1;37m            ^\u001b[0m\n\u001b[1;31mSyntaxError\u001b[0m\u001b[1;31m:\u001b[0m invalid syntax\n"
     ]
    }
   ],
   "source": [
    "jupyter lab build"
   ]
  }
 ],
 "metadata": {
  "kernelspec": {
   "display_name": "Python 3 (ipykernel)",
   "language": "python",
   "name": "python3"
  },
  "language_info": {
   "codemirror_mode": {
    "name": "ipython",
    "version": 3
   },
   "file_extension": ".py",
   "mimetype": "text/x-python",
   "name": "python",
   "nbconvert_exporter": "python",
   "pygments_lexer": "ipython3",
   "version": "3.9.13"
  }
 },
 "nbformat": 4,
 "nbformat_minor": 5
}
