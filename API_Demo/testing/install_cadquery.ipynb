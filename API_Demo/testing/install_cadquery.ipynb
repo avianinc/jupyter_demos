{
 "cells": [
  {
   "cell_type": "code",
   "execution_count": 2,
   "id": "3c9112c5-a27a-4545-98ae-de6701e1050e",
   "metadata": {},
   "outputs": [
    {
     "name": "stderr",
     "output_type": "stream",
     "text": [
      "warning  libmamba Extracted package cache 'C:\\Users\\jdehart\\Anaconda3\\pkgs\\cadquery-master-py3.9' has invalid size\n",
      "warning  libmamba Extracted package cache 'C:\\Users\\jdehart\\Anaconda3\\pkgs\\cadquery-master-py3.9' has invalid MD5 checksum\n"
     ]
    },
    {
     "name": "stdout",
     "output_type": "stream",
     "text": [
      "conda-forge/win-64                                          Using cache\n",
      "conda-forge/noarch                                          Using cache\n",
      "Transaction\n",
      "\n",
      "  Prefix: C:\\Users\\jdehart\\Anaconda3\n",
      "\n",
      "  Updating specs:\n",
      "\n",
      "   - cadquery=master\n",
      "   - ca-certificates\n",
      "   - certifi\n",
      "   - openssl\n",
      "\n",
      "\n",
      "  Package                          Version  Build                   Channel                  Size\n",
      "---------------------------------------------------------------------------------------------------\n",
      "  Install:\n",
      "---------------------------------------------------------------------------------------------------\n",
      "\n",
      "  + cached-property                  1.5.2  hd8ed1ab_1              conda-forge/noarch        4kB\n",
      "  + cached_property                  1.5.2  pyha770c72_1            conda-forge/noarch       11kB\n",
      "  + cadquery                        master  py3.9                   cadquery/win-64         446kB\n",
      "  + casadi                           3.5.5  py39h48d937f_17         conda-forge/win-64        3MB\n",
      "  + double-conversion                3.2.0  h63175ca_1              conda-forge/win-64       73kB\n",
      "  + eigen                            3.4.0  h2d74725_0              conda-forge/win-64     Cached\n",
      "  + ezdxf                           0.18.1  py39h1f6ef14_1          conda-forge/win-64        2MB\n",
      "  + ffmpeg                           4.3.1  ha925a31_0              conda-forge/win-64     Cached\n",
      "  + font-ttf-dejavu-sans-mono         2.37  hab24e00_0              conda-forge/noarch     Cached\n",
      "  + font-ttf-inconsolata             3.000  h77eed37_0              conda-forge/noarch     Cached\n",
      "  + font-ttf-source-code-pro         2.038  h77eed37_0              conda-forge/noarch     Cached\n",
      "  + font-ttf-ubuntu                   0.83  hab24e00_0              conda-forge/noarch     Cached\n",
      "  + fontconfig                      2.14.0  hce3cb01_0              conda-forge/win-64     Cached\n",
      "  + fonts-conda-ecosystem                1  0                       conda-forge/noarch        4kB\n",
      "  + fonts-conda-forge                    1  0                       conda-forge/noarch        4kB\n",
      "  + freeimage                       3.18.0  h6676e37_9              conda-forge/win-64      705kB\n",
      "  + gl2ps                            1.4.2  h0597ee9_0              conda-forge/win-64     Cached\n",
      "  + glew                             2.1.0  h39d44d4_2              conda-forge/win-64     Cached\n",
      "  + hdf4                            4.2.15  h1b1b6ef_5              conda-forge/win-64        1MB\n",
      "  + imath                            3.1.6  h12be248_1              conda-forge/win-64      159kB\n",
      "  + ipopt                          3.14.10  ha9547d1_0              conda-forge/win-64        1MB\n",
      "  + jsoncpp                          1.9.5  h2d74725_1              conda-forge/win-64      545kB\n",
      "  + jxrlib                             1.1  h8ffe710_2              conda-forge/win-64     Cached\n",
      "  + libcblas                         3.9.0  5_hd5c7e75_netlib       conda-forge/win-64       98kB\n",
      "  + libclang                        10.0.1  default_hf44288c_1      conda-forge/win-64       23MB\n",
      "  + libflang                         5.0.0  h6538335_20180525       conda-forge/win-64     Cached\n",
      "  + libnetcdf                        4.8.1  nompi_h1cc8e9d_102      conda-forge/win-64      691kB\n",
      "  + libogg                           1.3.4  h8ffe710_1              conda-forge/win-64       35kB\n",
      "  + libosqp                          0.6.2  h0e60522_3              conda-forge/win-64     Cached\n",
      "  + libraw                          0.20.2  hee1bdec_1              conda-forge/win-64     Cached\n",
      "  + libtheora                        1.1.1  h8d14728_1005           conda-forge/win-64     Cached\n",
      "  + libzip                           1.9.2  hfed4ece_1              conda-forge/win-64      149kB\n",
      "  + llvm-meta                        5.0.0  0                       conda-forge/noarch        3kB\n",
      "  + loguru                           0.6.0  py39hcbf5309_2          conda-forge/win-64       90kB\n",
      "  + metis                            5.1.0  h0e60522_1006           conda-forge/win-64     Cached\n",
      "  + multimethod                        1.9  pyhd8ed1ab_0            conda-forge/noarch       14kB\n",
      "  + mumps-seq                        5.2.1  hb3f9cae_11             conda-forge/win-64     Cached\n",
      "  + nlopt                            2.7.1  py39h335a7d5_3          conda-forge/win-64      345kB\n",
      "  + nptyping                         2.0.1  pyhd8ed1ab_0            conda-forge/noarch     Cached\n",
      "  + occt                             7.6.3  h79a78a5_0              conda-forge/win-64       28MB\n",
      "  + ocp                        7.6.3.alpha  py39_0                  cadquery/win-64          17MB\n",
      "  + openexr                          3.1.5  hab3b255_1              conda-forge/win-64        1MB\n",
      "  + openmp                           5.0.0  vc14_1                  conda-forge/win-64     Cached\n",
      "  + proj                             9.0.0  h1cfcee9_1              conda-forge/win-64        3MB\n",
      "  + pugixml                         1.11.4  h0e60522_0              conda-forge/win-64     Cached\n",
      "  + pyqt-impl                       5.12.3  py39h415ef7b_8          conda-forge/win-64        4MB\n",
      "  + pyqt5-sip                      4.19.18  py39h415ef7b_8          conda-forge/win-64      306kB\n",
      "  + pyqtchart                         5.12  py39h415ef7b_8          conda-forge/win-64      217kB\n",
      "  + pyqtwebengine                   5.12.1  py39h415ef7b_8          conda-forge/win-64      147kB\n",
      "  + rapidjson                        1.1.0  ha925a31_1002           conda-forge/win-64     Cached\n",
      "  + tbb-devel                     2021.6.0  h59b6b97_0              pkgs/main/win-64          1MB\n",
      "  + typish                           1.9.3  pyhd8ed1ab_0            conda-forge/noarch     Cached\n",
      "  + utfcpp                           3.2.2  h57928b3_0              conda-forge/win-64       12kB\n",
      "  + vtk                              9.1.0  qt_py39h1ab545e_208     conda-forge/win-64       35MB\n",
      "  + win32_setctime                   1.1.0  pyhd8ed1ab_0            conda-forge/noarch     Cached\n",
      "\n",
      "  Change:\n",
      "---------------------------------------------------------------------------------------------------\n",
      "\n",
      "  - h5py                             3.7.0  py39h3de5c98_0          pkgs/main                    \n",
      "  + h5py                             3.7.0  nompi_py39hd4deaf1_100  conda-forge/win-64        1MB\n",
      "\n",
      "  Upgrade:\n",
      "---------------------------------------------------------------------------------------------------\n",
      "\n",
      "  - hdf5                            1.10.6  h1756f20_1              pkgs/main                    \n",
      "  + hdf5                            1.12.1  nompi_h2a0e4a3_104      conda-forge/win-64       24MB\n",
      "  - icu                               58.2  ha925a31_3              pkgs/main                    \n",
      "  + icu                               67.1  h33f27b4_0              conda-forge/win-64       17MB\n",
      "  - pyqt                             5.9.2  py39hd77b12b_6          pkgs/main                    \n",
      "  + pyqt                            5.12.3  py39hcbf5309_8          conda-forge/win-64       23kB\n",
      "  - pytables                         3.6.1  py39h56d22b6_1          pkgs/main                    \n",
      "  + pytables                         3.7.0  py39hbcfe41f_0          conda-forge/win-64        2MB\n",
      "  - qt                               5.9.7  vc14h73c81de_0          pkgs/main                    \n",
      "  + qt                              5.12.9  hb2cf2c5_0              conda-forge/win-64      111MB\n",
      "\n",
      "  Downgrade:\n",
      "---------------------------------------------------------------------------------------------------\n",
      "\n",
      "  - graphviz                        2.50.0  hdb8b0d4_0              pkgs/main                    \n",
      "  + graphviz                        2.38.0  h6538335_1011           conda-forge/win-64       43MB\n",
      "  - harfbuzz                         4.3.0  hda2c7e1_0              pkgs/main                    \n",
      "  + harfbuzz                         2.7.2  hab87c11_0              conda-forge/win-64      693kB\n",
      "  - pango                           1.50.7  h78c2152_0              pkgs/main                    \n",
      "  + pango                           1.42.4  h8cb6782_4              conda-forge/win-64      531kB\n",
      "\n",
      "  Summary:\n",
      "\n",
      "  Install: 55 packages\n",
      "  Change: 1 packages\n",
      "  Upgrade: 5 packages\n",
      "  Downgrade: 3 packages\n",
      "\n",
      "  Total download: 325MB\n",
      "\n",
      "---------------------------------------------------------------------------------------------------\n",
      "\n",
      "\n",
      "Looking for: ['cadquery=master']\n",
      "\n",
      "\n",
      "Pinned packages:\n",
      "  - python 3.9.*\n",
      "\n",
      "\n",
      "Preparing transaction: ...working... done\n",
      "Verifying transaction: ...working... done\n",
      "Executing transaction: ...working... done\n"
     ]
    }
   ],
   "source": [
    "#https://medium.com/@shivangisareen/for-anyone-using-jupyter-notebook-installing-packages-18a9468d0c1c\n",
    "\n",
    "#import sys\n",
    "#!{sys.executable} -m pip install <package_name>\n",
    "\n",
    "import sys\n",
    "!mamba install --yes --prefix {sys.prefix} -c conda-forge -c cadquery cadquery=master\n",
    "#!conda install --yes --prefix {sys.prefix} <package_name>"
   ]
  },
  {
   "cell_type": "code",
   "execution_count": 5,
   "id": "855862b0-dcfe-45d0-88bd-63b4ace6be46",
   "metadata": {},
   "outputs": [
    {
     "name": "stdout",
     "output_type": "stream",
     "text": [
      "Requirement already satisfied: pip in c:\\users\\jdehart\\anaconda3\\lib\\site-packages (22.2.2)\n",
      "Requirement already satisfied: install in c:\\users\\jdehart\\anaconda3\\lib\\site-packages (1.3.5)\n",
      "Requirement already satisfied: jupyter-cadquery==3.4.0 in c:\\users\\jdehart\\anaconda3\\lib\\site-packages (3.4.0)\n",
      "Requirement already satisfied: cadquery-massembly==1.0.0rc0 in c:\\users\\jdehart\\anaconda3\\lib\\site-packages (1.0.0rc0)\n",
      "Requirement already satisfied: matplotlib in c:\\users\\jdehart\\anaconda3\\lib\\site-packages (3.5.3)\n",
      "Collecting ruamel.yaml\n",
      "  Downloading ruamel.yaml-0.17.21-py3-none-any.whl (109 kB)\n",
      "     -------------------------------------- 109.5/109.5 kB 2.1 MB/s eta 0:00:00\n",
      "Requirement already satisfied: voila~=0.3.5 in c:\\users\\jdehart\\anaconda3\\lib\\site-packages (from jupyter-cadquery==3.4.0) (0.3.6)\n",
      "Requirement already satisfied: webcolors~=1.12 in c:\\users\\jdehart\\anaconda3\\lib\\site-packages (from jupyter-cadquery==3.4.0) (1.12)\n",
      "Requirement already satisfied: cachetools~=5.2.0 in c:\\users\\jdehart\\anaconda3\\lib\\site-packages (from jupyter-cadquery==3.4.0) (5.2.0)\n",
      "Requirement already satisfied: cad-viewer-widget~=1.4.0 in c:\\users\\jdehart\\anaconda3\\lib\\site-packages (from jupyter-cadquery==3.4.0) (1.4.0)\n",
      "Requirement already satisfied: numpy-quaternion==2022.4.1 in c:\\users\\jdehart\\anaconda3\\lib\\site-packages (from jupyter-cadquery==3.4.0) (2022.4.1)\n",
      "Requirement already satisfied: numpy>=1.13 in c:\\users\\jdehart\\anaconda3\\lib\\site-packages (from numpy-quaternion==2022.4.1->jupyter-cadquery==3.4.0) (1.21.5)\n",
      "Requirement already satisfied: packaging>=20.0 in c:\\users\\jdehart\\anaconda3\\lib\\site-packages (from matplotlib) (21.3)\n",
      "Requirement already satisfied: fonttools>=4.22.0 in c:\\users\\jdehart\\anaconda3\\lib\\site-packages (from matplotlib) (4.25.0)\n",
      "Requirement already satisfied: pyparsing>=2.2.1 in c:\\users\\jdehart\\anaconda3\\lib\\site-packages (from matplotlib) (3.0.9)\n",
      "Requirement already satisfied: cycler>=0.10 in c:\\users\\jdehart\\anaconda3\\lib\\site-packages (from matplotlib) (0.11.0)\n",
      "Requirement already satisfied: kiwisolver>=1.0.1 in c:\\users\\jdehart\\anaconda3\\lib\\site-packages (from matplotlib) (1.4.2)\n",
      "Requirement already satisfied: pillow>=6.2.0 in c:\\users\\jdehart\\anaconda3\\lib\\site-packages (from matplotlib) (9.2.0)\n",
      "Requirement already satisfied: python-dateutil>=2.7 in c:\\users\\jdehart\\anaconda3\\lib\\site-packages (from matplotlib) (2.8.2)\n",
      "Collecting ruamel.yaml.clib>=0.2.6\n",
      "  Downloading ruamel.yaml.clib-0.2.7-cp39-cp39-win_amd64.whl (118 kB)\n",
      "     -------------------------------------- 118.4/118.4 kB 2.3 MB/s eta 0:00:00\n",
      "Requirement already satisfied: jupyterlab<3.5 in c:\\users\\jdehart\\anaconda3\\lib\\site-packages (from cad-viewer-widget~=1.4.0->jupyter-cadquery==3.4.0) (3.4.4)\n",
      "Requirement already satisfied: ipywidgets~=7.7 in c:\\users\\jdehart\\anaconda3\\lib\\site-packages (from cad-viewer-widget~=1.4.0->jupyter-cadquery==3.4.0) (7.7.2)\n",
      "Requirement already satisfied: six>=1.5 in c:\\users\\jdehart\\anaconda3\\lib\\site-packages (from python-dateutil>=2.7->matplotlib) (1.16.0)\n",
      "Requirement already satisfied: jupyter-server<2.0.0,>=1.18 in c:\\users\\jdehart\\anaconda3\\lib\\site-packages (from voila~=0.3.5->jupyter-cadquery==3.4.0) (1.18.1)\n",
      "Requirement already satisfied: nbclient<0.6,>=0.4.0 in c:\\users\\jdehart\\anaconda3\\lib\\site-packages (from voila~=0.3.5->jupyter-cadquery==3.4.0) (0.5.13)\n",
      "Requirement already satisfied: traitlets<6,>=5.0.3 in c:\\users\\jdehart\\anaconda3\\lib\\site-packages (from voila~=0.3.5->jupyter-cadquery==3.4.0) (5.1.1)\n",
      "Requirement already satisfied: jupyter-client<8,>=6.1.3 in c:\\users\\jdehart\\anaconda3\\lib\\site-packages (from voila~=0.3.5->jupyter-cadquery==3.4.0) (7.3.4)\n",
      "Requirement already satisfied: jupyterlab-server<3,>=2.3.0 in c:\\users\\jdehart\\anaconda3\\lib\\site-packages (from voila~=0.3.5->jupyter-cadquery==3.4.0) (2.10.3)\n",
      "Requirement already satisfied: nbconvert<7,>=6.4.5 in c:\\users\\jdehart\\anaconda3\\lib\\site-packages (from voila~=0.3.5->jupyter-cadquery==3.4.0) (6.5.4)\n",
      "Requirement already satisfied: websockets>=9.0 in c:\\users\\jdehart\\anaconda3\\lib\\site-packages (from voila~=0.3.5->jupyter-cadquery==3.4.0) (10.4)\n",
      "Requirement already satisfied: jupyter-core>=4.11.0 in c:\\users\\jdehart\\anaconda3\\lib\\site-packages (from voila~=0.3.5->jupyter-cadquery==3.4.0) (4.11.1)\n",
      "Requirement already satisfied: ipython-genutils~=0.2.0 in c:\\users\\jdehart\\anaconda3\\lib\\site-packages (from ipywidgets~=7.7->cad-viewer-widget~=1.4.0->jupyter-cadquery==3.4.0) (0.2.0)\n",
      "Requirement already satisfied: ipykernel>=4.5.1 in c:\\users\\jdehart\\anaconda3\\lib\\site-packages (from ipywidgets~=7.7->cad-viewer-widget~=1.4.0->jupyter-cadquery==3.4.0) (6.15.2)\n",
      "Requirement already satisfied: widgetsnbextension~=3.6.0 in c:\\users\\jdehart\\anaconda3\\lib\\site-packages (from ipywidgets~=7.7->cad-viewer-widget~=1.4.0->jupyter-cadquery==3.4.0) (3.6.1)\n",
      "Requirement already satisfied: jupyterlab-widgets<3,>=1.0.0 in c:\\users\\jdehart\\anaconda3\\lib\\site-packages (from ipywidgets~=7.7->cad-viewer-widget~=1.4.0->jupyter-cadquery==3.4.0) (1.0.0)\n",
      "Requirement already satisfied: ipython>=4.0.0 in c:\\users\\jdehart\\anaconda3\\lib\\site-packages (from ipywidgets~=7.7->cad-viewer-widget~=1.4.0->jupyter-cadquery==3.4.0) (7.31.1)\n",
      "Requirement already satisfied: pyzmq>=23.0 in c:\\users\\jdehart\\anaconda3\\lib\\site-packages (from jupyter-client<8,>=6.1.3->voila~=0.3.5->jupyter-cadquery==3.4.0) (23.2.0)\n",
      "Requirement already satisfied: entrypoints in c:\\users\\jdehart\\anaconda3\\lib\\site-packages (from jupyter-client<8,>=6.1.3->voila~=0.3.5->jupyter-cadquery==3.4.0) (0.4)\n",
      "Requirement already satisfied: nest-asyncio>=1.5.4 in c:\\users\\jdehart\\anaconda3\\lib\\site-packages (from jupyter-client<8,>=6.1.3->voila~=0.3.5->jupyter-cadquery==3.4.0) (1.5.5)\n",
      "Requirement already satisfied: tornado>=6.0 in c:\\users\\jdehart\\anaconda3\\lib\\site-packages (from jupyter-client<8,>=6.1.3->voila~=0.3.5->jupyter-cadquery==3.4.0) (6.1)\n",
      "Requirement already satisfied: pywin32>=1.0 in c:\\users\\jdehart\\anaconda3\\lib\\site-packages (from jupyter-core>=4.11.0->voila~=0.3.5->jupyter-cadquery==3.4.0) (302)\n",
      "Requirement already satisfied: terminado>=0.8.3 in c:\\users\\jdehart\\anaconda3\\lib\\site-packages (from jupyter-server<2.0.0,>=1.18->voila~=0.3.5->jupyter-cadquery==3.4.0) (0.13.1)\n",
      "Requirement already satisfied: websocket-client in c:\\users\\jdehart\\anaconda3\\lib\\site-packages (from jupyter-server<2.0.0,>=1.18->voila~=0.3.5->jupyter-cadquery==3.4.0) (0.58.0)\n",
      "Requirement already satisfied: anyio<4,>=3.1.0 in c:\\users\\jdehart\\anaconda3\\lib\\site-packages (from jupyter-server<2.0.0,>=1.18->voila~=0.3.5->jupyter-cadquery==3.4.0) (3.5.0)\n",
      "Requirement already satisfied: prometheus-client in c:\\users\\jdehart\\anaconda3\\lib\\site-packages (from jupyter-server<2.0.0,>=1.18->voila~=0.3.5->jupyter-cadquery==3.4.0) (0.14.1)\n",
      "Requirement already satisfied: nbformat>=5.2.0 in c:\\users\\jdehart\\anaconda3\\lib\\site-packages (from jupyter-server<2.0.0,>=1.18->voila~=0.3.5->jupyter-cadquery==3.4.0) (5.5.0)\n",
      "Requirement already satisfied: Send2Trash in c:\\users\\jdehart\\anaconda3\\lib\\site-packages (from jupyter-server<2.0.0,>=1.18->voila~=0.3.5->jupyter-cadquery==3.4.0) (1.8.0)\n",
      "Requirement already satisfied: pywinpty in c:\\users\\jdehart\\anaconda3\\lib\\site-packages (from jupyter-server<2.0.0,>=1.18->voila~=0.3.5->jupyter-cadquery==3.4.0) (2.0.2)\n",
      "Requirement already satisfied: argon2-cffi in c:\\users\\jdehart\\anaconda3\\lib\\site-packages (from jupyter-server<2.0.0,>=1.18->voila~=0.3.5->jupyter-cadquery==3.4.0) (21.3.0)\n",
      "Requirement already satisfied: jinja2 in c:\\users\\jdehart\\anaconda3\\lib\\site-packages (from jupyter-server<2.0.0,>=1.18->voila~=0.3.5->jupyter-cadquery==3.4.0) (3.1.2)\n",
      "Requirement already satisfied: nbclassic in c:\\users\\jdehart\\anaconda3\\lib\\site-packages (from jupyterlab<3.5->cad-viewer-widget~=1.4.0->jupyter-cadquery==3.4.0) (0.3.5)\n",
      "Requirement already satisfied: notebook<7 in c:\\users\\jdehart\\anaconda3\\lib\\site-packages (from jupyterlab<3.5->cad-viewer-widget~=1.4.0->jupyter-cadquery==3.4.0) (6.4.12)\n",
      "Requirement already satisfied: babel in c:\\users\\jdehart\\anaconda3\\lib\\site-packages (from jupyterlab-server<3,>=2.3.0->voila~=0.3.5->jupyter-cadquery==3.4.0) (2.9.1)\n",
      "Requirement already satisfied: jsonschema>=3.0.1 in c:\\users\\jdehart\\anaconda3\\lib\\site-packages (from jupyterlab-server<3,>=2.3.0->voila~=0.3.5->jupyter-cadquery==3.4.0) (4.16.0)\n",
      "Requirement already satisfied: requests in c:\\users\\jdehart\\anaconda3\\lib\\site-packages (from jupyterlab-server<3,>=2.3.0->voila~=0.3.5->jupyter-cadquery==3.4.0) (2.28.1)\n",
      "Requirement already satisfied: json5 in c:\\users\\jdehart\\anaconda3\\lib\\site-packages (from jupyterlab-server<3,>=2.3.0->voila~=0.3.5->jupyter-cadquery==3.4.0) (0.9.6)\n",
      "Requirement already satisfied: pandocfilters>=1.4.1 in c:\\users\\jdehart\\anaconda3\\lib\\site-packages (from nbconvert<7,>=6.4.5->voila~=0.3.5->jupyter-cadquery==3.4.0) (1.5.0)\n",
      "Requirement already satisfied: mistune<2,>=0.8.1 in c:\\users\\jdehart\\anaconda3\\lib\\site-packages (from nbconvert<7,>=6.4.5->voila~=0.3.5->jupyter-cadquery==3.4.0) (0.8.4)\n",
      "Requirement already satisfied: MarkupSafe>=2.0 in c:\\users\\jdehart\\anaconda3\\lib\\site-packages (from nbconvert<7,>=6.4.5->voila~=0.3.5->jupyter-cadquery==3.4.0) (2.0.1)\n",
      "Requirement already satisfied: pygments>=2.4.1 in c:\\users\\jdehart\\anaconda3\\lib\\site-packages (from nbconvert<7,>=6.4.5->voila~=0.3.5->jupyter-cadquery==3.4.0) (2.11.2)\n",
      "Requirement already satisfied: lxml in c:\\users\\jdehart\\anaconda3\\lib\\site-packages (from nbconvert<7,>=6.4.5->voila~=0.3.5->jupyter-cadquery==3.4.0) (4.9.1)\n",
      "Requirement already satisfied: tinycss2 in c:\\users\\jdehart\\anaconda3\\lib\\site-packages (from nbconvert<7,>=6.4.5->voila~=0.3.5->jupyter-cadquery==3.4.0) (1.2.1)\n",
      "Requirement already satisfied: bleach in c:\\users\\jdehart\\anaconda3\\lib\\site-packages (from nbconvert<7,>=6.4.5->voila~=0.3.5->jupyter-cadquery==3.4.0) (4.1.0)\n",
      "Requirement already satisfied: beautifulsoup4 in c:\\users\\jdehart\\anaconda3\\lib\\site-packages (from nbconvert<7,>=6.4.5->voila~=0.3.5->jupyter-cadquery==3.4.0) (4.11.1)\n",
      "Requirement already satisfied: defusedxml in c:\\users\\jdehart\\anaconda3\\lib\\site-packages (from nbconvert<7,>=6.4.5->voila~=0.3.5->jupyter-cadquery==3.4.0) (0.7.1)\n",
      "Requirement already satisfied: jupyterlab-pygments in c:\\users\\jdehart\\anaconda3\\lib\\site-packages (from nbconvert<7,>=6.4.5->voila~=0.3.5->jupyter-cadquery==3.4.0) (0.1.2)\n",
      "Requirement already satisfied: idna>=2.8 in c:\\users\\jdehart\\anaconda3\\lib\\site-packages (from anyio<4,>=3.1.0->jupyter-server<2.0.0,>=1.18->voila~=0.3.5->jupyter-cadquery==3.4.0) (3.4)\n",
      "Requirement already satisfied: sniffio>=1.1 in c:\\users\\jdehart\\anaconda3\\lib\\site-packages (from anyio<4,>=3.1.0->jupyter-server<2.0.0,>=1.18->voila~=0.3.5->jupyter-cadquery==3.4.0) (1.2.0)\n",
      "Requirement already satisfied: matplotlib-inline>=0.1 in c:\\users\\jdehart\\anaconda3\\lib\\site-packages (from ipykernel>=4.5.1->ipywidgets~=7.7->cad-viewer-widget~=1.4.0->jupyter-cadquery==3.4.0) (0.1.6)\n",
      "Requirement already satisfied: psutil in c:\\users\\jdehart\\anaconda3\\lib\\site-packages (from ipykernel>=4.5.1->ipywidgets~=7.7->cad-viewer-widget~=1.4.0->jupyter-cadquery==3.4.0) (5.9.0)\n",
      "Requirement already satisfied: debugpy>=1.0 in c:\\users\\jdehart\\anaconda3\\lib\\site-packages (from ipykernel>=4.5.1->ipywidgets~=7.7->cad-viewer-widget~=1.4.0->jupyter-cadquery==3.4.0) (1.5.1)\n",
      "Requirement already satisfied: decorator in c:\\users\\jdehart\\anaconda3\\lib\\site-packages (from ipython>=4.0.0->ipywidgets~=7.7->cad-viewer-widget~=1.4.0->jupyter-cadquery==3.4.0) (5.1.1)\n",
      "Requirement already satisfied: prompt-toolkit!=3.0.0,!=3.0.1,<3.1.0,>=2.0.0 in c:\\users\\jdehart\\anaconda3\\lib\\site-packages (from ipython>=4.0.0->ipywidgets~=7.7->cad-viewer-widget~=1.4.0->jupyter-cadquery==3.4.0) (3.0.20)\n",
      "Requirement already satisfied: setuptools>=18.5 in c:\\users\\jdehart\\anaconda3\\lib\\site-packages (from ipython>=4.0.0->ipywidgets~=7.7->cad-viewer-widget~=1.4.0->jupyter-cadquery==3.4.0) (65.5.0)\n",
      "Requirement already satisfied: pickleshare in c:\\users\\jdehart\\anaconda3\\lib\\site-packages (from ipython>=4.0.0->ipywidgets~=7.7->cad-viewer-widget~=1.4.0->jupyter-cadquery==3.4.0) (0.7.5)\n",
      "Requirement already satisfied: jedi>=0.16 in c:\\users\\jdehart\\anaconda3\\lib\\site-packages (from ipython>=4.0.0->ipywidgets~=7.7->cad-viewer-widget~=1.4.0->jupyter-cadquery==3.4.0) (0.18.1)\n",
      "Requirement already satisfied: colorama in c:\\users\\jdehart\\anaconda3\\lib\\site-packages (from ipython>=4.0.0->ipywidgets~=7.7->cad-viewer-widget~=1.4.0->jupyter-cadquery==3.4.0) (0.4.5)\n",
      "Requirement already satisfied: backcall in c:\\users\\jdehart\\anaconda3\\lib\\site-packages (from ipython>=4.0.0->ipywidgets~=7.7->cad-viewer-widget~=1.4.0->jupyter-cadquery==3.4.0) (0.2.0)\n",
      "Requirement already satisfied: pyrsistent!=0.17.0,!=0.17.1,!=0.17.2,>=0.14.0 in c:\\users\\jdehart\\anaconda3\\lib\\site-packages (from jsonschema>=3.0.1->jupyterlab-server<3,>=2.3.0->voila~=0.3.5->jupyter-cadquery==3.4.0) (0.18.0)\n",
      "Requirement already satisfied: attrs>=17.4.0 in c:\\users\\jdehart\\anaconda3\\lib\\site-packages (from jsonschema>=3.0.1->jupyterlab-server<3,>=2.3.0->voila~=0.3.5->jupyter-cadquery==3.4.0) (21.4.0)\n",
      "Requirement already satisfied: fastjsonschema in c:\\users\\jdehart\\anaconda3\\lib\\site-packages (from nbformat>=5.2.0->jupyter-server<2.0.0,>=1.18->voila~=0.3.5->jupyter-cadquery==3.4.0) (2.16.2)\n",
      "Requirement already satisfied: argon2-cffi-bindings in c:\\users\\jdehart\\anaconda3\\lib\\site-packages (from argon2-cffi->jupyter-server<2.0.0,>=1.18->voila~=0.3.5->jupyter-cadquery==3.4.0) (21.2.0)\n",
      "Requirement already satisfied: pytz>=2015.7 in c:\\users\\jdehart\\anaconda3\\lib\\site-packages (from babel->jupyterlab-server<3,>=2.3.0->voila~=0.3.5->jupyter-cadquery==3.4.0) (2022.1)\n",
      "Requirement already satisfied: soupsieve>1.2 in c:\\users\\jdehart\\anaconda3\\lib\\site-packages (from beautifulsoup4->nbconvert<7,>=6.4.5->voila~=0.3.5->jupyter-cadquery==3.4.0) (2.3.2.post1)\n",
      "Requirement already satisfied: webencodings in c:\\users\\jdehart\\anaconda3\\lib\\site-packages (from bleach->nbconvert<7,>=6.4.5->voila~=0.3.5->jupyter-cadquery==3.4.0) (0.5.1)\n",
      "Requirement already satisfied: urllib3<1.27,>=1.21.1 in c:\\users\\jdehart\\anaconda3\\lib\\site-packages (from requests->jupyterlab-server<3,>=2.3.0->voila~=0.3.5->jupyter-cadquery==3.4.0) (1.26.12)\n",
      "Requirement already satisfied: charset-normalizer<3,>=2 in c:\\users\\jdehart\\anaconda3\\lib\\site-packages (from requests->jupyterlab-server<3,>=2.3.0->voila~=0.3.5->jupyter-cadquery==3.4.0) (2.0.4)\n",
      "Requirement already satisfied: certifi>=2017.4.17 in c:\\users\\jdehart\\anaconda3\\lib\\site-packages (from requests->jupyterlab-server<3,>=2.3.0->voila~=0.3.5->jupyter-cadquery==3.4.0) (2022.9.24)\n",
      "Requirement already satisfied: parso<0.9.0,>=0.8.0 in c:\\users\\jdehart\\anaconda3\\lib\\site-packages (from jedi>=0.16->ipython>=4.0.0->ipywidgets~=7.7->cad-viewer-widget~=1.4.0->jupyter-cadquery==3.4.0) (0.8.3)\n",
      "Requirement already satisfied: wcwidth in c:\\users\\jdehart\\anaconda3\\lib\\site-packages (from prompt-toolkit!=3.0.0,!=3.0.1,<3.1.0,>=2.0.0->ipython>=4.0.0->ipywidgets~=7.7->cad-viewer-widget~=1.4.0->jupyter-cadquery==3.4.0) (0.2.5)\n",
      "Requirement already satisfied: cffi>=1.0.1 in c:\\users\\jdehart\\anaconda3\\lib\\site-packages (from argon2-cffi-bindings->argon2-cffi->jupyter-server<2.0.0,>=1.18->voila~=0.3.5->jupyter-cadquery==3.4.0) (1.15.1)\n",
      "Requirement already satisfied: pycparser in c:\\users\\jdehart\\anaconda3\\lib\\site-packages (from cffi>=1.0.1->argon2-cffi-bindings->argon2-cffi->jupyter-server<2.0.0,>=1.18->voila~=0.3.5->jupyter-cadquery==3.4.0) (2.21)\n",
      "Installing collected packages: ruamel.yaml.clib, ruamel.yaml\n",
      "Successfully installed ruamel.yaml-0.17.21 ruamel.yaml.clib-0.2.7\n"
     ]
    }
   ],
   "source": [
    "#import sys\n",
    "!{sys.executable} -m pip install pip install jupyter-cadquery==3.4.0 cadquery-massembly==1.0.0rc0 matplotlib ruamel.yaml"
   ]
  },
  {
   "cell_type": "code",
   "execution_count": 13,
   "id": "7a01c055-5060-4a75-9055-228f7dba682f",
   "metadata": {},
   "outputs": [
    {
     "name": "stdout",
     "output_type": "stream",
     "text": [
      "Transaction\n",
      "\n",
      "  Prefix: C:\\Users\\jdehart\\Anaconda3\n",
      "\n",
      "  Updating specs:\n",
      "\n",
      "   - pywin32\n",
      "   - ca-certificates\n",
      "   - certifi\n",
      "   - openssl\n",
      "\n",
      "\n",
      "  Package               Version  Build       Channel                Size\n",
      "--------------------------------------------------------------------------\n",
      "  Upgrade:\n",
      "--------------------------------------------------------------------------\n",
      "\n",
      "  - ca-certificates   2022.9.24  h5b45459_0  conda-forge                \n",
      "  + ca-certificates  2022.10.11  haa95532_0  pkgs/main/win-64     Cached\n",
      "\n",
      "  Summary:\n",
      "\n",
      "  Upgrade: 1 packages\n",
      "\n",
      "  Total download: 0 B\n",
      "\n",
      "--------------------------------------------------------------------------\n",
      "\n",
      "\n",
      "Looking for: ['pywin32']\n",
      "\n",
      "\n",
      "Pinned packages:\n",
      "  - python 3.9.*\n",
      "\n",
      "\n",
      "Preparing transaction: ...working... done\n",
      "Verifying transaction: ...working... done\n",
      "Executing transaction: ...working... done\n"
     ]
    }
   ],
   "source": [
    "import sys\n",
    "!mamba install --yes --prefix {sys.prefix} pywin32"
   ]
  },
  {
   "cell_type": "code",
   "execution_count": 20,
   "id": "0dd2f0f8-d339-4681-b4c3-0c54f7b02e94",
   "metadata": {},
   "outputs": [
    {
     "name": "stdout",
     "output_type": "stream",
     "text": [
      "\n",
      "Enabling jupyter_cadquery replay\n",
      "\n",
      "jupyter_cadquery  3.4.0\n",
      "cad_viewer_widget 1.4.0\n",
      "open cascade      (cannot retrieve Open CASCADE version)\n"
     ]
    }
   ],
   "source": [
    "import cadquery as cq\n",
    "\n",
    "from jupyter_cadquery import (\n",
    "    versions,\n",
    "    show, PartGroup, Part, \n",
    "    get_viewer, close_viewer, get_viewers, close_viewers, open_viewer, set_defaults, get_defaults, open_viewer,\n",
    "    get_pick,\n",
    ")\n",
    "\n",
    "from jupyter_cadquery.replay import replay, enable_replay, disable_replay\n",
    "\n",
    "enable_replay(False)\n",
    "\n",
    "set_defaults(\n",
    "    cad_width=640, \n",
    "    height=480, \n",
    ")\n",
    "\n",
    "print()\n",
    "versions()"
   ]
  },
  {
   "cell_type": "code",
   "execution_count": 21,
   "id": "2b77979b-f682-47f7-8df8-9c7d387683c3",
   "metadata": {},
   "outputs": [],
   "source": [
    "box = cq.Workplane('XY').box(1, 2, 3).edges().fillet(0.1)\n",
    "box"
   ]
  },
  {
   "cell_type": "code",
   "execution_count": 22,
   "id": "d3ce0d9e-4068-48f4-ae5a-8a46140554aa",
   "metadata": {},
   "outputs": [],
   "source": [
    "import ipywidgets\n",
    "cv = open_viewer(\"CadQuery\", anchor=\"right\")  # sets default viewer"
   ]
  },
  {
   "cell_type": "code",
   "execution_count": 23,
   "id": "00a84d16-8999-48ed-8c85-184cca05b6e2",
   "metadata": {},
   "outputs": [],
   "source": [
    "box"
   ]
  },
  {
   "cell_type": "code",
   "execution_count": 24,
   "id": "6809be1d-8810-45f6-942e-992ac460fb28",
   "metadata": {},
   "outputs": [
    {
     "data": {
      "application/vnd.jupyter.widget-view+json": {
       "model_id": "9de9a22028a34da9887dd9d5273e5ff1",
       "version_major": 2,
       "version_minor": 0
      },
      "text/plain": [
       "CadViewerWidget(anchor=None, cad_width=640, glass=True, height=480, pinning=True, theme='browser', title=None,…"
      ]
     },
     "metadata": {},
     "output_type": "display_data"
    },
    {
     "data": {
      "text/html": [
       "<div></div>"
      ],
      "text/plain": [
       "<IPython.core.display.HTML object>"
      ]
     },
     "metadata": {},
     "output_type": "display_data"
    },
    {
     "data": {
      "text/plain": [
       "<cad_viewer_widget.widget.CadViewer at 0x26506687f70>"
      ]
     },
     "execution_count": 24,
     "metadata": {},
     "output_type": "execute_result"
    }
   ],
   "source": [
    "show(box, viewer=None, up=\"Y\")"
   ]
  },
  {
   "cell_type": "code",
   "execution_count": null,
   "id": "529f1d16-6e6a-40fb-b367-008c4c7b1b01",
   "metadata": {},
   "outputs": [],
   "source": []
  }
 ],
 "metadata": {
  "kernelspec": {
   "display_name": "Python 3 (ipykernel)",
   "language": "python",
   "name": "python3"
  },
  "language_info": {
   "codemirror_mode": {
    "name": "ipython",
    "version": 3
   },
   "file_extension": ".py",
   "mimetype": "text/x-python",
   "name": "python",
   "nbconvert_exporter": "python",
   "pygments_lexer": "ipython3",
   "version": "3.9.7"
  }
 },
 "nbformat": 4,
 "nbformat_minor": 5
}
