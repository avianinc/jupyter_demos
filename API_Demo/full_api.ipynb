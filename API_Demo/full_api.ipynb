{
 "cells": [
  {
   "cell_type": "markdown",
   "id": "1d3e1243-4290-4d71-8570-cf4b42144b99",
   "metadata": {},
   "source": [
    "Example Startup: jupyter kernelgateway --KernelGatewayApp.api='kernel_gateway.notebook_http' --KernelGatewayApp.seed_uri='C:/Users/jdehart/OneDrive - AVIAN/Documents/GitHub/jupyter_demos/API_Demo/full_api.ipynb' --port=10100"
   ]
  },
  {
   "cell_type": "code",
   "execution_count": 3,
   "id": "6701039f-7b54-4fc7-998c-972cefc992b6",
   "metadata": {},
   "outputs": [],
   "source": [
    "import math\n",
    "import json\n",
    "import pandas as pd\n",
    "import subprocess\n",
    "import xlwings as xw\n",
    "\n",
    "path = \"C:/Users/jdehart/Working/API_Demo/cost_model.xlsx\"\n",
    "app = xw.App(visible=False)\n",
    "wb = xw.Book(path)\n",
    "sheet = wb.sheets['Sheet1']"
   ]
  },
  {
   "cell_type": "code",
   "execution_count": 4,
   "id": "78c64cde-d46a-466f-84c4-746311711e85",
   "metadata": {},
   "outputs": [],
   "source": [
    "REQUEST = json.dumps({\n",
    "'path' : {},\n",
    "'args' : {}\n",
    "})"
   ]
  },
  {
   "cell_type": "code",
   "execution_count": 4,
   "id": "5827caf8-42b6-48fc-99f8-b8cfd931307a",
   "metadata": {},
   "outputs": [
    {
     "name": "stdout",
     "output_type": "stream",
     "text": [
      "{\"convertedAngle(radians)\": null}\n"
     ]
    }
   ],
   "source": [
    "# GET /convert_d2r\n",
    "req = json.loads(REQUEST)\n",
    "args = req['args']\n",
    "\n",
    "if 'angle' not in args:\n",
    "  print(json.dumps({'convertedAngle(radians)': None}))\n",
    "else:\n",
    "  # Note the [0] when retrieving the argument.\n",
    "  # This is because you could potentially pass multiple angles.\n",
    "  angle = float(args['angle'][0])\n",
    "  converted = math.radians(angle)\n",
    "  print(json.dumps({'convertedAngle(radians)': converted}))"
   ]
  },
  {
   "cell_type": "code",
   "execution_count": null,
   "id": "ea5d490b-2d35-4251-9969-653f53f636b6",
   "metadata": {},
   "outputs": [],
   "source": [
    "# GET /convert_r2d\n",
    "req = json.loads(REQUEST)\n",
    "args = req['args']\n",
    "\n",
    "if 'angle' not in args:\n",
    "  print(json.dumps({'convertedAngle(degrees)': None}))\n",
    "else:\n",
    "  # Note the [0] when retrieving the argument.\n",
    "  # This is because you could potentially pass multiple angles.\n",
    "  angle = float(args['angle'][0])\n",
    "  converted = math.degrees(angle)\n",
    "  print(json.dumps({'convertedAngle(degrees)': converted}))"
   ]
  },
  {
   "cell_type": "code",
   "execution_count": null,
   "id": "a4c7579b-2dbc-4f43-ad9c-b58d2f011623",
   "metadata": {},
   "outputs": [],
   "source": [
    "# GET /cost_model\n",
    "req = json.loads(REQUEST)\n",
    "args = req['args']\n",
    "\n",
    "if 'cost_A' not in args:\n",
    "  print(json.dumps({'systemCost': None}))\n",
    "else:\n",
    "  # Note the [0] when retrieving the argument.\n",
    "  # This is because you could potentially pass multiple angles.\n",
    "  if 'cost_A' in args:\n",
    "    sheet.range('A1').value = float(args['cost_A'][0]) \n",
    "  if 'cost_B' in args:\n",
    "    sheet.range('B1').value = float(args['cost_B'][0])\n",
    "  if 'cost_C' in args:\n",
    "    sheet.range('C1').value = float(args['cost_C'][0]) \n",
    "  costed = sheet.range('D1').value\n",
    "  print(json.dumps({'systemCost': costed}))"
   ]
  },
  {
   "cell_type": "code",
   "execution_count": null,
   "id": "8b6a1501-742c-4fc7-9ff9-e7be53af84aa",
   "metadata": {},
   "outputs": [],
   "source": [
    "# GET /scilab_random_numb\n",
    "req = json.loads(REQUEST)\n",
    "args = req['args']\n",
    "\n",
    "# make sure there is an argument\n",
    "if 'seed' in args:\n",
    "    seed = str(args['seed'][0])\n",
    "else: \n",
    "    seed = 5\n",
    "\n",
    "execString = (f'C:/Users/jdehart/AppData/Local/scilab-6.1.1/bin/scilex.exe -e \"rand(\"\"seed\"\",{seed}); disp(rand()); exit;\" -nb')\n",
    "#print(execString)\n",
    "result = subprocess.run(execString, capture_output=True, text=True)\n",
    "print('Random number = ' + result.stdout)\n",
    "print(result.stderr)\n",
    "print(f'User defined seed = {seed}')"
   ]
  },
  {
   "cell_type": "code",
   "execution_count": 1,
   "id": "4ad7e6d9-84a2-4c84-94c2-999b7952a420",
   "metadata": {},
   "outputs": [
    {
     "ename": "NameError",
     "evalue": "name 'json' is not defined",
     "output_type": "error",
     "traceback": [
      "\u001b[1;31m---------------------------------------------------------------------------\u001b[0m",
      "\u001b[1;31mNameError\u001b[0m                                 Traceback (most recent call last)",
      "\u001b[1;32m~\\AppData\\Local\\Temp/ipykernel_91764/713676882.py\u001b[0m in \u001b[0;36m<module>\u001b[1;34m\u001b[0m\n\u001b[0;32m      1\u001b[0m \u001b[1;31m# GET /scilab_xcos_model\u001b[0m\u001b[1;33m\u001b[0m\u001b[1;33m\u001b[0m\u001b[1;33m\u001b[0m\u001b[0m\n\u001b[1;32m----> 2\u001b[1;33m \u001b[0mreq\u001b[0m \u001b[1;33m=\u001b[0m \u001b[0mjson\u001b[0m\u001b[1;33m.\u001b[0m\u001b[0mloads\u001b[0m\u001b[1;33m(\u001b[0m\u001b[0mREQUEST\u001b[0m\u001b[1;33m)\u001b[0m\u001b[1;33m\u001b[0m\u001b[1;33m\u001b[0m\u001b[0m\n\u001b[0m\u001b[0;32m      3\u001b[0m \u001b[0margs\u001b[0m \u001b[1;33m=\u001b[0m \u001b[0mreq\u001b[0m\u001b[1;33m[\u001b[0m\u001b[1;34m'args'\u001b[0m\u001b[1;33m]\u001b[0m\u001b[1;33m\u001b[0m\u001b[1;33m\u001b[0m\u001b[0m\n\u001b[0;32m      4\u001b[0m \u001b[1;33m\u001b[0m\u001b[0m\n\u001b[0;32m      5\u001b[0m \u001b[1;31m# make sure there is an argument\u001b[0m\u001b[1;33m\u001b[0m\u001b[1;33m\u001b[0m\u001b[1;33m\u001b[0m\u001b[0m\n",
      "\u001b[1;31mNameError\u001b[0m: name 'json' is not defined"
     ]
    }
   ],
   "source": [
    "# GET /scilab_xcos_model\n",
    "req = json.loads(REQUEST)\n",
    "args = req['args']\n",
    "\n",
    "# make sure there is an argument\n",
    "if 'Amp' in args:\n",
    "    Amp = str(args['Amp'][0])\n",
    "else: \n",
    "    Amp = 1\n",
    "    \n",
    "if 'Freq' in args:\n",
    "    Freq = str(args['Freq'][0])\n",
    "else:\n",
    "    Freq = 1\n",
    "        \n",
    "# Execute the xcos model and fetch string array of output\n",
    "execString = (f'C:/Users/jdehart/AppData/Local/scilab-6.1.1/bin/Wscilex-cli -args {Amp} {Freq} -f \"C:/Users/jdehart/OneDrive - AVIAN/Documents/GitHub/jupyter_demos/API_Demo/models/scilab_sine2.sce\"  -nb')\n",
    "#print(execString)\n",
    "result = subprocess.run(execString, capture_output=True, text=True)\n",
    "print(result.stdout)\n",
    "print(result.stderr)"
   ]
  },
  {
   "cell_type": "code",
   "execution_count": null,
   "id": "8576a33f-7fe6-41b3-94b7-635e82cc2fe2",
   "metadata": {},
   "outputs": [],
   "source": []
  }
 ],
 "metadata": {
  "kernelspec": {
   "display_name": "Python 3 (ipykernel)",
   "language": "python",
   "name": "python3"
  },
  "language_info": {
   "codemirror_mode": {
    "name": "ipython",
    "version": 3
   },
   "file_extension": ".py",
   "mimetype": "text/x-python",
   "name": "python",
   "nbconvert_exporter": "python",
   "pygments_lexer": "ipython3",
   "version": "3.8.12"
  }
 },
 "nbformat": 4,
 "nbformat_minor": 5
}
