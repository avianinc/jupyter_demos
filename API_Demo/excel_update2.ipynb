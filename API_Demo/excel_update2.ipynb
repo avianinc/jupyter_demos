{
 "cells": [
  {
   "cell_type": "code",
   "execution_count": 4,
   "id": "4df744ee-0e93-45e2-8faa-ca6ff45b9ae7",
   "metadata": {},
   "outputs": [],
   "source": [
    "import xlwings as xw"
   ]
  },
  {
   "cell_type": "code",
   "execution_count": 15,
   "id": "d4525d25-50be-4d5e-9471-bb0233b59e99",
   "metadata": {},
   "outputs": [],
   "source": [
    "path = \"C:/Users/jdehart/Working/API_Demo/cost_model.xlsx\"\n",
    "app = xw.App(visible=False)\n",
    "wb = xw.Book(path) "
   ]
  },
  {
   "cell_type": "code",
   "execution_count": 16,
   "id": "0bdb8c82-c6d5-4c76-bdde-5e4ca9d2a9ea",
   "metadata": {},
   "outputs": [],
   "source": [
    "sheet = wb.sheets['Sheet1']"
   ]
  },
  {
   "cell_type": "code",
   "execution_count": 19,
   "id": "11260130-ba68-4cbb-8aae-9d0c4d8df44c",
   "metadata": {},
   "outputs": [],
   "source": [
    "sheet.range('A1').value = 10\n",
    "sheet.range('B1').value = 1\n",
    "sheet.range('C1').value = 1"
   ]
  },
  {
   "cell_type": "code",
   "execution_count": 20,
   "id": "973b52c4-f50a-42f3-b19f-917938f94835",
   "metadata": {},
   "outputs": [
    {
     "data": {
      "text/plain": [
       "12.0"
      ]
     },
     "execution_count": 20,
     "metadata": {},
     "output_type": "execute_result"
    }
   ],
   "source": [
    "sheet.range('D1').value"
   ]
  }
 ],
 "metadata": {
  "kernelspec": {
   "display_name": "Python 3 (ipykernel)",
   "language": "python",
   "name": "python3"
  },
  "language_info": {
   "codemirror_mode": {
    "name": "ipython",
    "version": 3
   },
   "file_extension": ".py",
   "mimetype": "text/x-python",
   "name": "python",
   "nbconvert_exporter": "python",
   "pygments_lexer": "ipython3",
   "version": "3.8.12"
  }
 },
 "nbformat": 4,
 "nbformat_minor": 5
}
