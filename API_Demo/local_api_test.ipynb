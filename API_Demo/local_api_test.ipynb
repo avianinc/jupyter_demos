{
 "cells": [
  {
   "cell_type": "markdown",
   "id": "58803b48-6c55-4ac2-8e14-64a398855d44",
   "metadata": {},
   "source": [
    "## Simple jupyter notebook used to create an API\n",
    "This is an example of a very simple API hosted directly from a jupyter notebook. The posibilities are quite interesting here...\n",
    "### See -> https://jupyter-kernel-gateway.readthedocs.io/en/latest/http-mode.html\n",
    "\n",
    "This notebook take and arugument of angle and converts to deg/radian<br>\n",
    "/convert_d2r - converts degrees to radians<br>\n",
    "/convert_r2d - converts radians to degrees<br>\n",
    "\n",
    "- Example call from cmd line --> jupyter kernelgateway --KernelGatewayApp.api='kernel_gateway.notebook_http' --KernelGatewayApp.seed_uri='C:/Users/jdehart/Working/API_Demo/local_api_test.ipynb' --port=10100\n",
    "- A call exeample from the browser --> http://127.0.0.1:10100/convert_r2d?angle=3.14159\n",
    "    - the returned result: {\"convertedAngle(degrees)\": 179.9998479605043}"
   ]
  },
  {
   "cell_type": "code",
   "execution_count": 23,
   "id": "1cb8eeb1-d781-4f02-87f9-2886108cea75",
   "metadata": {},
   "outputs": [],
   "source": [
    "import math\n",
    "import json\n",
    "import pandas as pd"
   ]
  },
  {
   "cell_type": "code",
   "execution_count": 24,
   "id": "52b4f4c7-66c0-4937-b181-e67922fe4318",
   "metadata": {},
   "outputs": [],
   "source": [
    "REQUEST = json.dumps({\n",
    "'path' : {},\n",
    "'args' : {}\n",
    "})"
   ]
  },
  {
   "cell_type": "markdown",
   "id": "4b96b126-0971-4423-8d4f-38185001e40a",
   "metadata": {},
   "source": [
    "This GET function converts from degrees to radians"
   ]
  },
  {
   "cell_type": "code",
   "execution_count": 25,
   "id": "05d5193e-f426-42e8-b19f-36a48b325fea",
   "metadata": {},
   "outputs": [
    {
     "name": "stdout",
     "output_type": "stream",
     "text": [
      "{\"convertedAngle(radians)\": null}\n"
     ]
    }
   ],
   "source": [
    "# GET /convert_d2r\n",
    "req = json.loads(REQUEST)\n",
    "args = req['args']\n",
    "\n",
    "if 'angle' not in args:\n",
    "  print(json.dumps({'convertedAngle(radians)': None}))\n",
    "else:\n",
    "  # Note the [0] when retrieving the argument.\n",
    "  # This is because you could potentially pass multiple angles.\n",
    "  angle = float(args['angle'][0])\n",
    "  converted = math.radians(angle)\n",
    "  print(json.dumps({'convertedAngle(radians)': converted}))"
   ]
  },
  {
   "cell_type": "markdown",
   "id": "3be7e4da-be87-46c1-81b6-43ceb217eb43",
   "metadata": {},
   "source": [
    "This GET function converts from degrees to radians"
   ]
  },
  {
   "cell_type": "code",
   "execution_count": 26,
   "id": "c33b1a28-cc11-4116-84e8-d494a3bbfab0",
   "metadata": {},
   "outputs": [
    {
     "name": "stdout",
     "output_type": "stream",
     "text": [
      "{\"convertedAngle(degrees)\": null}\n"
     ]
    }
   ],
   "source": [
    "# GET /convert_r2d\n",
    "req = json.loads(REQUEST)\n",
    "args = req['args']\n",
    "\n",
    "if 'angle' not in args:\n",
    "  print(json.dumps({'convertedAngle(degrees)': None}))\n",
    "else:\n",
    "  # Note the [0] when retrieving the argument.\n",
    "  # This is because you could potentially pass multiple angles.\n",
    "  angle = float(args['angle'][0])\n",
    "  converted = math.degrees(angle)\n",
    "  print(json.dumps({'convertedAngle(degrees)': converted}))"
   ]
  }
 ],
 "metadata": {
  "kernelspec": {
   "display_name": "Python 3 (ipykernel)",
   "language": "python",
   "name": "python3"
  },
  "language_info": {
   "codemirror_mode": {
    "name": "ipython",
    "version": 3
   },
   "file_extension": ".py",
   "mimetype": "text/x-python",
   "name": "python",
   "nbconvert_exporter": "python",
   "pygments_lexer": "ipython3",
   "version": "3.8.12"
  }
 },
 "nbformat": 4,
 "nbformat_minor": 5
}
