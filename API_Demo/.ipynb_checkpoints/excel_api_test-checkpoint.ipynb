{
 "cells": [
  {
   "cell_type": "markdown",
   "id": "b5a42b69-bf04-4003-b87b-398ffe15514b",
   "metadata": {},
   "source": [
    "# Cost Groups API model\n",
    "So for this example we build a small api application which exposes an excel file that has three arugment cells and a single formula cell. The model is then loaded into the api at run time and the user send api request with three costs `(cost_A, cost_B, and cost_C)`. The spreadsheet updates the formula cell based on the input arguments and then returns the `systemCost` as the sum of the three costs arguments.\n",
    "\n",
    "This example describes a business model where the Costing Group creates their cost model in their own way (using excel of course) and then exposes their models to the rest of the business... any team can then provide the allowable inputs a recieve an output of a cost.\n",
    "\n",
    "So what could we do next... what about building a complex regression model? This could be based on real or live data... we could have a call up `update` the model where the excel file is used for inout and the output is transformed into an regressed equation. The API could then only serve the regressed model to the customer... leving the excel files out of the loop. This would be great for analsys as one could access the cost model two ways... A) continouus calls to the API within a study... or B) get the regression model in closed form from the API and insert into the analysis... super cool :)"
   ]
  },
  {
   "cell_type": "code",
   "execution_count": 23,
   "id": "17bd4f79-27b6-4c90-a497-4b4d452c5819",
   "metadata": {},
   "outputs": [],
   "source": [
    "import math\n",
    "import json\n",
    "import pandas as pd\n",
    "import xlwings as xw\n",
    "path = \"C:/Users/jdehart/Working/API_Demo/cost_model.xlsx\"\n",
    "#app = xw.App(visible=False)\n",
    "wb = xw.Book(path)\n",
    "sheet = wb.sheets['Sheet1']"
   ]
  },
  {
   "cell_type": "code",
   "execution_count": 21,
   "id": "4593bbe0-9c4e-4190-91fd-9c47286f6d7d",
   "metadata": {},
   "outputs": [],
   "source": [
    "REQUEST = json.dumps({\n",
    "'path' : {},\n",
    "'args' : {}\n",
    "})"
   ]
  },
  {
   "cell_type": "code",
   "execution_count": 22,
   "id": "c33009e1-d301-4cc7-aa1c-22c2d96cd34f",
   "metadata": {},
   "outputs": [
    {
     "name": "stdout",
     "output_type": "stream",
     "text": [
      "{\"systemCost\": null}\n"
     ]
    }
   ],
   "source": [
    "# GET /cost_model_A\n",
    "req = json.loads(REQUEST)\n",
    "args = req['args']\n",
    "\n",
    "if 'cost_A' not in args:\n",
    "  print(json.dumps({'systemCost': None}))\n",
    "else:\n",
    "  # Note the [0] when retrieving the argument.\n",
    "  # This is because you could potentially pass multiple angles.\n",
    "  if 'cost_A' in args:\n",
    "    sheet.range('A1').value = float(args['cost_A'][0]) \n",
    "  if 'cost_B' in args:\n",
    "    sheet.range('B1').value = float(args['cost_B'][0])\n",
    "  if 'cost_C' in args:\n",
    "    sheet.range('C1').value = float(args['cost_C'][0]) \n",
    "  costed = sheet.range('D1').value\n",
    "  print(json.dumps({'systemCost': costed}))"
   ]
  },
  {
   "cell_type": "code",
   "execution_count": null,
   "id": "147f07cc-d145-48e9-8155-10b77d6c9bd5",
   "metadata": {},
   "outputs": [],
   "source": []
  }
 ],
 "metadata": {
  "kernelspec": {
   "display_name": "Python 3 (ipykernel)",
   "language": "python",
   "name": "python3"
  },
  "language_info": {
   "codemirror_mode": {
    "name": "ipython",
    "version": 3
   },
   "file_extension": ".py",
   "mimetype": "text/x-python",
   "name": "python",
   "nbconvert_exporter": "python",
   "pygments_lexer": "ipython3",
   "version": "3.8.12"
  }
 },
 "nbformat": 4,
 "nbformat_minor": 5
}
