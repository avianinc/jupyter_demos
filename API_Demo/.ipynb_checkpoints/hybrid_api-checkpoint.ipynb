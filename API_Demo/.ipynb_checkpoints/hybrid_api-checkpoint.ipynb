{
 "cells": [
  {
   "cell_type": "markdown",
   "id": "6b1d3985-d267-4fce-b637-1ae40e19a315",
   "metadata": {},
   "source": [
    "Example Startup: jupyter kernelgateway --KernelGatewayApp.api='kernel_gateway.notebook_http' --KernelGatewayApp.seed_uri='C:/Users/jdehart/Documents/GitHub/jupyter_demos/API_Demo/\n",
    "hybrid_api.ipynb' --port=10102\n",
    "\n",
    "Example Call: http://127.0.0.1:10102/scilab_random_numb?seed=5"
   ]
  },
  {
   "cell_type": "code",
   "execution_count": 3,
   "id": "48f6398e-70af-4001-9469-93fe475f5d5a",
   "metadata": {},
   "outputs": [],
   "source": [
    "import math\n",
    "import json\n",
    "import pandas as pd\n",
    "import subprocess"
   ]
  },
  {
   "cell_type": "code",
   "execution_count": 4,
   "id": "5b111d5d-e9ac-4246-b9af-e69e756f3cfd",
   "metadata": {},
   "outputs": [],
   "source": [
    "REQUEST = json.dumps({\n",
    "'path' : {},\n",
    "'args' : {}\n",
    "})"
   ]
  },
  {
   "cell_type": "code",
   "execution_count": 38,
   "id": "658af942-27ce-4ace-917e-d23c2dc4d5fb",
   "metadata": {},
   "outputs": [
    {
     "name": "stdout",
     "output_type": "stream",
     "text": [
      "Random number = \n",
      "   0.1748203\n",
      "\n",
      "\n",
      "User defined seed = 5\n"
     ]
    }
   ],
   "source": [
    "# GET /scilab_random_numb\n",
    "req = json.loads(REQUEST)\n",
    "args = req['args']\n",
    "\n",
    "# make sure there is an argument\n",
    "if 'seed' in args:\n",
    "    seed = str(args['seed'][0])\n",
    "else: \n",
    "    seed = 5\n",
    "\n",
    "execString = (f'C:/Users/jdehart/AppData/Local/scilab-6.1.1/bin/scilex.exe -e \"rand(\"\"seed\"\",{seed}); disp(rand()); exit;\" -nb')\n",
    "#print(execString)\n",
    "result = subprocess.run(execString, capture_output=True, text=True)\n",
    "print('Random number = ' + result.stdout)\n",
    "print(result.stderr)\n",
    "print(f'User defined seed = {seed}')"
   ]
  },
  {
   "cell_type": "code",
   "execution_count": null,
   "id": "c21ee461-d86f-4417-9f3f-faf614fc45e5",
   "metadata": {},
   "outputs": [],
   "source": []
  }
 ],
 "metadata": {
  "kernelspec": {
   "display_name": "Python 3 (ipykernel)",
   "language": "python",
   "name": "python3"
  },
  "language_info": {
   "codemirror_mode": {
    "name": "ipython",
    "version": 3
   },
   "file_extension": ".py",
   "mimetype": "text/x-python",
   "name": "python",
   "nbconvert_exporter": "python",
   "pygments_lexer": "ipython3",
   "version": "3.8.12"
  }
 },
 "nbformat": 4,
 "nbformat_minor": 5
}
