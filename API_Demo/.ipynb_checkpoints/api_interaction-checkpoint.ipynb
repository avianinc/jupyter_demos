{
 "cells": [
  {
   "cell_type": "markdown",
   "id": "03d40a98-1075-46d3-88cf-a679c111ab68",
   "metadata": {},
   "source": [
    "# API Interaction\n",
    "We will not want to manually build the URL and call the API from the browser as previously shown. Here are a few examples of how to progrmatically build the URL and call the API directly from Python. Addtionally, Jupyter Lab has built in widgets that make it easy to create simple UIs for interaction with the API."
   ]
  },
  {
   "cell_type": "markdown",
   "id": "069d17cb-610c-43a2-aac0-ff08b5924933",
   "metadata": {},
   "source": [
    "Initially lets just call the API from python and print the output..."
   ]
  },
  {
   "cell_type": "code",
   "execution_count": 2,
   "id": "90146327-9606-4982-908e-ffeb44f22e7a",
   "metadata": {},
   "outputs": [
    {
     "name": "stdout",
     "output_type": "stream",
     "text": [
      "{\"convertedAngle(degrees)\": 179.9998479605043}\n",
      "\n"
     ]
    }
   ],
   "source": [
    "import requests\n",
    "response_API = requests.get('http://127.0.0.1:10100/convert_r2d?angle=3.14159')\n",
    "print(response_API.text)"
   ]
  },
  {
   "cell_type": "markdown",
   "id": "856c6ac9-8105-407c-befc-be5ef2b9b332",
   "metadata": {},
   "source": [
    "Now lets build the URL with a variable that can be changed by a simple interactive widget..."
   ]
  },
  {
   "cell_type": "code",
   "execution_count": 11,
   "id": "58930619-72f8-4cee-848b-ac646a3b0fa7",
   "metadata": {},
   "outputs": [
    {
     "data": {
      "application/vnd.jupyter.widget-view+json": {
       "model_id": "7405f526ec34430a96fc01dde2b1d6f3",
       "version_major": 2,
       "version_minor": 0
      },
      "text/plain": [
       "interactive(children=(FloatSlider(value=3.141592653589793, description='x', max=6.283185307179586), Output()),…"
      ]
     },
     "metadata": {},
     "output_type": "display_data"
    }
   ],
   "source": [
    "import math\n",
    "from ipywidgets import interact\n",
    "@interact(x=(0, 2*math.pi))\n",
    "def double_number(x):\n",
    "    api_call = f'http://127.0.0.1:10100/convert_r2d?angle={x}'\n",
    "    response_API = requests.get(api_call)\n",
    "    print(response_API.text)"
   ]
  },
  {
   "cell_type": "markdown",
   "id": "8f9ab13d-ae8c-44fb-a718-31d96d6b6fe0",
   "metadata": {},
   "source": [
    "And finally to show off... lets interact wiht the excel cost models 3 input variables at the same time..."
   ]
  },
  {
   "cell_type": "code",
   "execution_count": 19,
   "id": "e437bd6b-dfa0-4f47-b5b8-7e598f7bd420",
   "metadata": {},
   "outputs": [
    {
     "data": {
      "application/vnd.jupyter.widget-view+json": {
       "model_id": "ae46f3b0a4c9452a938bf532bdf249f8",
       "version_major": 2,
       "version_minor": 0
      },
      "text/plain": [
       "interactive(children=(FloatSlider(value=5.0, description='a', max=10.0, step=0.01), FloatSlider(value=5.0, des…"
      ]
     },
     "metadata": {},
     "output_type": "display_data"
    }
   ],
   "source": [
    "from ipywidgets import interact, interactive, fixed, interact_manual\n",
    "\n",
    "def cost_func(a,b,c):\n",
    "    api_call = f'http://127.0.0.1:10101/cost_model?cost_A={a}&cost_B={b}&cost_C={c}'\n",
    "    response_API = requests.get(api_call)\n",
    "    return response_API.text\n",
    "\n",
    "interact(cost_func, a=(0,10,.01), b=(0,10,.01), c=(0,10,.01));"
   ]
  }
 ],
 "metadata": {
  "kernelspec": {
   "display_name": "Python 3 (ipykernel)",
   "language": "python",
   "name": "python3"
  },
  "language_info": {
   "codemirror_mode": {
    "name": "ipython",
    "version": 3
   },
   "file_extension": ".py",
   "mimetype": "text/x-python",
   "name": "python",
   "nbconvert_exporter": "python",
   "pygments_lexer": "ipython3",
   "version": "3.8.12"
  }
 },
 "nbformat": 4,
 "nbformat_minor": 5
}
