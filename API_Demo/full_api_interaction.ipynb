{
 "cells": [
  {
   "cell_type": "markdown",
   "id": "03d40a98-1075-46d3-88cf-a679c111ab68",
   "metadata": {},
   "source": [
    "# API Interaction\n",
    "We will not want to manually build the URL and call the API from the browser as previously shown. Here are a few examples of how to progrmatically build the URL and call the API directly from Python. Addtionally, Jupyter Lab has built in widgets that make it easy to create simple UIs for interaction with the API."
   ]
  },
  {
   "cell_type": "markdown",
   "id": "069d17cb-610c-43a2-aac0-ff08b5924933",
   "metadata": {},
   "source": [
    "---\n",
    "Initially lets just call the API from python and print the output..."
   ]
  },
  {
   "cell_type": "code",
   "execution_count": 7,
   "id": "90146327-9606-4982-908e-ffeb44f22e7a",
   "metadata": {},
   "outputs": [
    {
     "name": "stdout",
     "output_type": "stream",
     "text": [
      "{\"convertedAngle(degrees)\": 179.9998479605043}\n",
      "\n"
     ]
    }
   ],
   "source": [
    "import requests\n",
    "response_API = requests.get('http://127.0.0.1:10100/convert_r2d?angle=3.14159')\n",
    "print(response_API.text)\n",
    "x = response_API.text"
   ]
  },
  {
   "cell_type": "code",
   "execution_count": 8,
   "id": "7c087299-460a-4038-92c6-00774662d9eb",
   "metadata": {},
   "outputs": [
    {
     "data": {
      "text/plain": [
       "'{\"convertedAngle(degrees)\": 179.9998479605043}\\n'"
      ]
     },
     "execution_count": 8,
     "metadata": {},
     "output_type": "execute_result"
    }
   ],
   "source": [
    "x"
   ]
  },
  {
   "cell_type": "markdown",
   "id": "856c6ac9-8105-407c-befc-be5ef2b9b332",
   "metadata": {},
   "source": [
    "---\n",
    "Now lets build the URL with a variable that can be changed by a simple interactive widget..."
   ]
  },
  {
   "cell_type": "code",
   "execution_count": 2,
   "id": "58930619-72f8-4cee-848b-ac646a3b0fa7",
   "metadata": {},
   "outputs": [
    {
     "data": {
      "application/vnd.jupyter.widget-view+json": {
       "model_id": "777fa14243cd4405a4b0d75c72652dac",
       "version_major": 2,
       "version_minor": 0
      },
      "text/plain": [
       "interactive(children=(FloatSlider(value=3.141592653589793, description='x', max=6.283185307179586), Output()),…"
      ]
     },
     "metadata": {},
     "output_type": "display_data"
    }
   ],
   "source": [
    "import math\n",
    "import requests\n",
    "from ipywidgets import interact\n",
    "@interact(x=(0, 2*math.pi))\n",
    "def double_number(x):\n",
    "    api_call = f'http://127.0.0.1:10100/convert_r2d?angle={x}'\n",
    "    response_API = requests.get(api_call)\n",
    "    print(response_API.text)"
   ]
  },
  {
   "cell_type": "markdown",
   "id": "8f9ab13d-ae8c-44fb-a718-31d96d6b6fe0",
   "metadata": {},
   "source": [
    "---\n",
    "and to show off... lets interact wiht the excel cost models 3 input variables at the same time..."
   ]
  },
  {
   "cell_type": "code",
   "execution_count": 3,
   "id": "e437bd6b-dfa0-4f47-b5b8-7e598f7bd420",
   "metadata": {},
   "outputs": [
    {
     "data": {
      "application/vnd.jupyter.widget-view+json": {
       "model_id": "d4e62d2eff4b45c58efb1daf86f66fd7",
       "version_major": 2,
       "version_minor": 0
      },
      "text/plain": [
       "interactive(children=(FloatSlider(value=5.0, description='a', max=10.0, step=0.01), FloatSlider(value=5.0, des…"
      ]
     },
     "metadata": {},
     "output_type": "display_data"
    }
   ],
   "source": [
    "from ipywidgets import interact, interactive, fixed, interact_manual\n",
    "import requests\n",
    "\n",
    "def cost_func(a,b,c):\n",
    "    api_call = f'http://127.0.0.1:10100/cost_model_A?cost_A={a}&cost_B={b}&cost_C={c}'\n",
    "    response_API = requests.get(api_call)\n",
    "    return response_API.text\n",
    "\n",
    "interact(cost_func, a=(0,10,.01), b=(0,10,.01), c=(0,10,.01));"
   ]
  },
  {
   "cell_type": "markdown",
   "id": "782e04c1-6d7e-4ee7-9376-d95d184c91d6",
   "metadata": {},
   "source": [
    "---\n",
    "Now lets interact with a program through the API... this example calls Scilab, sets a seed, returns a random number, and closes scilab all from an API call... "
   ]
  },
  {
   "cell_type": "code",
   "execution_count": 4,
   "id": "2ba6d5d1-1241-4914-8f0c-1faf558e32e7",
   "metadata": {},
   "outputs": [
    {
     "data": {
      "application/vnd.jupyter.widget-view+json": {
       "model_id": "882fd2bd39dd432d8aed1dd0429fd490",
       "version_major": 2,
       "version_minor": 0
      },
      "text/plain": [
       "interactive(children=(IntSlider(value=50, description='seed'), Output()), _dom_classes=('widget-interact',))"
      ]
     },
     "metadata": {},
     "output_type": "display_data"
    }
   ],
   "source": [
    "from ipywidgets import interact, interactive, fixed, interact_manual\n",
    "import requests\n",
    "\n",
    "@interact(seed=(0, 100, 1))\n",
    "def sci_random(seed):\n",
    "    api_call = f'http://127.0.0.1:10100/scilab_random_numb?seed={seed}'\n",
    "    response_API = requests.get(api_call)\n",
    "    return print(response_API.text)"
   ]
  },
  {
   "cell_type": "markdown",
   "id": "164e0227-b7f2-4896-8a31-3499d26796c8",
   "metadata": {},
   "source": [
    "---\n",
    "And now for the `coup de grace` lets call a Xcos model from scilab, modify the prameters, return some data, and plot it here :)"
   ]
  },
  {
   "cell_type": "code",
   "execution_count": 9,
   "id": "5cc0937a-db85-4f56-9836-51c684661a84",
   "metadata": {},
   "outputs": [
    {
     "data": {
      "application/vnd.jupyter.widget-view+json": {
       "model_id": "c1f3813f1fb24493a047317ee29fdfad",
       "version_major": 2,
       "version_minor": 0
      },
      "text/plain": [
       "Text(value='', description='Amplitude')"
      ]
     },
     "metadata": {},
     "output_type": "display_data"
    },
    {
     "data": {
      "application/vnd.jupyter.widget-view+json": {
       "model_id": "4a42dbab5caa4f4d873c22461f8b9ab1",
       "version_major": 2,
       "version_minor": 0
      },
      "text/plain": [
       "Text(value='', description='Frequency')"
      ]
     },
     "metadata": {},
     "output_type": "display_data"
    },
    {
     "data": {
      "application/vnd.jupyter.widget-view+json": {
       "model_id": "859806b4a7684dc0a87d798a35acbbcf",
       "version_major": 2,
       "version_minor": 0
      },
      "text/plain": [
       "Button(description='Run Model', style=ButtonStyle())"
      ]
     },
     "metadata": {},
     "output_type": "display_data"
    }
   ],
   "source": [
    "import requests\n",
    "import ipywidgets as widgets\n",
    "import matplotlib.pyplot as plt\n",
    "import numpy as np\n",
    "\n",
    "text_amp=widgets.Text(description=\"Amplitude\")\n",
    "display(text_amp)\n",
    "text_freq=widgets.Text(description=\"Frequency\")\n",
    "display(text_freq)\n",
    "btn = widgets.Button(description=\"Run Model\")\n",
    "display(btn)\n",
    "def runModel(b):\n",
    "    amp=int(text_amp.value)\n",
    "    freq=int(text_freq.value)\n",
    "    api_call = f'http://127.0.0.1:10100/scilab_xcos_model?Amp={amp}&Freq={freq}'\n",
    "    response_API = requests.get(api_call)\n",
    "    dat = response_API.text\n",
    "    x = np.array(dat.replace(\"\\n\",\"\").split(\" \"))\n",
    "    x = [var for var in x if var]\n",
    "    x = np.array(x).astype(np.float64)\n",
    "    #print(x)\n",
    "    plt.plot(x)\n",
    "btn.on_click(runModel)"
   ]
  },
  {
   "cell_type": "code",
   "execution_count": null,
   "id": "8e04ecd6-e2b4-4711-b4af-08b92b93500d",
   "metadata": {},
   "outputs": [],
   "source": [
    "Access a software API...\n",
    "MagicDraw...  teamwork cloud..."
   ]
  }
 ],
 "metadata": {
  "kernelspec": {
   "display_name": "Python 3 (ipykernel)",
   "language": "python",
   "name": "python3"
  },
  "language_info": {
   "codemirror_mode": {
    "name": "ipython",
    "version": 3
   },
   "file_extension": ".py",
   "mimetype": "text/x-python",
   "name": "python",
   "nbconvert_exporter": "python",
   "pygments_lexer": "ipython3",
   "version": "3.8.12"
  }
 },
 "nbformat": 4,
 "nbformat_minor": 5
}
