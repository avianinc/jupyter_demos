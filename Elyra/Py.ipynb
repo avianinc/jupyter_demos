{
 "cells": [
  {
   "cell_type": "code",
   "execution_count": 1,
   "id": "cb3f928c-50a6-4e3f-8d3f-7ba75f7201df",
   "metadata": {
    "execution": {
     "iopub.execute_input": "2021-12-03T00:43:51.774433Z",
     "iopub.status.busy": "2021-12-03T00:43:51.773435Z",
     "iopub.status.idle": "2021-12-03T00:43:51.788434Z",
     "shell.execute_reply": "2021-12-03T00:43:51.789438Z"
    },
    "papermill": {
     "duration": 0.032485,
     "end_time": "2021-12-03T00:43:51.789438",
     "exception": false,
     "start_time": "2021-12-03T00:43:51.756953",
     "status": "completed"
    },
    "tags": []
   },
   "outputs": [],
   "source": [
    "x = 5"
   ]
  },
  {
   "cell_type": "code",
   "execution_count": 2,
   "id": "23f1eb36-6b40-4556-96cd-538fa27dafd9",
   "metadata": {
    "execution": {
     "iopub.execute_input": "2021-12-03T00:43:51.813434Z",
     "iopub.status.busy": "2021-12-03T00:43:51.812443Z",
     "iopub.status.idle": "2021-12-03T00:43:51.820434Z",
     "shell.execute_reply": "2021-12-03T00:43:51.820434Z"
    },
    "papermill": {
     "duration": 0.022,
     "end_time": "2021-12-03T00:43:51.821434",
     "exception": false,
     "start_time": "2021-12-03T00:43:51.799434",
     "status": "completed"
    },
    "tags": []
   },
   "outputs": [
    {
     "name": "stdout",
     "output_type": "stream",
     "text": [
      "5\n"
     ]
    }
   ],
   "source": [
    "print(x)"
   ]
  },
  {
   "cell_type": "code",
   "execution_count": null,
   "id": "73086a87-a9e8-4edf-a84a-e9405ac4a60a",
   "metadata": {
    "papermill": {
     "duration": 0.009824,
     "end_time": "2021-12-03T00:43:51.840434",
     "exception": false,
     "start_time": "2021-12-03T00:43:51.830610",
     "status": "completed"
    },
    "tags": []
   },
   "outputs": [],
   "source": []
  }
 ],
 "metadata": {
  "kernelspec": {
   "display_name": "Python 3 (ipykernel)",
   "language": "python",
   "name": "python3"
  },
  "language_info": {
   "codemirror_mode": {
    "name": "ipython",
    "version": 3
   },
   "file_extension": ".py",
   "mimetype": "text/x-python",
   "name": "python",
   "nbconvert_exporter": "python",
   "pygments_lexer": "ipython3",
   "version": "3.8.12"
  },
  "papermill": {
   "default_parameters": {},
   "duration": 2.689201,
   "end_time": "2021-12-03T00:43:52.066316",
   "environment_variables": {},
   "exception": null,
   "input_path": "C:\\Users\\jdehart\\OneDrive - AVIAN\\Documents\\GitHub\\jupyter_demos\\Elyra\\Py.ipynb",
   "output_path": "C:\\Users\\jdehart\\OneDrive - AVIAN\\Documents\\GitHub\\jupyter_demos\\Elyra\\Py.ipynb",
   "parameters": {},
   "start_time": "2021-12-03T00:43:49.377115",
   "version": "2.3.3"
  }
 },
 "nbformat": 4,
 "nbformat_minor": 5
}