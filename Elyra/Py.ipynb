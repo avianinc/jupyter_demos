{
 "cells": [
  {
   "cell_type": "code",
   "execution_count": 1,
   "id": "cb3f928c-50a6-4e3f-8d3f-7ba75f7201df",
   "metadata": {
    "execution": {
     "iopub.execute_input": "2021-11-15T21:08:52.795412Z",
     "iopub.status.busy": "2021-11-15T21:08:52.794357Z",
     "iopub.status.idle": "2021-11-15T21:08:52.813339Z",
     "shell.execute_reply": "2021-11-15T21:08:52.813339Z"
    },
    "papermill": {
     "duration": 0.033686,
     "end_time": "2021-11-15T21:08:52.813339",
     "exception": false,
     "start_time": "2021-11-15T21:08:52.779653",
     "status": "completed"
    },
    "tags": []
   },
   "outputs": [],
   "source": [
    "x = 5"
   ]
  },
  {
   "cell_type": "code",
   "execution_count": 2,
   "id": "23f1eb36-6b40-4556-96cd-538fa27dafd9",
   "metadata": {
    "execution": {
     "iopub.execute_input": "2021-11-15T21:08:52.834279Z",
     "iopub.status.busy": "2021-11-15T21:08:52.833291Z",
     "iopub.status.idle": "2021-11-15T21:08:52.842231Z",
     "shell.execute_reply": "2021-11-15T21:08:52.843228Z"
    },
    "papermill": {
     "duration": 0.020542,
     "end_time": "2021-11-15T21:08:52.843228",
     "exception": false,
     "start_time": "2021-11-15T21:08:52.822686",
     "status": "completed"
    },
    "tags": []
   },
   "outputs": [
    {
     "name": "stdout",
     "output_type": "stream",
     "text": [
      "5\n"
     ]
    }
   ],
   "source": [
    "print(x)"
   ]
  },
  {
   "cell_type": "code",
   "execution_count": null,
   "id": "73086a87-a9e8-4edf-a84a-e9405ac4a60a",
   "metadata": {
    "papermill": {
     "duration": 0.007535,
     "end_time": "2021-11-15T21:08:52.859184",
     "exception": false,
     "start_time": "2021-11-15T21:08:52.851649",
     "status": "completed"
    },
    "tags": []
   },
   "outputs": [],
   "source": []
  }
 ],
 "metadata": {
  "kernelspec": {
   "display_name": "Python 3 (ipykernel)",
   "language": "python",
   "name": "python3"
  },
  "language_info": {
   "codemirror_mode": {
    "name": "ipython",
    "version": 3
   },
   "file_extension": ".py",
   "mimetype": "text/x-python",
   "name": "python",
   "nbconvert_exporter": "python",
   "pygments_lexer": "ipython3",
   "version": "3.8.12"
  },
  "papermill": {
   "default_parameters": {},
   "duration": 2.976796,
   "end_time": "2021-11-15T21:08:53.078855",
   "environment_variables": {},
   "exception": null,
   "input_path": "C:\\Users\\jdehart\\Working\\Elyra\\Untitled.ipynb",
   "output_path": "C:\\Users\\jdehart\\Working\\Elyra\\Untitled.ipynb",
   "parameters": {},
   "start_time": "2021-11-15T21:08:50.102059",
   "version": "2.3.3"
  }
 },
 "nbformat": 4,
 "nbformat_minor": 5
}