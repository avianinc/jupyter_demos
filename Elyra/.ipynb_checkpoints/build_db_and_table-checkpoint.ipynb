{
 "cells": [
  {
   "cell_type": "code",
   "execution_count": 12,
   "id": "81e4e086-cf83-4316-b5f9-bc7599597693",
   "metadata": {},
   "outputs": [],
   "source": [
    "# simple python script that does nothing... just an example for the work flow\n",
    "\n",
    "import pandas as pd\n",
    "dat = pd.read_csv('data/dat_from_r.csv')\n",
    "\n",
    "# lots of good stuff can happen here :)\n",
    "df = pd.DataFrame(dat)\n",
    "\n",
    "# write the data to a file\n",
    "df.to_csv(\"data/dat_from_py.csv\")"
   ]
  },
  {
   "cell_type": "code",
   "execution_count": null,
   "id": "179f48e3-dff5-430e-bbc4-11376d7be891",
   "metadata": {},
   "outputs": [],
   "source": [
    "\n"
   ]
  }
 ],
 "metadata": {
  "kernelspec": {
   "display_name": "Python 3 (ipykernel)",
   "language": "python",
   "name": "python3"
  },
  "language_info": {
   "codemirror_mode": {
    "name": "ipython",
    "version": 3
   },
   "file_extension": ".py",
   "mimetype": "text/x-python",
   "name": "python",
   "nbconvert_exporter": "python",
   "pygments_lexer": "ipython3",
   "version": "3.8.12"
  }
 },
 "nbformat": 4,
 "nbformat_minor": 5
}
