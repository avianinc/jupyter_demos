{
 "cells": [
  {
   "cell_type": "code",
   "execution_count": 8,
   "id": "e8713355-bff4-435f-b5e7-03c68c4cd7cf",
   "metadata": {},
   "outputs": [],
   "source": [
    "import os\n",
    "import pymysql\n",
    "import pandas as pd\n",
    "\n",
    "conn = pymysql.connect(host='localhost',\n",
    "                             user='root',\n",
    "                             port=int(3306),\n",
    "                             password='123456',\n",
    "                             db='test_1',\n",
    "                             cursorclass=pymysql.cursors.DictCursor)"
   ]
  },
  {
   "cell_type": "code",
   "execution_count": 9,
   "id": "f18150ff-ebdd-43ed-b132-5c77166ab72c",
   "metadata": {},
   "outputs": [],
   "source": [
    "# read data table in panda\n",
    "dat = pd.read_csv('data/dat_from_r.csv')"
   ]
  },
  {
   "cell_type": "code",
   "execution_count": 10,
   "id": "4951aa2c-d941-4b81-a61f-cfd5be4b3288",
   "metadata": {},
   "outputs": [
    {
     "data": {
      "text/html": [
       "<div>\n",
       "<style scoped>\n",
       "    .dataframe tbody tr th:only-of-type {\n",
       "        vertical-align: middle;\n",
       "    }\n",
       "\n",
       "    .dataframe tbody tr th {\n",
       "        vertical-align: top;\n",
       "    }\n",
       "\n",
       "    .dataframe thead th {\n",
       "        text-align: right;\n",
       "    }\n",
       "</style>\n",
       "<table border=\"1\" class=\"dataframe\">\n",
       "  <thead>\n",
       "    <tr style=\"text-align: right;\">\n",
       "      <th></th>\n",
       "      <th>Var2</th>\n",
       "      <th>Freq</th>\n",
       "    </tr>\n",
       "  </thead>\n",
       "  <tbody>\n",
       "    <tr>\n",
       "      <th>0</th>\n",
       "      <td>household</td>\n",
       "      <td>Min.   :     48</td>\n",
       "    </tr>\n",
       "    <tr>\n",
       "      <th>1</th>\n",
       "      <td>household</td>\n",
       "      <td>1st Qu.: 389236</td>\n",
       "    </tr>\n",
       "    <tr>\n",
       "      <th>2</th>\n",
       "      <td>household</td>\n",
       "      <td>Median : 764131</td>\n",
       "    </tr>\n",
       "    <tr>\n",
       "      <th>3</th>\n",
       "      <td>household</td>\n",
       "      <td>Mean   : 759565</td>\n",
       "    </tr>\n",
       "    <tr>\n",
       "      <th>4</th>\n",
       "      <td>household</td>\n",
       "      <td>3rd Qu.:1137444</td>\n",
       "    </tr>\n",
       "    <tr>\n",
       "      <th>...</th>\n",
       "      <td>...</td>\n",
       "      <td>...</td>\n",
       "    </tr>\n",
       "    <tr>\n",
       "      <th>79</th>\n",
       "      <td>decade_built</td>\n",
       "      <td>1st Qu.:1950</td>\n",
       "    </tr>\n",
       "    <tr>\n",
       "      <th>80</th>\n",
       "      <td>decade_built</td>\n",
       "      <td>Median :1970</td>\n",
       "    </tr>\n",
       "    <tr>\n",
       "      <th>81</th>\n",
       "      <td>decade_built</td>\n",
       "      <td>Mean   :1971</td>\n",
       "    </tr>\n",
       "    <tr>\n",
       "      <th>82</th>\n",
       "      <td>decade_built</td>\n",
       "      <td>3rd Qu.:1990</td>\n",
       "    </tr>\n",
       "    <tr>\n",
       "      <th>83</th>\n",
       "      <td>decade_built</td>\n",
       "      <td>Max.   :2010</td>\n",
       "    </tr>\n",
       "  </tbody>\n",
       "</table>\n",
       "<p>84 rows × 2 columns</p>\n",
       "</div>"
      ],
      "text/plain": [
       "             Var2               Freq\n",
       "0       household  Min.   :     48  \n",
       "1       household  1st Qu.: 389236  \n",
       "2       household  Median : 764131  \n",
       "3       household  Mean   : 759565  \n",
       "4       household  3rd Qu.:1137444  \n",
       "..            ...                ...\n",
       "79   decade_built     1st Qu.:1950  \n",
       "80   decade_built     Median :1970  \n",
       "81   decade_built     Mean   :1971  \n",
       "82   decade_built     3rd Qu.:1990  \n",
       "83   decade_built     Max.   :2010  \n",
       "\n",
       "[84 rows x 2 columns]"
      ]
     },
     "execution_count": 11,
     "metadata": {},
     "output_type": "execute_result"
    }
   ],
   "source": [
    "dat.to_sql('data_set', conn, if_exists='replace', index = False)  #????"
   ]
  },
  {
   "cell_type": "code",
   "execution_count": null,
   "id": "94bdf2a0-dc6e-4435-a2f5-26554bb3e48e",
   "metadata": {},
   "outputs": [
    {
     "data": {
      "text/plain": [
       "pandas.core.frame.DataFrame"
      ]
     },
     "execution_count": 13,
     "metadata": {},
     "output_type": "execute_result"
    }
   ],
   "source": []
  }
 ],
 "metadata": {
  "kernelspec": {
   "display_name": "Python 3 (ipykernel)",
   "language": "python",
   "name": "python3"
  },
  "language_info": {
   "codemirror_mode": {
    "name": "ipython",
    "version": 3
   },
   "file_extension": ".py",
   "mimetype": "text/x-python",
   "name": "python",
   "nbconvert_exporter": "python",
   "pygments_lexer": "ipython3",
   "version": "3.8.12"
  }
 },
 "nbformat": 4,
 "nbformat_minor": 5
}
