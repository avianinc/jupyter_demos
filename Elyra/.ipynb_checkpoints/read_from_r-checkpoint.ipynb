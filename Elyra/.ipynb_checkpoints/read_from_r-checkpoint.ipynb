{
 "cells": [
  {
   "cell_type": "markdown",
   "id": "0920afc9",
   "metadata": {
    "tags": [
     "papermill-error-cell-tag"
    ]
   },
   "source": [
    "<span style=\"color:red; font-family:Helvetica Neue, Helvetica, Arial, sans-serif; font-size:2em;\">An Exception was encountered at '<a href=\"#papermill-error-cell\">In [1]</a>'.</span>"
   ]
  },
  {
   "cell_type": "markdown",
   "id": "05ee2398",
   "metadata": {
    "tags": [
     "papermill-error-cell-tag"
    ]
   },
   "source": [
    "<span id=\"papermill-error-cell\" style=\"color:red; font-family:Helvetica Neue, Helvetica, Arial, sans-serif; font-size:2em;\">Execution using papermill encountered an exception here and stopped:</span>"
   ]
  },
  {
   "cell_type": "code",
   "execution_count": 1,
   "id": "81e4e086-cf83-4316-b5f9-bc7599597693",
   "metadata": {
    "papermill": {
     "duration": 1.30341,
     "end_time": "2021-12-03T19:12:22.202949",
     "exception": true,
     "start_time": "2021-12-03T19:12:20.899539",
     "status": "failed"
    },
    "tags": []
   },
   "outputs": [],
   "source": [
    "# simple python script that does nothing... just an example for the work flow\n",
    "\n",
    "import pandas as pd\n",
    "dat = pd.read_csv('data/dat_from_r.csv')\n",
    "\n",
    "# lots of good stuff can happen here :)\n",
    "df = pd.DataFrame(dat)\n",
    "\n",
    "# write the data to a file\n",
    "df.to_csv(\"data/dat_from_py.csv\", index=False)"
   ]
  }
 ],
 "metadata": {
  "kernelspec": {
   "display_name": "Python 3 (ipykernel)",
   "language": "python",
   "name": "python3"
  },
  "language_info": {
   "codemirror_mode": {
    "name": "ipython",
    "version": 3
   },
   "file_extension": ".py",
   "mimetype": "text/x-python",
   "name": "python",
   "nbconvert_exporter": "python",
   "pygments_lexer": "ipython3",
   "version": "3.8.12"
  },
  "papermill": {
   "default_parameters": {},
   "duration": 3.984072,
   "end_time": "2021-12-03T19:12:22.541952",
   "environment_variables": {},
   "exception": true,
   "input_path": "C:\\Users\\jdehart\\OneDrive - AVIAN/Documents/GitHub/jupyter_demos/Elyra/read_from_r.ipynb",
   "output_path": "C:\\Users\\jdehart\\OneDrive - AVIAN/Documents/GitHub/jupyter_demos/Elyra/read_from_r.ipynb",
   "parameters": {},
   "start_time": "2021-12-03T19:12:18.557880",
   "version": "2.3.3"
  }
 },
 "nbformat": 4,
 "nbformat_minor": 5
}
