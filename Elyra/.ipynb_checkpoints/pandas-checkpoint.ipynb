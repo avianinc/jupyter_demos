{
 "cells": [
  {
   "cell_type": "code",
   "execution_count": 1,
   "id": "0a6b4104-7ed9-4082-8b61-e62330f30d3b",
   "metadata": {
    "execution": {
     "iopub.execute_input": "2021-12-03T00:43:54.927610Z",
     "iopub.status.busy": "2021-12-03T00:43:54.926626Z",
     "iopub.status.idle": "2021-12-03T00:43:54.945610Z",
     "shell.execute_reply": "2021-12-03T00:43:54.945610Z"
    },
    "papermill": {
     "duration": 0.034979,
     "end_time": "2021-12-03T00:43:54.946609",
     "exception": false,
     "start_time": "2021-12-03T00:43:54.911630",
     "status": "completed"
    },
    "tags": []
   },
   "outputs": [],
   "source": [
    "x = 5"
   ]
  },
  {
   "cell_type": "code",
   "execution_count": null,
   "id": "7186282d-c522-4316-a0a7-d2e38f4fdba2",
   "metadata": {
    "papermill": {
     "duration": 0.00666,
     "end_time": "2021-12-03T00:43:54.961610",
     "exception": false,
     "start_time": "2021-12-03T00:43:54.954950",
     "status": "completed"
    },
    "tags": []
   },
   "outputs": [],
   "source": [
    "x"
   ]
  }
 ],
 "metadata": {
  "kernelspec": {
   "display_name": "Python 3 (ipykernel)",
   "language": "python",
   "name": "python3"
  },
  "language_info": {
   "codemirror_mode": {
    "name": "ipython",
    "version": 3
   },
   "file_extension": ".py",
   "mimetype": "text/x-python",
   "name": "python",
   "nbconvert_exporter": "python",
   "pygments_lexer": "ipython3",
   "version": "3.8.12"
  },
  "papermill": {
   "default_parameters": {},
   "duration": 2.838983,
   "end_time": "2021-12-03T00:43:55.196809",
   "environment_variables": {},
   "exception": null,
   "input_path": "C:\\Users\\jdehart\\OneDrive - AVIAN\\Documents\\GitHub\\jupyter_demos\\Elyra\\pandas.ipynb",
   "output_path": "C:\\Users\\jdehart\\OneDrive - AVIAN\\Documents\\GitHub\\jupyter_demos\\Elyra\\pandas.ipynb",
   "parameters": {},
   "start_time": "2021-12-03T00:43:52.357826",
   "version": "2.3.3"
  }
 },
 "nbformat": 4,
 "nbformat_minor": 5
}
