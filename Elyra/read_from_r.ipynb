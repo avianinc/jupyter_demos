{
 "cells": [
  {
   "cell_type": "code",
   "execution_count": 1,
   "id": "81e4e086-cf83-4316-b5f9-bc7599597693",
   "metadata": {
    "execution": {
     "iopub.execute_input": "2021-12-04T14:01:36.090386Z",
     "iopub.status.busy": "2021-12-04T14:01:36.090386Z",
     "iopub.status.idle": "2021-12-04T14:01:37.073450Z",
     "shell.execute_reply": "2021-12-04T14:01:37.073450Z"
    },
    "papermill": {
     "duration": 0.99596,
     "end_time": "2021-12-04T14:01:37.073450",
     "exception": false,
     "start_time": "2021-12-04T14:01:36.077490",
     "status": "completed"
    },
    "tags": []
   },
   "outputs": [],
   "source": [
    "# simple python script that does nothing... just an example for the work flow\n",
    "\n",
    "import pandas as pd\n",
    "dat = pd.read_csv('data/dat_from_r.csv')\n",
    "\n",
    "# lots of good stuff can happen here :)\n",
    "df = pd.DataFrame(dat)\n",
    "\n",
    "# write the data to a file\n",
    "df.to_csv(\"data/dat_from_py.csv\", index=False)"
   ]
  }
 ],
 "metadata": {
  "kernelspec": {
   "display_name": "Python 3 (ipykernel)",
   "language": "python",
   "name": "python3"
  },
  "language_info": {
   "codemirror_mode": {
    "name": "ipython",
    "version": 3
   },
   "file_extension": ".py",
   "mimetype": "text/x-python",
   "name": "python",
   "nbconvert_exporter": "python",
   "pygments_lexer": "ipython3",
   "version": "3.8.12"
  },
  "papermill": {
   "default_parameters": {},
   "duration": 3.627247,
   "end_time": "2021-12-04T14:01:37.307676",
   "environment_variables": {},
   "exception": null,
   "input_path": "C:\\Users\\jdehart\\OneDrive - AVIAN/Documents/GitHub/jupyter_demos/Elyra/read_from_r.ipynb",
   "output_path": "C:\\Users\\jdehart\\OneDrive - AVIAN/Documents/GitHub/jupyter_demos/Elyra/read_from_r.ipynb",
   "parameters": {},
   "start_time": "2021-12-04T14:01:33.680429",
   "version": "2.3.3"
  }
 },
 "nbformat": 4,
 "nbformat_minor": 5
}