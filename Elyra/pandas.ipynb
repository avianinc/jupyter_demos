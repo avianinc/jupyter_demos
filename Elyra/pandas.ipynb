{
 "cells": [
  {
   "cell_type": "code",
   "execution_count": 1,
   "id": "0a6b4104-7ed9-4082-8b61-e62330f30d3b",
   "metadata": {
    "execution": {
     "iopub.execute_input": "2021-12-03T03:53:57.099688Z",
     "iopub.status.busy": "2021-12-03T03:53:57.098711Z",
     "iopub.status.idle": "2021-12-03T03:53:57.119744Z",
     "shell.execute_reply": "2021-12-03T03:53:57.118743Z"
    },
    "papermill": {
     "duration": 0.033985,
     "end_time": "2021-12-03T03:53:57.119744",
     "exception": false,
     "start_time": "2021-12-03T03:53:57.085759",
     "status": "completed"
    },
    "tags": []
   },
   "outputs": [],
   "source": [
    "x = 5"
   ]
  },
  {
   "cell_type": "code",
   "execution_count": 2,
   "id": "7186282d-c522-4316-a0a7-d2e38f4fdba2",
   "metadata": {
    "execution": {
     "iopub.execute_input": "2021-12-03T03:53:57.144817Z",
     "iopub.status.busy": "2021-12-03T03:53:57.143815Z",
     "iopub.status.idle": "2021-12-03T03:53:57.148116Z",
     "shell.execute_reply": "2021-12-03T03:53:57.148815Z"
    },
    "papermill": {
     "duration": 0.020519,
     "end_time": "2021-12-03T03:53:57.148815",
     "exception": false,
     "start_time": "2021-12-03T03:53:57.128296",
     "status": "completed"
    },
    "tags": []
   },
   "outputs": [
    {
     "data": {
      "text/plain": [
       "5"
      ]
     },
     "execution_count": 2,
     "metadata": {},
     "output_type": "execute_result"
    }
   ],
   "source": [
    "x"
   ]
  }
 ],
 "metadata": {
  "kernelspec": {
   "display_name": "Python 3 (ipykernel)",
   "language": "python",
   "name": "python3"
  },
  "language_info": {
   "codemirror_mode": {
    "name": "ipython",
    "version": 3
   },
   "file_extension": ".py",
   "mimetype": "text/x-python",
   "name": "python",
   "nbconvert_exporter": "python",
   "pygments_lexer": "ipython3",
   "version": "3.8.12"
  },
  "papermill": {
   "default_parameters": {},
   "duration": 2.548416,
   "end_time": "2021-12-03T03:53:57.272728",
   "environment_variables": {},
   "exception": null,
   "input_path": "C:\\Users\\jdehart\\OneDrive - AVIAN/Documents/GitHub/jupyter_demos/Elyra/pandas.ipynb",
   "output_path": "C:\\Users\\jdehart\\OneDrive - AVIAN/Documents/GitHub/jupyter_demos/Elyra/pandas.ipynb",
   "parameters": {},
   "start_time": "2021-12-03T03:53:54.724312",
   "version": "2.3.3"
  }
 },
 "nbformat": 4,
 "nbformat_minor": 5
}