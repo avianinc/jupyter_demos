{
 "cells": [
  {
   "cell_type": "code",
   "execution_count": 32,
   "id": "e8713355-bff4-435f-b5e7-03c68c4cd7cf",
   "metadata": {},
   "outputs": [],
   "source": [
    "import os\n",
    "import pymysql.cursors\n",
    "import pandas as pd\n",
    "\n",
    "host = os.getenv('MYSQL_HOST') # or localhost\n",
    "port = os.getenv('MYSQL_PORT')\n",
    "user = os.getenv('MYSQL_USER')\n",
    "password = os.getenv('MYSQL_PASSWORD')\n",
    "database = os.getenv('MYSQL_DATABASE')\n",
    "\n",
    "conn = pymysql.connect(\n",
    "    host=\"localhost\",\n",
    "    port=int(3306),\n",
    "    user=\"root\",\n",
    "    passwd=\"123456\",\n",
    "    db=\"mysql\",\n",
    "    charset='utf8mb4')"
   ]
  },
  {
   "cell_type": "code",
   "execution_count": 34,
   "id": "f18150ff-ebdd-43ed-b132-5c77166ab72c",
   "metadata": {},
   "outputs": [],
   "source": [
    "try:\n",
    "    with conn.cursor() as cursor:\n",
    "        cursor.execute('CREATE DATABASE test_1')\n",
    " \n",
    "finally:\n",
    "    conn.close()"
   ]
  },
  {
   "cell_type": "code",
   "execution_count": 44,
   "id": "9463d8e1-bc74-4d2b-bb51-c6c4b1362f97",
   "metadata": {},
   "outputs": [],
   "source": [
    "connection = pymysql.connect(host='localhost',\n",
    "                             user='root',\n",
    "                             port=int(3306),\n",
    "                             password='123456',\n",
    "                             db='test_1',\n",
    "                             cursorclass=pymysql.cursors.DictCursor)"
   ]
  },
  {
   "cell_type": "code",
   "execution_count": 45,
   "id": "b829a861-5a9e-42d4-be4a-0cc1d0083228",
   "metadata": {},
   "outputs": [],
   "source": [
    "try:\n",
    "    with connection.cursor() as cursor:\n",
    "        sqlQuery = '''CREATE TABLE IF NOT EXISTS data_set(A Text, B TEXT);'''\n",
    "        cursor.execute(sqlQuery)\n",
    "finally:\n",
    "    connection.close()"
   ]
  }
 ],
 "metadata": {
  "kernelspec": {
   "display_name": "Python 3 (ipykernel)",
   "language": "python",
   "name": "python3"
  },
  "language_info": {
   "codemirror_mode": {
    "name": "ipython",
    "version": 3
   },
   "file_extension": ".py",
   "mimetype": "text/x-python",
   "name": "python",
   "nbconvert_exporter": "python",
   "pygments_lexer": "ipython3",
   "version": "3.8.12"
  }
 },
 "nbformat": 4,
 "nbformat_minor": 5
}
