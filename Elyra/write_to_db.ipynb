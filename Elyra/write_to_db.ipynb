{
 "cells": [
  {
   "cell_type": "markdown",
   "id": "1913c475",
   "metadata": {
    "tags": [
     "papermill-error-cell-tag"
    ]
   },
   "source": [
    "<span style=\"color:red; font-family:Helvetica Neue, Helvetica, Arial, sans-serif; font-size:2em;\">An Exception was encountered at '<a href=\"#papermill-error-cell\">In [1]</a>'.</span>"
   ]
  },
  {
   "cell_type": "markdown",
   "id": "b5c3d410",
   "metadata": {
    "tags": [
     "papermill-error-cell-tag"
    ]
   },
   "source": [
    "<span id=\"papermill-error-cell\" style=\"color:red; font-family:Helvetica Neue, Helvetica, Arial, sans-serif; font-size:2em;\">Execution using papermill encountered an exception here and stopped:</span>"
   ]
  },
  {
   "cell_type": "code",
   "execution_count": 1,
   "id": "e8713355-bff4-435f-b5e7-03c68c4cd7cf",
   "metadata": {
    "execution": {
     "iopub.execute_input": "2021-12-04T18:01:09.241858Z",
     "iopub.status.busy": "2021-12-04T18:01:09.241858Z",
     "iopub.status.idle": "2021-12-04T18:01:09.573619Z",
     "shell.execute_reply": "2021-12-04T18:01:09.572798Z"
    },
    "papermill": {
     "duration": 0.356262,
     "end_time": "2021-12-04T18:01:09.573619",
     "exception": true,
     "start_time": "2021-12-04T18:01:09.217357",
     "status": "failed"
    },
    "tags": []
   },
   "outputs": [
    {
     "ename": "ModuleNotFoundError",
     "evalue": "No module named 'pymysql'",
     "output_type": "error",
     "traceback": [
      "\u001b[1;31m---------------------------------------------------------------------------\u001b[0m",
      "\u001b[1;31mModuleNotFoundError\u001b[0m                       Traceback (most recent call last)",
      "\u001b[1;32m~\\AppData\\Local\\Temp/ipykernel_103248/1583774416.py\u001b[0m in \u001b[0;36m<module>\u001b[1;34m\u001b[0m\n\u001b[0;32m      1\u001b[0m \u001b[1;32mimport\u001b[0m \u001b[0mos\u001b[0m\u001b[1;33m\u001b[0m\u001b[1;33m\u001b[0m\u001b[0m\n\u001b[1;32m----> 2\u001b[1;33m \u001b[1;32mimport\u001b[0m \u001b[0mpymysql\u001b[0m\u001b[1;33m\u001b[0m\u001b[1;33m\u001b[0m\u001b[0m\n\u001b[0m\u001b[0;32m      3\u001b[0m \u001b[1;32mimport\u001b[0m \u001b[0mpandas\u001b[0m \u001b[1;32mas\u001b[0m \u001b[0mpd\u001b[0m\u001b[1;33m\u001b[0m\u001b[1;33m\u001b[0m\u001b[0m\n\u001b[0;32m      4\u001b[0m \u001b[1;33m\u001b[0m\u001b[0m\n\u001b[0;32m      5\u001b[0m conn = pymysql.connect(host='localhost',\n",
      "\u001b[1;31mModuleNotFoundError\u001b[0m: No module named 'pymysql'"
     ]
    }
   ],
   "source": [
    "import os\n",
    "import pymysql\n",
    "import pandas as pd\n",
    "\n",
    "conn = pymysql.connect(host='localhost',\n",
    "                             user='root',\n",
    "                             port=int(3306),\n",
    "                             password='123456',\n",
    "                             db='test_1',\n",
    "                             cursorclass=pymysql.cursors.DictCursor)"
   ]
  },
  {
   "cell_type": "code",
   "execution_count": null,
   "id": "f18150ff-ebdd-43ed-b132-5c77166ab72c",
   "metadata": {
    "papermill": {
     "duration": null,
     "end_time": null,
     "exception": null,
     "start_time": null,
     "status": "pending"
    },
    "tags": []
   },
   "outputs": [],
   "source": [
    "# read data table in panda\n",
    "dat = pd.read_csv('data/dat_from_r.csv')"
   ]
  },
  {
   "cell_type": "code",
   "execution_count": null,
   "id": "4951aa2c-d941-4b81-a61f-cfd5be4b3288",
   "metadata": {
    "papermill": {
     "duration": null,
     "end_time": null,
     "exception": null,
     "start_time": null,
     "status": "pending"
    },
    "tags": []
   },
   "outputs": [],
   "source": [
    "dat.to_sql('data_set', conn, if_exists='replace', index = False)  #????"
   ]
  },
  {
   "cell_type": "code",
   "execution_count": null,
   "id": "94bdf2a0-dc6e-4435-a2f5-26554bb3e48e",
   "metadata": {
    "papermill": {
     "duration": null,
     "end_time": null,
     "exception": null,
     "start_time": null,
     "status": "pending"
    },
    "tags": []
   },
   "outputs": [],
   "source": []
  }
 ],
 "metadata": {
  "kernelspec": {
   "display_name": "Python 3 (ipykernel)",
   "language": "python",
   "name": "python3"
  },
  "language_info": {
   "codemirror_mode": {
    "name": "ipython",
    "version": 3
   },
   "file_extension": ".py",
   "mimetype": "text/x-python",
   "name": "python",
   "nbconvert_exporter": "python",
   "pygments_lexer": "ipython3",
   "version": "3.8.12"
  },
  "papermill": {
   "default_parameters": {},
   "duration": 2.829002,
   "end_time": "2021-12-04T18:01:09.702621",
   "environment_variables": {},
   "exception": true,
   "input_path": "C:\\Users\\jdehart\\OneDrive - AVIAN/Documents/GitHub/jupyter_demos/elyra/write_to_db.ipynb",
   "output_path": "C:\\Users\\jdehart\\OneDrive - AVIAN/Documents/GitHub/jupyter_demos/elyra/write_to_db.ipynb",
   "parameters": {},
   "start_time": "2021-12-04T18:01:06.873619",
   "version": "2.3.3"
  }
 },
 "nbformat": 4,
 "nbformat_minor": 5
}