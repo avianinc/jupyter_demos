{
 "cells": [
  {
   "cell_type": "code",
   "execution_count": 3,
   "id": "3bc46c24-7fb6-4aa8-a633-8bc50d6296df",
   "metadata": {
    "extensions": {
     "jupyter_dashboards": {
      "activeView": "grid_default",
      "views": {
       "grid_default": {
        "col": null,
        "height": 2,
        "hidden": true,
        "row": null,
        "width": 2
       }
      }
     }
    },
    "tags": []
   },
   "outputs": [
    {
     "data": {
      "text/plain": [
       "Package Testing (6604731e-c909-4f82-b3b6-5ff5e4759004)\n"
      ]
     },
     "execution_count": 3,
     "metadata": {},
     "output_type": "execute_result"
    }
   ],
   "source": [
    "package Testing {\n",
    "    part PartA {\n",
    "        partB {}\n",
    "        partC {}\n",
    "    }\n",
    "    part PartD {\n",
    "        partB {}\n",
    "        partC {}\n",
    "    }\n",
    "}"
   ]
  },
  {
   "cell_type": "code",
   "execution_count": 4,
   "id": "a8e81bf9-e2ed-4bb9-817b-96e299831e02",
   "metadata": {
    "extensions": {
     "jupyter_dashboards": {
      "activeView": "grid_default",
      "views": {
       "grid_default": {
        "col": null,
        "height": 2,
        "hidden": true,
        "row": null,
        "width": 2
       }
      }
     }
    }
   },
   "outputs": [
    {
     "data": {
      "image/svg+xml": [
       "<?xml version=\"1.0\" encoding=\"UTF-8\" standalone=\"no\"?><svg xmlns=\"http://www.w3.org/2000/svg\" xmlns:xlink=\"http://www.w3.org/1999/xlink\" contentScriptType=\"application/ecmascript\" contentStyleType=\"text/css\" height=\"164px\" preserveAspectRatio=\"none\" style=\"width:229px;height:164px;\" version=\"1.1\" viewBox=\"0 0 229 164\" width=\"229px\" zoomAndPan=\"magnify\"><defs/><g><!--MD5=[fbc87193dbaf4d95561dea2c320d4a47]\n",
       "cluster E1--><a href=\"psysml:abb8eb50-1d51-49b5-9fc4-2436adc4003b\" target=\"_top\" title=\"psysml:abb8eb50-1d51-49b5-9fc4-2436adc4003b\" xlink:actuate=\"onRequest\" xlink:href=\"psysml:abb8eb50-1d51-49b5-9fc4-2436adc4003b\" xlink:show=\"new\" xlink:title=\"psysml:abb8eb50-1d51-49b5-9fc4-2436adc4003b\" xlink:type=\"simple\"><polygon fill=\"#FFFFFF\" points=\"16,6,74,6,81,29.6094,207,29.6094,207,152,16,152,16,6\" style=\"stroke: #000000; stroke-width: 1.5;\"/><line style=\"stroke: #000000; stroke-width: 1.5;\" x1=\"16\" x2=\"81\" y1=\"29.6094\" y2=\"29.6094\"/><text fill=\"#000000\" font-family=\"sans-serif\" font-size=\"14\" font-weight=\"bold\" lengthAdjust=\"spacingAndGlyphs\" textLength=\"52\" x=\"20\" y=\"22.5332\">Testing</text></a><!--MD5=[b4997ac47864f28c2f74865a473b2911]\n",
       "class E2--><a href=\"psysml:42e1f01c-d214-4f5d-980b-37b973439333\" target=\"_top\" title=\"psysml:42e1f01c-d214-4f5d-980b-37b973439333\" xlink:actuate=\"onRequest\" xlink:href=\"psysml:42e1f01c-d214-4f5d-980b-37b973439333\" xlink:show=\"new\" xlink:title=\"psysml:42e1f01c-d214-4f5d-980b-37b973439333\" xlink:type=\"simple\"><rect fill=\"#FFFFFF\" height=\"93.6953\" id=\"E2\" rx=\"10\" ry=\"10\" style=\"stroke: #383838; stroke-width: 1.5;\" width=\"62\" x=\"129\" y=\"42\"/><text fill=\"#000000\" font-family=\"sans-serif\" font-size=\"12\" font-style=\"italic\" lengthAdjust=\"spacingAndGlyphs\" textLength=\"35\" x=\"142.5\" y=\"59.457\">«part»</text><text fill=\"#000000\" font-family=\"sans-serif\" font-size=\"12\" lengthAdjust=\"spacingAndGlyphs\" textLength=\"29\" x=\"145.5\" y=\"74.5508\">PartA</text><line style=\"stroke: #383838; stroke-width: 1.5;\" x1=\"130\" x2=\"190\" y1=\"82.1875\" y2=\"82.1875\"/><text fill=\"#000000\" font-family=\"sans-serif\" font-size=\"11\" lengthAdjust=\"spacingAndGlyphs\" textLength=\"26\" x=\"135\" y=\"115.4424\">partB</text><text fill=\"#000000\" font-family=\"sans-serif\" font-size=\"11\" lengthAdjust=\"spacingAndGlyphs\" textLength=\"26\" x=\"135\" y=\"129.2783\">partC</text><line style=\"stroke: #383838; stroke-width: 1.0;\" x1=\"130\" x2=\"133\" y1=\"97.1055\" y2=\"97.1055\"/><text fill=\"#000000\" font-family=\"sans-serif\" font-size=\"11\" lengthAdjust=\"spacingAndGlyphs\" textLength=\"54\" x=\"133\" y=\"101.1064\">references</text><line style=\"stroke: #383838; stroke-width: 1.0;\" x1=\"187\" x2=\"190\" y1=\"97.1055\" y2=\"97.1055\"/></a><!--MD5=[09b614a08d8cba4a07c9adeb5e0fee81]\n",
       "class E3--><a href=\"psysml:09a160ca-4d77-4787-bd9a-dadbe796d2c0\" target=\"_top\" title=\"psysml:09a160ca-4d77-4787-bd9a-dadbe796d2c0\" xlink:actuate=\"onRequest\" xlink:href=\"psysml:09a160ca-4d77-4787-bd9a-dadbe796d2c0\" xlink:show=\"new\" xlink:title=\"psysml:09a160ca-4d77-4787-bd9a-dadbe796d2c0\" xlink:type=\"simple\"><rect fill=\"#FFFFFF\" height=\"93.6953\" id=\"E3\" rx=\"10\" ry=\"10\" style=\"stroke: #383838; stroke-width: 1.5;\" width=\"62\" x=\"32\" y=\"42\"/><text fill=\"#000000\" font-family=\"sans-serif\" font-size=\"12\" font-style=\"italic\" lengthAdjust=\"spacingAndGlyphs\" textLength=\"35\" x=\"45.5\" y=\"59.457\">«part»</text><text fill=\"#000000\" font-family=\"sans-serif\" font-size=\"12\" lengthAdjust=\"spacingAndGlyphs\" textLength=\"31\" x=\"47.5\" y=\"74.5508\">PartD</text><line style=\"stroke: #383838; stroke-width: 1.5;\" x1=\"33\" x2=\"93\" y1=\"82.1875\" y2=\"82.1875\"/><text fill=\"#000000\" font-family=\"sans-serif\" font-size=\"11\" lengthAdjust=\"spacingAndGlyphs\" textLength=\"26\" x=\"38\" y=\"115.4424\">partB</text><text fill=\"#000000\" font-family=\"sans-serif\" font-size=\"11\" lengthAdjust=\"spacingAndGlyphs\" textLength=\"26\" x=\"38\" y=\"129.2783\">partC</text><line style=\"stroke: #383838; stroke-width: 1.0;\" x1=\"33\" x2=\"36\" y1=\"97.1055\" y2=\"97.1055\"/><text fill=\"#000000\" font-family=\"sans-serif\" font-size=\"11\" lengthAdjust=\"spacingAndGlyphs\" textLength=\"54\" x=\"36\" y=\"101.1064\">references</text><line style=\"stroke: #383838; stroke-width: 1.0;\" x1=\"90\" x2=\"93\" y1=\"97.1055\" y2=\"97.1055\"/></a><!--MD5=[31f09c1906bd9f50f28cc5119f4416d9]\n",
       "@startuml\r\n",
       "skinparam monochrome true\r\n",
       "skinparam classbackgroundcolor white\r\n",
       "skinparam shadowing false\r\n",
       "skinparam wrapWidth 300\r\n",
       "hide circle\r\n",
       "\r\n",
       "package \"Testing\" as E1  [[psysml:abb8eb50-1d51-49b5-9fc4-2436adc4003b ]]  {\r\n",
       "comp usage \"PartA\" as E2  <<(T,blue) part>> [[psysml:42e1f01c-d214-4f5d-980b-37b973439333 ]] {\r\n",
       "- - references - -\r\n",
       "partB\r\n",
       "partC\r\n",
       "}\r\n",
       "comp usage \"PartD\" as E3  <<(T,blue) part>> [[psysml:09a160ca-4d77-4787-bd9a-dadbe796d2c0 ]] {\r\n",
       "- - references - -\r\n",
       "partB\r\n",
       "partC\r\n",
       "}\r\n",
       "}\r\n",
       "@enduml\r\n",
       "\n",
       "PlantUML version 1.2020.13(Sat Jun 13 08:26:38 EDT 2020)\n",
       "(EPL source distribution)\n",
       "Java Runtime: OpenJDK Runtime Environment\n",
       "JVM: OpenJDK 64-Bit Server VM\n",
       "Default Encoding: Cp1252\n",
       "Language: en\n",
       "Country: US\n",
       "--></g></svg>"
      ]
     },
     "execution_count": 4,
     "metadata": {},
     "output_type": "execute_result"
    }
   ],
   "source": [
    "%viz \"Testing\" --view TREE"
   ]
  },
  {
   "cell_type": "code",
   "execution_count": null,
   "id": "1c092a34-7468-4a01-97b3-caf7855cae7d",
   "metadata": {
    "extensions": {
     "jupyter_dashboards": {
      "activeView": "grid_default",
      "views": {
       "grid_default": {
        "col": null,
        "height": 2,
        "hidden": true,
        "row": null,
        "width": 2
       }
      }
     }
    }
   },
   "outputs": [],
   "source": []
  }
 ],
 "metadata": {
  "extensions": {
   "jupyter_dashboards": {
    "activeView": "grid_default",
    "version": 1,
    "views": {
     "grid_default": {
      "cellMargin": 2,
      "defaultCellHeight": 60,
      "maxColumns": 12,
      "name": "grid",
      "type": "grid"
     }
    }
   }
  },
  "kernelspec": {
   "display_name": "SysML",
   "language": "sysml",
   "name": "sysml"
  },
  "language_info": {
   "codemirror_mode": "sysml",
   "file_extension": ".sysml",
   "mimetype": "text/x-sysml",
   "name": "SysML",
   "pygments_lexer": "java",
   "version": "1.0.0"
  }
 },
 "nbformat": 4,
 "nbformat_minor": 5
}
